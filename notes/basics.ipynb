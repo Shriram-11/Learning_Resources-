{
 "cells": [
  {
   "attachments": {},
   "cell_type": "markdown",
   "metadata": {},
   "source": [
    "## Introduction\n",
    "\n",
    "Python is a high-level, interpreted programming language known for its simplicity and readability. It was created by **Guido van Rossum** and first released in 1991. Python emphasizes code readability with its clean syntax and uses indentation rather than braces for block structures, making it easy to write and understand. It supports multiple programming paradigms, including procedural, object-oriented, and functional programming styles.\n",
    "\n",
    "\n",
    "\n",
    "_**Note**:Indentation is really important in python as we dont make use of {} for blocks._\n",
    "\n",
    "## Why Python\n",
    "- Open Source\n",
    "- Easy to learn and understand the code\n",
    "- Expressive and Consice Code\n",
    "-  Multi-Purpose Language: Python is a versatile language used in various domains, including web development, data analysis, machine learning,  scientific computing, automation, and more. It provides extensive libraries and frameworks for different purposes.    \n",
    "- Cross- Platform Compatibility\n",
    "- Wide range of libraries for performing tasks\n",
    "- Great community support\n",
    "- Many Companies such as IBM, Slack, Google, EA Games use python\n"
   ]
  },
  {
   "attachments": {},
   "cell_type": "markdown",
   "metadata": {},
   "source": [
    "## **Tokens**\n",
    "Tokens in Python are the smallest units of meaningful code and are categorized into several types. Here’s a quick breakdown to include in your notes:\n",
    "\n",
    "### 1. **Keywords**\n",
    "   - Reserved words in Python that have a special meaning and cannot be used as variable names.\n",
    "   - Examples include `if`, `else`, `while`, `for`, `class`, `return`, and `try`.\n",
    "   \n",
    "### 2. **Identifiers**\n",
    "   - Names given to variables, functions, classes, and other objects.\n",
    "   - Rules: Must start with a letter or underscore, can’t use Python keywords, and are case-sensitive.\n",
    "\n",
    "### 3. **Literals**\n",
    "   - Fixed values assigned to variables or constants.\n",
    "   - Types:\n",
    "     - **String literals**: Enclosed in single, double, or triple quotes (e.g., `\"Hello\"`, `'World'`).\n",
    "     - **Numeric literals**: Include integers, floats, and complex numbers.\n",
    "     - **Boolean literals**: `True` and `False`.\n",
    "     - **Special literals**: `None` represents a null value.\n",
    "\n",
    "### 4. **Operators**\n",
    "   - Symbols used to perform operations on variables and values.\n",
    "   - Types:\n",
    "     - **Arithmetic**: `+`, `-`, `*`, `/`, etc.\n",
    "     - **Comparison**: `==`, `!=`, `>`, `<`, etc.\n",
    "     - **Logical**: `and`, `or`, `not`.\n",
    "     - **Assignment**: `=`, `+=`, `-=`, etc.\n",
    "     - **Bitwise**: `&`, `|`, `^`, `~`, etc.\n",
    "\n",
    "### 5. **Punctuation/Separators**\n",
    "   - Characters that structure and organize code.\n",
    "   - Examples include commas `,`, colons `:`, parentheses `()`, and brackets `[]`.\n",
    "\n",
    "## **Variables**\n",
    "Variables are used to store data values in memory. They are created when a value is assigned to them and are destroyed when they go out of scope.\n",
    "\n",
    "In Python, variable names must adhere to the following rules:\n",
    "\n",
    "1. Variable names must start with a letter or an underscore character.\n",
    "2. Subsequent characters in a variable name can be letters, numbers, or underscores.\n",
    "3. Variable names are case-sensitive, meaning \"myvar\" and \"MyVar\" are different variables.\n",
    "4. Variable names should be descriptive and not the same as any Python keywords or built-in functions, such as \"print\" or \"list\".\n",
    "5. Variable names should not start with a number.\n",
    "\n",
    "Here are some examples of valid variable names in Python:\n",
    "\n",
    "- my_variable\n",
    "- another_variable\n",
    "- variable1\n",
    "- _this_is_a_valid_variable_name\n",
    "\n",
    "\n",
    "And here are some examples of invalid variable names in Python:\n",
    "\n",
    "\n",
    "- 1variable  # Cannot start with a number\n",
    "- my-var    # Cannot use hyphens\n",
    "- class     # Cannot use Python keywords\n",
    "\n",
    "_**Note**: Same rules apply for function names as well_\n",
    "\n",
    "## **Datatypes**\n",
    "\n",
    "### **Integer (`int`)**\n",
    "   - An integer is a whole number, positive or negative, without a decimal point.\n",
    "   - Can be of any length, constrained only by the memory available.\n",
    "   - Common operations include arithmetic (`+`, `-`, `*`, `/`) and bitwise operations (`&`, `|`, `^`, `~`).\n",
    "   - **Example**:\n",
    "     ```python\n",
    "     age = 25\n",
    "     temperature = -15\n",
    "     print(type(age))  # Output: <class 'int'>\n",
    "     ```\n",
    "\n",
    "### **Float (`float`)**\n",
    "   - A float represents a number with a decimal point. It’s used for real numbers that require precision.\n",
    "   - Typically, floats are 64-bit, allowing representation of a wide range of decimal values.\n",
    "   - Supports arithmetic operations and rounding functions (`round()`, `math.floor()`, `math.ceil()`).\n",
    "   - **Example**:\n",
    "   ```python\n",
    "   pi = 3.14159\n",
    "   distance = -42.5\n",
    "   print(type(pi))  # Output: <class 'float'>\n",
    "   ```\n",
    "\n",
    "### **Boolean (`bool`)**\n",
    "   - A Boolean represents a logical value, either `True` or `False`.\n",
    "   - Booleans are a subtype of integers, where `True` is equivalent to `1` and `False` to `0`.\n",
    "   - Commonly used in conditional statements and comparisons.\n",
    "   - **Example**:\n",
    "     ```python\n",
    "     is_sunny = True\n",
    "     is_raining = False\n",
    "     print(type(is_sunny))  # Output: <class 'bool'>\n",
    "     ```\n",
    "\n",
    "### **String (`str`)**\n",
    "   - A string is an immutable sequence of characters, used to represent text.\n",
    "   - Strings are enclosed in single (`'...'`), double (`\"...\"`), or triple quotes (`'''...'''` or `\"\"\"...\"\"\"` for multi-line strings).\n",
    "   - Supports indexing, slicing, and many built-in methods like `.upper()`, `.lower()`, `.replace()`, `.find()`.\n",
    "   - **Example**:\n",
    "     ```python\n",
    "     greeting = \"Hello, World!\"\n",
    "     print(greeting[0])       # Output: H\n",
    "     print(greeting.upper())  # Output: HELLO, WORLD!\n",
    "     print(type(greeting))    # Output: <class 'str'>\n",
    "     ```\n",
    "**Note**:\n",
    "*To check the data type we can make use of the **type()** function.*\n",
    "\n"
   ]
  },
  {
   "cell_type": "code",
   "execution_count": 1,
   "metadata": {},
   "outputs": [
    {
     "name": "stdout",
     "output_type": "stream",
     "text": [
      "a: <class 'int'> \n",
      "b: <class 'float'> \n",
      "c: <class 'str'> \n",
      "d: <class 'str'> \n",
      "e: <class 'bool'>\n"
     ]
    }
   ],
   "source": [
    "a=10\n",
    "b=10.1\n",
    "c=\"Hello\"\n",
    "d='c'\n",
    "e=True\n",
    "print(\"a:\",type(a),\"\\nb:\",type(b),\"\\nc:\",type(c),\"\\nd:\",type(d),\"\\ne:\",type(e))\n"
   ]
  },
  {
   "cell_type": "markdown",
   "metadata": {},
   "source": [
    "1. String Concatenation: We can concatenate two or more strings using the '+' operator. For example:"
   ]
  },
  {
   "cell_type": "code",
   "execution_count": 2,
   "metadata": {},
   "outputs": [
    {
     "name": "stdout",
     "output_type": "stream",
     "text": [
      "Hello World\n"
     ]
    }
   ],
   "source": [
    "str1 = \"Hello\"\n",
    "str2 = \"World\"\n",
    "result = str1 + \" \" + str2\n",
    "print(result) # Output: \"Hello World\"\n"
   ]
  },
  {
   "cell_type": "markdown",
   "metadata": {},
   "source": [
    "2. String Length: We can find the length of a string using the len() function. For example:"
   ]
  },
  {
   "cell_type": "code",
   "execution_count": 3,
   "metadata": {},
   "outputs": [
    {
     "name": "stdout",
     "output_type": "stream",
     "text": [
      "11\n"
     ]
    }
   ],
   "source": [
    "string = \"Hello World\"\n",
    "print(len(string)) # Output: 11\n"
   ]
  },
  {
   "cell_type": "markdown",
   "metadata": {},
   "source": [
    "3. String Slicing: We can extract a part of a string using slicing.\n",
    "\n",
    "    General Syntax: **string[from_index : to_index : step_value]**\n",
    "    \n",
    "    For example:"
   ]
  },
  {
   "cell_type": "code",
   "execution_count": 4,
   "metadata": {},
   "outputs": [
    {
     "name": "stdout",
     "output_type": "stream",
     "text": [
      "Hello\n"
     ]
    }
   ],
   "source": [
    "string = \"Hello World\"\n",
    "print(string[0:5]) # Output: \"Hello\"\n"
   ]
  },
  {
   "cell_type": "markdown",
   "metadata": {},
   "source": [
    "4. String Formatting: We can format a string using placeholders. For example:"
   ]
  },
  {
   "cell_type": "code",
   "execution_count": 5,
   "metadata": {},
   "outputs": [
    {
     "name": "stdout",
     "output_type": "stream",
     "text": [
      "My name is John and I am 30 years old\n"
     ]
    }
   ],
   "source": [
    "name = \"John\"\n",
    "age = 30\n",
    "print(\"My name is {} and I am {} years old\".format(name, age))\n",
    "# Output: \"My name is John and I am 30 years old\"\n"
   ]
  },
  {
   "cell_type": "markdown",
   "metadata": {},
   "source": [
    "5. String Case Conversion: We can convert a string to upper or lower case using the upper() and lower() functions. For example:"
   ]
  },
  {
   "cell_type": "code",
   "execution_count": 6,
   "metadata": {},
   "outputs": [
    {
     "name": "stdout",
     "output_type": "stream",
     "text": [
      "HELLO WORLD\n",
      "hello world\n"
     ]
    }
   ],
   "source": [
    "string = \"Hello World\"\n",
    "print(string.upper()) # Output: \"HELLO WORLD\"\n",
    "print(string.lower()) # Output: \"hello world\"\n"
   ]
  },
  {
   "cell_type": "markdown",
   "metadata": {},
   "source": [
    "6. String Replace: We can replace a substring in a string using the replace() function. For example:"
   ]
  },
  {
   "cell_type": "code",
   "execution_count": 7,
   "metadata": {},
   "outputs": [
    {
     "name": "stdout",
     "output_type": "stream",
     "text": [
      "Hello Python\n"
     ]
    }
   ],
   "source": [
    "string = \"Hello World\"\n",
    "print(string.replace(\"World\", \"Python\")) # Output: \"Hello Python\"\n"
   ]
  },
  {
   "cell_type": "markdown",
   "metadata": {},
   "source": [
    "7. Use of operators '+' and '*'"
   ]
  },
  {
   "cell_type": "code",
   "execution_count": 8,
   "metadata": {},
   "outputs": [
    {
     "name": "stdout",
     "output_type": "stream",
     "text": [
      "hello hello \n",
      "hello i am shriram\n"
     ]
    }
   ],
   "source": [
    "a=\"hello \"\n",
    "b=\"i am shriram\"\n",
    "c=a+b\n",
    "print(a*2) #output: hellohello\n",
    "print(c)   #Output: hello i am shriram"
   ]
  },
  {
   "attachments": {},
   "cell_type": "markdown",
   "metadata": {},
   "source": [
    "### **Lists**\n",
    "A list is a mutable, ordered collection of items, meaning elements can be added, removed, or changed.\n",
    "\n",
    "Eg. list=[\"a\", \"b\", \"c\",1,2,2.1]\n",
    "\n",
    "The elements can be accessed by indexes. The list contain two types of indexes:\n",
    "- *forward index*: first element has index zero and last element has index n-1\n",
    "- *backward index*: They are negative indexes, last element has index -1 and first element has index -n\n",
    "\n",
    "To access list elements *list_name[index]*"
   ]
  },
  {
   "cell_type": "code",
   "execution_count": 9,
   "metadata": {},
   "outputs": [
    {
     "name": "stdout",
     "output_type": "stream",
     "text": [
      "1 3\n",
      "[1, 0, 3]\n",
      "[1, 0, 3]\n"
     ]
    }
   ],
   "source": [
    "#  -3 -2 -1  negative index\n",
    "li=[1,2,3]\n",
    "   #0 1 2   index\n",
    "print(li[0],li[-1])\n",
    "l2=li\n",
    "l2[1]=0  #changing value of element at index 1\n",
    "print(li)\n",
    "print(l2)"
   ]
  },
  {
   "attachments": {},
   "cell_type": "markdown",
   "metadata": {},
   "source": [
    "**List Operations**\n",
    "\n",
    "Concatenate two list can be done using + operator.\n",
    "```py\n",
    "a=[1,3,4]\n",
    "b=[3,6,8]\n",
    "c=a+b\n",
    "#c=[1,3,4,3,6,8]\n",
    "```\n",
    "\n",
    "Python has some inbuilt functions to perform operations on stack.\n",
    "\n",
    "1. Append: Adds an element to the end of the list."
   ]
  },
  {
   "cell_type": "code",
   "execution_count": 10,
   "metadata": {},
   "outputs": [
    {
     "name": "stdout",
     "output_type": "stream",
     "text": [
      "['apple', 'banana', 'cherry', 'orange']\n"
     ]
    }
   ],
   "source": [
    "fruits = ['apple', 'banana', 'cherry']\n",
    "fruits.append('orange')\n",
    "print(fruits) # Output: ['apple', 'banana', 'cherry', 'orange']"
   ]
  },
  {
   "attachments": {},
   "cell_type": "markdown",
   "metadata": {},
   "source": [
    "2. Insert: Inserts an element at a specified position in the list."
   ]
  },
  {
   "cell_type": "code",
   "execution_count": 11,
   "metadata": {},
   "outputs": [
    {
     "name": "stdout",
     "output_type": "stream",
     "text": [
      "['apple', 'orange', 'banana', 'cherry']\n"
     ]
    }
   ],
   "source": [
    "fruits = ['apple', 'banana', 'cherry']\n",
    "fruits.insert(1, 'orange')\n",
    "print(fruits) # Output: ['apple', 'orange', 'banana', 'cherry']\n"
   ]
  },
  {
   "attachments": {},
   "cell_type": "markdown",
   "metadata": {},
   "source": [
    "3. Remove: Removes the first occurrence of the specified element in the list."
   ]
  },
  {
   "cell_type": "code",
   "execution_count": 12,
   "metadata": {},
   "outputs": [
    {
     "name": "stdout",
     "output_type": "stream",
     "text": [
      "['apple', 'cherry']\n"
     ]
    }
   ],
   "source": [
    "fruits = ['apple', 'banana', 'cherry']\n",
    "fruits.remove('banana')\n",
    "print(fruits) # Output: ['apple', 'cherry']\n"
   ]
  },
  {
   "attachments": {},
   "cell_type": "markdown",
   "metadata": {},
   "source": [
    "4. Pop: Removes and returns the element at the specified position in the list. If no index is specified, it removes and returns the last element."
   ]
  },
  {
   "cell_type": "code",
   "execution_count": 13,
   "metadata": {},
   "outputs": [
    {
     "name": "stdout",
     "output_type": "stream",
     "text": [
      "cherry\n",
      "banana\n",
      "['apple']\n"
     ]
    }
   ],
   "source": [
    "fruits = ['apple', 'banana', 'cherry']\n",
    "last_fruit = fruits.pop()\n",
    "print(last_fruit) # Output: 'cherry'\n",
    "second_fruit = fruits.pop(1)\n",
    "print(second_fruit) # Output: 'banana'\n",
    "print(fruits) # Output: ['apple']\n"
   ]
  },
  {
   "attachments": {},
   "cell_type": "markdown",
   "metadata": {},
   "source": [
    "5. Index: Returns the index of the first occurrence of the specified element in the list."
   ]
  },
  {
   "cell_type": "code",
   "execution_count": 14,
   "metadata": {},
   "outputs": [
    {
     "name": "stdout",
     "output_type": "stream",
     "text": [
      "1\n"
     ]
    }
   ],
   "source": [
    "fruits = ['apple', 'banana', 'cherry']\n",
    "index = fruits.index('banana')\n",
    "print(index) # Output: 1\n"
   ]
  },
  {
   "attachments": {},
   "cell_type": "markdown",
   "metadata": {},
   "source": [
    "6. Count: Returns the number of times the specified element appears in the list."
   ]
  },
  {
   "cell_type": "code",
   "execution_count": 15,
   "metadata": {},
   "outputs": [
    {
     "name": "stdout",
     "output_type": "stream",
     "text": [
      "2\n"
     ]
    }
   ],
   "source": [
    "fruits = ['apple', 'banana', 'cherry', 'banana']\n",
    "count = fruits.count('banana')\n",
    "print(count) # Output: 2\n"
   ]
  },
  {
   "attachments": {},
   "cell_type": "markdown",
   "metadata": {},
   "source": [
    "7. Sort: Sorts the list in ascending order."
   ]
  },
  {
   "cell_type": "code",
   "execution_count": 16,
   "metadata": {},
   "outputs": [
    {
     "name": "stdout",
     "output_type": "stream",
     "text": [
      "[1, 1, 2, 3, 3, 4, 5, 5, 5, 6, 9]\n"
     ]
    }
   ],
   "source": [
    "numbers = [3, 1, 4, 1, 5, 9, 2, 6, 5, 3, 5]\n",
    "numbers.sort()\n",
    "print(numbers) # Output: [1, 1, 2, 3, 3, 4, 5, 5, 5, 6, 9]\n"
   ]
  },
  {
   "attachments": {},
   "cell_type": "markdown",
   "metadata": {},
   "source": [
    "8. Reverse: Reverses the order of the elements in the list."
   ]
  },
  {
   "cell_type": "code",
   "execution_count": 17,
   "metadata": {},
   "outputs": [
    {
     "name": "stdout",
     "output_type": "stream",
     "text": [
      "[5, 4, 3, 2, 1]\n"
     ]
    }
   ],
   "source": [
    "numbers = [1, 2, 3, 4, 5]\n",
    "numbers.reverse()\n",
    "print(numbers) # Output: [5, 4, 3, 2, 1]\n"
   ]
  },
  {
   "attachments": {},
   "cell_type": "markdown",
   "metadata": {},
   "source": [
    "9. Len:Retrurns the length of the list"
   ]
  },
  {
   "cell_type": "code",
   "execution_count": 18,
   "metadata": {},
   "outputs": [
    {
     "data": {
      "text/plain": [
       "5"
      ]
     },
     "execution_count": 18,
     "metadata": {},
     "output_type": "execute_result"
    }
   ],
   "source": [
    "num=[1,2,3,4,5]\n",
    "len(num)"
   ]
  },
  {
   "attachments": {},
   "cell_type": "markdown",
   "metadata": {},
   "source": [
    "### **Dictionary**\n",
    "In Python, a dictionary is an unordered collection of items that are stored in key-value pairs. Each key-value pair in the dictionary is separated by a colon ':' and the pairs are separated by commas ','. Dictionaries are denoted by curly braces {}.\n",
    "\n",
    "**Keys must be of immutable datatypes**\n",
    "Here's an example of a dictionary in Python:"
   ]
  },
  {
   "cell_type": "code",
   "execution_count": 19,
   "metadata": {},
   "outputs": [],
   "source": [
    "my_dict = {'name': 'John', 'age': 25, 'gender': 'Male'}"
   ]
  },
  {
   "attachments": {},
   "cell_type": "markdown",
   "metadata": {},
   "source": [
    "In the above example, `name`, `age`, and `gender` are keys and their respective values are `'John'`, `25`, and `'Male'`.\n",
    "\n",
    "To access values in a dictionary, we can use the keys as shown below:\n"
   ]
  },
  {
   "cell_type": "code",
   "execution_count": 20,
   "metadata": {},
   "outputs": [
    {
     "name": "stdout",
     "output_type": "stream",
     "text": [
      "John\n"
     ]
    }
   ],
   "source": [
    "# Accessing the value of the 'name' key\n",
    "print(my_dict['name'])  # Output: John"
   ]
  },
  {
   "attachments": {},
   "cell_type": "markdown",
   "metadata": {},
   "source": [
    "To change the value of a key in a dictionary, we can simply access it and assign a new value to it as shown below:"
   ]
  },
  {
   "cell_type": "code",
   "execution_count": 21,
   "metadata": {},
   "outputs": [
    {
     "name": "stdout",
     "output_type": "stream",
     "text": [
      "{'name': 'John', 'age': 30, 'gender': 'Male'}\n"
     ]
    }
   ],
   "source": [
    "# Changing the value of the 'age' key\n",
    "my_dict['age'] = 30\n",
    "\n",
    "# Printing the updated dictionary\n",
    "print(my_dict)  # Output: {'name': 'John', 'age': 30, 'gender': 'Male'}"
   ]
  },
  {
   "attachments": {},
   "cell_type": "markdown",
   "metadata": {},
   "source": [
    "Some important inbuilt functions of dictionaries in Python are:\n",
    "\n",
    "1. `len()` - returns the number of key-value pairs in the dictionary."
   ]
  },
  {
   "cell_type": "code",
   "execution_count": 22,
   "metadata": {},
   "outputs": [
    {
     "name": "stdout",
     "output_type": "stream",
     "text": [
      "3\n"
     ]
    }
   ],
   "source": [
    "# Finding the length of the dictionary\n",
    "print(len(my_dict))  # Output: 3"
   ]
  },
  {
   "attachments": {},
   "cell_type": "markdown",
   "metadata": {},
   "source": [
    "2. `keys()` - returns a list of all the keys in the dictionary."
   ]
  },
  {
   "cell_type": "code",
   "execution_count": 23,
   "metadata": {},
   "outputs": [
    {
     "name": "stdout",
     "output_type": "stream",
     "text": [
      "dict_keys(['name', 'age', 'gender'])\n"
     ]
    }
   ],
   "source": [
    "# Finding all the keys in the dictionary\n",
    "print(my_dict.keys())  # Output: dict_keys(['name', 'age', 'gender'])"
   ]
  },
  {
   "attachments": {},
   "cell_type": "markdown",
   "metadata": {},
   "source": [
    "3. `values()` - returns a list of all the values in the dictionary.\n"
   ]
  },
  {
   "cell_type": "code",
   "execution_count": 24,
   "metadata": {},
   "outputs": [
    {
     "name": "stdout",
     "output_type": "stream",
     "text": [
      "dict_values(['John', 30, 'Male'])\n"
     ]
    }
   ],
   "source": [
    "# Finding all the values in the dictionary\n",
    "print(my_dict.values())  # Output: dict_values(['John', 30, 'Male'])\n"
   ]
  },
  {
   "attachments": {},
   "cell_type": "markdown",
   "metadata": {},
   "source": [
    "\n",
    "4. `items()` - returns a list of all the key-value pairs in the dictionary as tuples."
   ]
  },
  {
   "cell_type": "code",
   "execution_count": 25,
   "metadata": {},
   "outputs": [
    {
     "name": "stdout",
     "output_type": "stream",
     "text": [
      "dict_items([('name', 'John'), ('age', 30), ('gender', 'Male')])\n"
     ]
    }
   ],
   "source": [
    "# Finding all the key-value pairs in the dictionary\n",
    "print(my_dict.items())  # Output: dict_items([('name', 'John'), ('age', 30), ('gender', 'Male')])"
   ]
  },
  {
   "attachments": {},
   "cell_type": "markdown",
   "metadata": {},
   "source": [
    "5. get(key[, default_values])"
   ]
  },
  {
   "cell_type": "code",
   "execution_count": 26,
   "metadata": {},
   "outputs": [
    {
     "name": "stdout",
     "output_type": "stream",
     "text": [
      "John\n",
      "None Unknown Key\n"
     ]
    }
   ],
   "source": [
    "print(my_dict.get(\"name\"))\n",
    "print(my_dict.get(\"nam\"),\"Unknown Key\")\n",
    "\n"
   ]
  },
  {
   "attachments": {},
   "cell_type": "markdown",
   "metadata": {},
   "source": [
    "6. **del dict[key]**"
   ]
  },
  {
   "cell_type": "code",
   "execution_count": 27,
   "metadata": {},
   "outputs": [],
   "source": [
    "del my_dict['name']\n"
   ]
  },
  {
   "attachments": {},
   "cell_type": "markdown",
   "metadata": {},
   "source": [
    "6.1 We can also make use  of dict.pop(key)"
   ]
  },
  {
   "cell_type": "code",
   "execution_count": 28,
   "metadata": {},
   "outputs": [
    {
     "data": {
      "text/plain": [
       "{'age': 30, 'gender': 'Male'}"
      ]
     },
     "execution_count": 28,
     "metadata": {},
     "output_type": "execute_result"
    }
   ],
   "source": [
    "my_dict"
   ]
  },
  {
   "attachments": {},
   "cell_type": "markdown",
   "metadata": {},
   "source": [
    "7. **clear()** : Removes all the key values pairs"
   ]
  },
  {
   "cell_type": "code",
   "execution_count": 29,
   "metadata": {},
   "outputs": [
    {
     "name": "stdout",
     "output_type": "stream",
     "text": [
      "{}\n"
     ]
    }
   ],
   "source": [
    "my_dict.clear()\n",
    "print(my_dict)"
   ]
  },
  {
   "attachments": {},
   "cell_type": "markdown",
   "metadata": {},
   "source": [
    "### Builtin Counstructors for creating dict and list\n",
    "dict(view)\n",
    "list(items)"
   ]
  },
  {
   "cell_type": "code",
   "execution_count": 30,
   "metadata": {},
   "outputs": [
    {
     "name": "stdout",
     "output_type": "stream",
     "text": [
      "['name', 'age', 'gender']\n",
      "[('name', 'John'), ('age', 30), ('gender', 'Male')]\n"
     ]
    },
    {
     "data": {
      "text/plain": [
       "list"
      ]
     },
     "execution_count": 30,
     "metadata": {},
     "output_type": "execute_result"
    }
   ],
   "source": [
    "print(list({'name': 'John', 'age': 30, 'gender': 'Male'}))\n",
    "a={'name': 'John', 'age': 30, 'gender': 'Male'}\n",
    "b=list(a.items())\n",
    "print(b)\n",
    "type(b)\n"
   ]
  },
  {
   "cell_type": "code",
   "execution_count": 31,
   "metadata": {},
   "outputs": [
    {
     "data": {
      "text/plain": [
       "{'name': 'John', 'age': 30, 'gender': 'Male'}"
      ]
     },
     "execution_count": 31,
     "metadata": {},
     "output_type": "execute_result"
    }
   ],
   "source": [
    "dict(b)"
   ]
  },
  {
   "attachments": {},
   "cell_type": "markdown",
   "metadata": {},
   "source": [
    "### **Tuples**\n",
    "A tuple is a collection of ordered, **immutable**, and heterogeneous elements enclosed within parentheses (). Once a tuple is created, its elements cannot be modified.\n",
    "\n",
    "Accesing the elements is similar to that of lists.\n",
    "\n",
    "Tuples also have inbuilt functions and operations, such as:\n",
    "\n",
    "- len(): returns the number of elements in the tuple.\n",
    "- count(): returns the number of occurrences of a specified element in the tuple.\n",
    "- index(): returns the index of the first occurrence of a specified element in the tuple.\n",
    "- '+' operator: concatenates two tuples.\n",
    "- '*' operator: repeats the elements of a tuple a specified number of times.\n",
    "\n",
    "**Note**: To create a tuple with only a single element we must add a **','** after the elements. For eg. \n",
    "```\n",
    "a=(1,) #tuple with single element\n",
    "b=(1)  #just an interger of value 1\n"
   ]
  },
  {
   "cell_type": "code",
   "execution_count": 32,
   "metadata": {},
   "outputs": [
    {
     "name": "stdout",
     "output_type": "stream",
     "text": [
      "4\n",
      "2\n",
      "2\n",
      "('apple', 'banana', 'cherry', 'apple', 'orange', 'grape')\n",
      "('orange', 'grape', 'orange', 'grape', 'orange', 'grape')\n"
     ]
    }
   ],
   "source": [
    "my_tuple = (\"apple\", \"banana\", \"cherry\", \"apple\")\n",
    "print(len(my_tuple))             # Output: 4\n",
    "print(my_tuple.count(\"apple\"))   # Output: 2\n",
    "print(my_tuple.index(\"cherry\"))  # Output: 2\n",
    "\n",
    "my_new_tuple = (\"orange\", \"grape\")\n",
    "print(my_tuple + my_new_tuple)   # Output: (\"apple\", \"banana\", \"cherry\", \"apple\", \"orange\", \"grape\")\n",
    "print(my_new_tuple * 3)          # Output: (\"orange\", \"grape\", \"orange\", \"grape\", \"orange\", \"grape\")\n"
   ]
  },
  {
   "attachments": {},
   "cell_type": "markdown",
   "metadata": {},
   "source": [
    "### **Sets**\n",
    "\n",
    "A set is a collection of unique and unordered elements enclosed in curly braces {}. Sets are mutable, which means that you can add or remove elements from them after their creation.\n",
    "\n",
    "Here are some ways to create sets in Python:"
   ]
  },
  {
   "cell_type": "code",
   "execution_count": 33,
   "metadata": {},
   "outputs": [],
   "source": [
    "# empty set\n",
    "my_set = set()\n",
    "\n",
    "# set of integers\n",
    "my_set = {1, 2, 3, 4, 5}\n",
    "\n",
    "# set of mixed data types\n",
    "my_set = {'apple', 2.5, (1, 2, 3)}\n"
   ]
  },
  {
   "attachments": {},
   "cell_type": "markdown",
   "metadata": {},
   "source": [
    "- Accessing values in a set can be done using a loop or the in keyword, which checks if an element is present in the set or not."
   ]
  },
  {
   "cell_type": "code",
   "execution_count": 34,
   "metadata": {},
   "outputs": [
    {
     "name": "stdout",
     "output_type": "stream",
     "text": [
      "apple\n",
      "2.5\n",
      "(1, 2, 3)\n",
      "apple is present in the set\n"
     ]
    }
   ],
   "source": [
    "# loop through the set and print its elements\n",
    "my_set = {'apple', 2.5, (1, 2, 3)}\n",
    "for element in my_set:\n",
    "    print(element)\n",
    "\n",
    "# check if an element is present in the set\n",
    "if 'apple' in my_set:\n",
    "    print('apple is present in the set')\n"
   ]
  },
  {
   "attachments": {},
   "cell_type": "markdown",
   "metadata": {},
   "source": [
    "- You can add elements to a set using the add() method, remove elements using the remove() or discard() method, and empty the set using the clear() method."
   ]
  },
  {
   "cell_type": "code",
   "execution_count": 35,
   "metadata": {},
   "outputs": [],
   "source": [
    "my_set = {'apple', 2.5, (1, 2, 3)}\n",
    "# add an element to the set\n",
    "my_set.add(6)\n",
    "\n",
    "# remove an element from the set\n",
    "my_set.remove(2.5)\n",
    "\n",
    "# empty the set\n",
    "my_set.clear()\n"
   ]
  },
  {
   "attachments": {},
   "cell_type": "markdown",
   "metadata": {},
   "source": [
    "- Some useful inbuilt functions on sets are union(), intersection(), difference(), and symmetric_difference(). These functions are used to perform set operations like union, intersection, difference, and symmetric difference, respectively."
   ]
  },
  {
   "cell_type": "code",
   "execution_count": 36,
   "metadata": {},
   "outputs": [
    {
     "name": "stdout",
     "output_type": "stream",
     "text": [
      "{1, 2, 3, 4, 5, 6}\n",
      "{3, 4}\n",
      "{1, 2}\n",
      "{1, 2, 5, 6}\n"
     ]
    }
   ],
   "source": [
    "# create two sets\n",
    "set1 = {1, 2, 3, 4}\n",
    "set2 = {3, 4, 5, 6}\n",
    "\n",
    "# perform union operation\n",
    "union_set = set1.union(set2)\n",
    "print(union_set) # output: {1, 2, 3, 4, 5, 6}\n",
    "\n",
    "# perform intersection operation\n",
    "intersection_set = set1.intersection(set2)\n",
    "print(intersection_set) # output: {3, 4}\n",
    "\n",
    "# perform difference operation\n",
    "difference_set = set1.difference(set2)\n",
    "print(difference_set) # output: {1, 2}\n",
    "\n",
    "# perform symmetric difference operation\n",
    "symmetric_difference_set = set1.symmetric_difference(set2)\n",
    "print(symmetric_difference_set) # output: {1, 2, 5, 6}\n"
   ]
  },
  {
   "attachments": {},
   "cell_type": "markdown",
   "metadata": {},
   "source": [
    "## **Operators**\n",
    "\n",
    "- **Arithmetic Operators**\n",
    "    - `+` (Addition): Adds two numbers.\n",
    "      - Example: `5 + 3` results in `8`\n",
    "    - `-` (Subtraction): Subtracts the second operand from the first.\n",
    "      - Example: `5 - 3` results in `2`\n",
    "    - `*` (Multiplication): Multiplies two numbers.\n",
    "      - Example: `5 * 3` results in `15`\n",
    "    - `/` (Division): Divides the first operand by the second, resulting in a float.\n",
    "      - Example: `5 / 3` results in `1.666...`\n",
    "    - `//` (Floor Division): Divides and rounds down to the nearest integer.\n",
    "      - Example: `5 // 3` results in `1`\n",
    "    - `%` (Modulo): Returns the remainder of a division.\n",
    "      - Example: `5 % 3` results in `2`\n",
    "    - `**` (Exponentiation): Raises the first operand to the power of the second.\n",
    "      - Example: `5 ** 3` results in `125`\n",
    "\n",
    "- **Logical Operators**\n",
    "    - `and` (Logical AND): Returns `True` if both operands are true.\n",
    "      - Example: `(5 > 3) and (3 < 4)` results in `True`\n",
    "    - `not` (Logical NOT): Returns `True` if the operand is false.\n",
    "      - Example: `not (5 > 3)` results in `False`\n",
    "    - `or` (Logical OR): Returns `True` if at least one of the operands is true.\n",
    "      - Example: `(5 < 3) or (3 < 4)` results in `True`\n",
    "\n",
    "- **Comparison Operators**\n",
    "    - `>` (Greater Than): Checks if the first operand is greater than the second.\n",
    "      - Example: `5 > 3` results in `True`\n",
    "    - `<` (Less Than): Checks if the first operand is less than the second.\n",
    "      - Example: `5 < 3` results in `False`\n",
    "    - `>=` (Greater Than or Equal To): Checks if the first operand is greater than or equal to the second.\n",
    "      - Example: `5 >= 3` results in `True`\n",
    "    - `<=` (Less Than or Equal To): Checks if the first operand is less than or equal to the second.\n",
    "      - Example: `5 <= 3` results in `False`\n",
    "    - `==` (Equal To): Checks if two operands are equal.\n",
    "      - Example: `5 == 5` results in `True`\n",
    "    - `!=` (Not Equal To): Checks if two operands are not equal.\n",
    "      - Example: `5 != 3` results in `True`"
   ]
  },
  {
   "cell_type": "code",
   "execution_count": 37,
   "metadata": {},
   "outputs": [
    {
     "name": "stdout",
     "output_type": "stream",
     "text": [
      "a/b: 0.5    a%b: 10    a//b: 0\n"
     ]
    }
   ],
   "source": [
    "a=10\n",
    "b=20\n",
    "\n",
    "# difference between /,//,%\n",
    "print(\"a/b:\",a/b,\"   a%b:\",a%b,'   a//b:',a//b)"
   ]
  },
  {
   "cell_type": "markdown",
   "metadata": {},
   "source": [
    "## Question round 1: Topic - Tokens, Variables, Datatypes, and Operators.\n",
    "\n",
    "\n",
    "1. Create a Python program that declares a variable of type int, float, and str, and prints their types.\n",
    "2. Write a program to calculate the area of a rectangle. The program should take the length and width as input and return the area.\n",
    "3. Write a program that swaps the values of two variables.\n",
    "4. Write a Python program that takes two numbers as input and prints their sum, difference, product, and quotient.\n",
    "5. Write a Python program to check if a number is even or odd.\n",
    "6. Create a Python program to find the maximum of three numbers.\n",
    "7. Write a Python program that converts a temperature in Celsius to Fahrenheit.\n",
    "8. Write a Python program that uses an operator to check if a number is divisible by both 5 and 7.\n",
    "9. Write a program to calculate the area of a circle given the radius. Use the constant pi = 3.14159.\n",
    "10. Write a Python program that demonstrates the use of the floor division operator (//).\n",
    "11. Write a Python program to find the remainder when a number is divided by 3 using the modulus operator (%).\n",
    "12. Write a Python program to demonstrate the use of comparison operators by checking if one number is greater than another.\n",
    "13. Write a Python program that uses logical operators (and, or, not) to check if a number is between 10 and 20."
   ]
  },
  {
   "cell_type": "markdown",
   "metadata": {},
   "source": [
    "### Answers"
   ]
  },
  {
   "cell_type": "markdown",
   "metadata": {},
   "source": [
    "1. Create a Python program that declares a variable of type int, float, and str, and prints their types."
   ]
  },
  {
   "cell_type": "code",
   "execution_count": 38,
   "metadata": {},
   "outputs": [
    {
     "name": "stdout",
     "output_type": "stream",
     "text": [
      "<class 'int'>\n",
      "<class 'float'>\n",
      "<class 'str'>\n"
     ]
    }
   ],
   "source": [
    "# Declare variables of different types\n",
    "x = 10        # Integer\n",
    "y = 3.14      # Float\n",
    "z = \"Hello\"   # String\n",
    "\n",
    "# Print the types of the variables\n",
    "print(type(x))  # <class 'int'>\n",
    "print(type(y))  # <class 'float'>\n",
    "print(type(z))  # <class 'str'>"
   ]
  },
  {
   "cell_type": "markdown",
   "metadata": {},
   "source": [
    "2. Write a program to calculate the area of a rectangle. The program should take the length and width as input and return the area."
   ]
  },
  {
   "cell_type": "code",
   "execution_count": 39,
   "metadata": {},
   "outputs": [
    {
     "name": "stdout",
     "output_type": "stream",
     "text": [
      "The area of the rectangle is: 30.0\n"
     ]
    }
   ],
   "source": [
    "# Taking length and width as input\n",
    "length = float(input(\"Enter the length of the rectangle: \"))\n",
    "width = float(input(\"Enter the width of the rectangle: \"))\n",
    "\n",
    "# Calculating area\n",
    "area = length * width\n",
    "\n",
    "# Output the result\n",
    "print(\"The area of the rectangle is:\", area)\n"
   ]
  },
  {
   "cell_type": "markdown",
   "metadata": {},
   "source": [
    "3. Write a program that swaps the values of two variables."
   ]
  },
  {
   "cell_type": "code",
   "execution_count": 40,
   "metadata": {},
   "outputs": [
    {
     "name": "stdout",
     "output_type": "stream",
     "text": [
      "a: 10\n",
      "b: 5\n"
     ]
    }
   ],
   "source": [
    "# Initial values of variables\n",
    "a = 5\n",
    "b = 10\n",
    "\n",
    "# Swapping the values using a temporary variable\n",
    "temp = a\n",
    "a = b\n",
    "b = temp\n",
    "\n",
    "# Output the swapped values\n",
    "print(\"a:\", a)\n",
    "print(\"b:\", b)"
   ]
  },
  {
   "cell_type": "markdown",
   "metadata": {},
   "source": [
    "4. Write a Python program that takes two numbers as input and prints their sum, difference, product, and quotient."
   ]
  },
  {
   "cell_type": "code",
   "execution_count": 41,
   "metadata": {},
   "outputs": [
    {
     "name": "stdout",
     "output_type": "stream",
     "text": [
      "Sum: 9.0\n",
      "Difference: -1.0\n",
      "Product: 20.0\n",
      "Quotient: 0.8\n"
     ]
    }
   ],
   "source": [
    "# Taking two numbers as input\n",
    "num1 = float(input(\"Enter the first number: \"))\n",
    "num2 = float(input(\"Enter the second number: \"))\n",
    "\n",
    "# Performing arithmetic operations\n",
    "sum_result = num1 + num2\n",
    "diff_result = num1 - num2\n",
    "product_result = num1 * num2\n",
    "quotient_result = num1 / num2 if num2 != 0 else \"undefined\"  # Check for division by zero\n",
    "\n",
    "# Output the results\n",
    "print(f\"Sum: {sum_result}\")\n",
    "print(f\"Difference: {diff_result}\")\n",
    "print(f\"Product: {product_result}\")\n",
    "print(f\"Quotient: {quotient_result}\")"
   ]
  },
  {
   "cell_type": "markdown",
   "metadata": {},
   "source": [
    "5. Write a Python program to check if a number is even or odd."
   ]
  },
  {
   "cell_type": "code",
   "execution_count": 42,
   "metadata": {},
   "outputs": [
    {
     "name": "stdout",
     "output_type": "stream",
     "text": [
      "6 is even.\n"
     ]
    }
   ],
   "source": [
    "# Take input from the user\n",
    "num = int(input(\"Enter a number: \"))\n",
    "\n",
    "# Check if the number is even or odd\n",
    "if num % 2 == 0:\n",
    "    print(f\"{num} is even.\")\n",
    "else:\n",
    "    print(f\"{num} is odd.\")\n"
   ]
  },
  {
   "cell_type": "markdown",
   "metadata": {},
   "source": [
    "6. Create a Python program to find the maximum of three numbers."
   ]
  },
  {
   "cell_type": "code",
   "execution_count": 43,
   "metadata": {},
   "outputs": [
    {
     "name": "stdout",
     "output_type": "stream",
     "text": [
      "The maximum number is: 7.0\n"
     ]
    }
   ],
   "source": [
    "# Input three numbers\n",
    "num1 = float(input(\"Enter the first number: \"))\n",
    "num2 = float(input(\"Enter the second number: \"))\n",
    "num3 = float(input(\"Enter the third number: \"))\n",
    "\n",
    "# Find the maximum number\n",
    "max_num = max(num1, num2, num3)\n",
    "\n",
    "# Output the result\n",
    "print(f\"The maximum number is: {max_num}\")\n"
   ]
  },
  {
   "cell_type": "markdown",
   "metadata": {},
   "source": [
    "7. Write a Python program that converts a temperature in Celsius to Fahrenheit."
   ]
  },
  {
   "cell_type": "code",
   "execution_count": 44,
   "metadata": {},
   "outputs": [
    {
     "name": "stdout",
     "output_type": "stream",
     "text": [
      "5.0 Celsius is equal to 41.0 Fahrenheit.\n"
     ]
    }
   ],
   "source": [
    "# Input temperature in Celsius\n",
    "celsius = float(input(\"Enter the temperature in Celsius: \"))\n",
    "\n",
    "# Convert Celsius to Fahrenheit\n",
    "fahrenheit = (celsius * 9/5) + 32\n",
    "\n",
    "# Output the result\n",
    "print(f\"{celsius} Celsius is equal to {fahrenheit} Fahrenheit.\")"
   ]
  },
  {
   "cell_type": "markdown",
   "metadata": {},
   "source": [
    "8. Write a Python program that uses an operator to check if a number is divisible by both 5 and 7."
   ]
  },
  {
   "cell_type": "code",
   "execution_count": 45,
   "metadata": {},
   "outputs": [
    {
     "name": "stdout",
     "output_type": "stream",
     "text": [
      "7 is not divisible by both 5 and 7.\n"
     ]
    }
   ],
   "source": [
    "# Input number from the user\n",
    "num = int(input(\"Enter a number: \"))\n",
    "\n",
    "# Check if the number is divisible by both 5 and 7\n",
    "if num % 5 == 0 and num % 7 == 0:\n",
    "    print(f\"{num} is divisible by both 5 and 7.\")\n",
    "else:\n",
    "    print(f\"{num} is not divisible by both 5 and 7.\")\n"
   ]
  },
  {
   "cell_type": "markdown",
   "metadata": {},
   "source": [
    "9. Write a program to calculate the area of a circle given the radius. Use the constant pi = 3.14159."
   ]
  },
  {
   "cell_type": "code",
   "execution_count": 46,
   "metadata": {},
   "outputs": [
    {
     "name": "stdout",
     "output_type": "stream",
     "text": [
      "The area of the circle with radius 5.0 is: 78.53975\n"
     ]
    }
   ],
   "source": [
    "# Input the radius\n",
    "radius = float(input(\"Enter the radius of the circle: \"))\n",
    "\n",
    "# Define the constant for Pi\n",
    "pi = 3.14159\n",
    "\n",
    "# Calculate the area\n",
    "area = pi * radius ** 2\n",
    "\n",
    "# Output the result\n",
    "print(f\"The area of the circle with radius {radius} is: {area}\")\n"
   ]
  },
  {
   "cell_type": "markdown",
   "metadata": {},
   "source": [
    "10. Write a Python program that demonstrates the use of the floor division operator (//)."
   ]
  },
  {
   "cell_type": "code",
   "execution_count": 47,
   "metadata": {},
   "outputs": [
    {
     "name": "stdout",
     "output_type": "stream",
     "text": [
      "The result of 3 // 5 is: 0\n"
     ]
    }
   ],
   "source": [
    "# Taking two numbers as input\n",
    "numerator = int(input(\"Enter the numerator: \"))\n",
    "denominator = int(input(\"Enter the denominator: \"))\n",
    "\n",
    "# Perform floor division\n",
    "result = numerator // denominator\n",
    "\n",
    "# Output the result\n",
    "print(f\"The result of {numerator} // {denominator} is: {result}\")\n"
   ]
  },
  {
   "cell_type": "markdown",
   "metadata": {},
   "source": [
    "11. Write a Python program to find the remainder when a number is divided by 3 using the modulus operator (%)."
   ]
  },
  {
   "cell_type": "code",
   "execution_count": 48,
   "metadata": {},
   "outputs": [
    {
     "name": "stdout",
     "output_type": "stream",
     "text": [
      "The remainder when 4 is divided by 3 is: 1\n"
     ]
    }
   ],
   "source": [
    "# Input number from the user\n",
    "num = int(input(\"Enter a number: \"))\n",
    "\n",
    "# Find the remainder when divided by 3\n",
    "remainder = num % 3\n",
    "\n",
    "# Output the result\n",
    "print(f\"The remainder when {num} is divided by 3 is: {remainder}\")\n"
   ]
  },
  {
   "cell_type": "markdown",
   "metadata": {},
   "source": [
    "12. Write a Python program to demonstrate the use of comparison operators by checking if one number is greater than another."
   ]
  },
  {
   "cell_type": "code",
   "execution_count": 49,
   "metadata": {},
   "outputs": [
    {
     "name": "stdout",
     "output_type": "stream",
     "text": [
      "3.0 is less than 6.0.\n"
     ]
    }
   ],
   "source": [
    "# Input two numbers\n",
    "num1 = float(input(\"Enter the first number: \"))\n",
    "num2 = float(input(\"Enter the second number: \"))\n",
    "\n",
    "# Compare the two numbers\n",
    "if num1 > num2:\n",
    "    print(f\"{num1} is greater than {num2}.\")\n",
    "elif num1 < num2:\n",
    "    print(f\"{num1} is less than {num2}.\")\n",
    "else:\n",
    "    print(f\"{num1} is equal to {num2}.\")\n"
   ]
  },
  {
   "cell_type": "markdown",
   "metadata": {},
   "source": [
    "13. Write a Python program that uses logical operators (and, or, not) to check if a number is between 10 and 20."
   ]
  },
  {
   "cell_type": "code",
   "execution_count": 50,
   "metadata": {},
   "outputs": [
    {
     "name": "stdout",
     "output_type": "stream",
     "text": [
      "78 is not between 10 and 20.\n"
     ]
    }
   ],
   "source": [
    "# Input number from the user\n",
    "num = int(input(\"Enter a number: \"))\n",
    "\n",
    "# Check if the number is between 10 and 20 using logical operators\n",
    "if num >= 10 and num <= 20:\n",
    "    print(f\"{num} is between 10 and 20.\")\n",
    "else:\n",
    "    print(f\"{num} is not between 10 and 20.\")\n"
   ]
  },
  {
   "attachments": {},
   "cell_type": "markdown",
   "metadata": {},
   "source": [
    "## **Conditional Statements**\n",
    "\n",
    "- **if**: Used to evaluate a condition. If the condition is `True`, the code block under the `if` statement is executed.\n",
    "\n",
    "- **elif** (else if): Used after an `if` statement to check additional conditions if the previous condition was `False`. Only the first `True` condition in an `if-elif` chain is executed.\n",
    "\n",
    "- **else**: Executed when all preceding `if` and `elif` conditions are `False`. The `else` block provides a default action if no conditions are met. \n",
    "\n",
    "These statements allow for decision-making in Python code by executing specific blocks based on different conditions."
   ]
  },
  {
   "cell_type": "code",
   "execution_count": 51,
   "metadata": {},
   "outputs": [
    {
     "name": "stdout",
     "output_type": "stream",
     "text": [
      "Sorry\n"
     ]
    }
   ],
   "source": [
    "if a==b:\n",
    "    print(\"Hello\")\n",
    "\n",
    "elif a<b:\n",
    "    print(\"Goodbye\")\n",
    "else:\n",
    "    print(\"Sorry\")"
   ]
  },
  {
   "attachments": {},
   "cell_type": "markdown",
   "metadata": {},
   "source": [
    "## **Looping**\n",
    "\n",
    "### **For Loop**\n",
    "\n",
    "- A `for` loop is used to iterate over a sequence (like a list, tuple, dictionary, set, or string) or any iterable object. The loop executes the code block for each item in the sequence.\n",
    "\n",
    "- **Syntax**:\n",
    "  ```python\n",
    "  for variable in sequence:\n",
    "      # code block to execute\n",
    "  ```\n"
   ]
  },
  {
   "cell_type": "code",
   "execution_count": 52,
   "metadata": {},
   "outputs": [
    {
     "name": "stdout",
     "output_type": "stream",
     "text": [
      "1\n",
      "2\n",
      "3\n",
      "4\n",
      "5\n",
      "h\n",
      "e\n",
      "l\n",
      "l\n",
      "o\n"
     ]
    }
   ],
   "source": [
    "# Iterate over a list\n",
    "numbers = [1, 2, 3, 4, 5]\n",
    "for num in numbers:\n",
    "    print(num)\n",
    "    \n",
    "# Iterate over a string\n",
    "word = \"hello\"\n",
    "for letter in word:\n",
    "    print(letter)\n",
    "\n"
   ]
  },
  {
   "attachments": {},
   "cell_type": "markdown",
   "metadata": {},
   "source": [
    "We can also use for loop along with range(start,stop,step)\n",
    "\n",
    "**Note**\n",
    "    - Here start and step indexes are  optional."
   ]
  },
  {
   "cell_type": "code",
   "execution_count": 53,
   "metadata": {},
   "outputs": [
    {
     "name": "stdout",
     "output_type": "stream",
     "text": [
      "0\n",
      "1\n",
      "2\n",
      "3\n",
      "4\n",
      "1,3,5,7,9,"
     ]
    }
   ],
   "source": [
    "for i in range(5): #from 0 to 9\n",
    "    print(i)\n",
    "\n",
    "for i in range(1,10,2): #from 1 to 9 with step of 2\n",
    "    print(i,end=\",\")"
   ]
  },
  {
   "attachments": {},
   "cell_type": "markdown",
   "metadata": {},
   "source": [
    "\n",
    "### **While Loop**\n",
    "\n",
    "- A `while` loop repeatedly executes the code block as long as a specified condition is `True`. The loop checks the condition before each iteration.\n",
    "\n",
    "- **Syntax**:\n",
    "  ```python\n",
    "  while condition:\n",
    "      # code block to execute\n",
    "  ```"
   ]
  },
  {
   "cell_type": "code",
   "execution_count": 54,
   "metadata": {},
   "outputs": [
    {
     "name": "stdout",
     "output_type": "stream",
     "text": [
      "1\n",
      "2\n",
      "3\n",
      "4\n",
      "5\n"
     ]
    }
   ],
   "source": [
    "# Print numbers from 1 to 5 using a while loop\n",
    "i = 1\n",
    "while i <= 5:\n",
    "    print(i)\n",
    "    i += 1\n"
   ]
  },
  {
   "attachments": {},
   "cell_type": "markdown",
   "metadata": {},
   "source": [
    "## Special and important keywords\n",
    "\n",
    "1. **in**: The in keyword is used to check if an item is present in a sequence (such as a string, list, or tuple). Here's an example:"
   ]
  },
  {
   "cell_type": "code",
   "execution_count": 55,
   "metadata": {},
   "outputs": [
    {
     "name": "stdout",
     "output_type": "stream",
     "text": [
      "3 is present in the list\n"
     ]
    }
   ],
   "source": [
    "my_list = [1, 2, 3, 4, 5]\n",
    "if 3 in my_list:\n",
    "    print(\"3 is present in the list\")\n",
    "else:\n",
    "    print(\"3 is not present in the list\")\n"
   ]
  },
  {
   "attachments": {},
   "cell_type": "markdown",
   "metadata": {},
   "source": [
    "2. **break**:The break keyword is used to break out of a loop prematurely. Here's an example:"
   ]
  },
  {
   "cell_type": "code",
   "execution_count": 56,
   "metadata": {},
   "outputs": [
    {
     "name": "stdout",
     "output_type": "stream",
     "text": [
      "1\n",
      "2\n",
      "3\n",
      "4\n"
     ]
    }
   ],
   "source": [
    "for i in range(1, 11):\n",
    "    if i == 5:\n",
    "        break\n",
    "    print(i)\n"
   ]
  },
  {
   "attachments": {},
   "cell_type": "markdown",
   "metadata": {},
   "source": [
    "3. **continue**:The continue keyword is used to skip the current iteration of a loop and move on to the next one. Here's an example:"
   ]
  },
  {
   "cell_type": "code",
   "execution_count": 57,
   "metadata": {},
   "outputs": [
    {
     "name": "stdout",
     "output_type": "stream",
     "text": [
      "1\n",
      "3\n",
      "5\n",
      "7\n",
      "9\n"
     ]
    }
   ],
   "source": [
    "for i in range(1, 11):\n",
    "    if i % 2 == 0:\n",
    "        continue\n",
    "    print(i)\n"
   ]
  },
  {
   "attachments": {},
   "cell_type": "markdown",
   "metadata": {},
   "source": [
    "4. **pass**:The pass keyword is used as a placeholder when you need to have a statement that does nothing. Here's an example:\n"
   ]
  },
  {
   "cell_type": "code",
   "execution_count": 58,
   "metadata": {},
   "outputs": [],
   "source": [
    "for i in range(1, 11):\n",
    "    pass\n"
   ]
  },
  {
   "attachments": {},
   "cell_type": "markdown",
   "metadata": {},
   "source": [
    "## **Functions**\n",
    "\n",
    "Functions are reusable blocks of code that perform a specific task.They are defined using the **def** keyword.\n",
    "\n",
    "The syntax is:\n",
    "\n",
    "```python\n",
    "def function_name(parameter(s)) :\n",
    "    function_definition\n",
    "    return #optional\n",
    "```"
   ]
  },
  {
   "cell_type": "code",
   "execution_count": 59,
   "metadata": {},
   "outputs": [
    {
     "name": "stdout",
     "output_type": "stream",
     "text": [
      "Hello\n"
     ]
    }
   ],
   "source": [
    "def hello():\n",
    "    print(\"Hello\")\n",
    "\n",
    "hello() #function call"
   ]
  },
  {
   "attachments": {},
   "cell_type": "markdown",
   "metadata": {},
   "source": [
    "We can return any type of value from functions or not return anuything. The function definition edns when it encounters a return statement or the next statemnt is not inside its indentation.\n",
    "\n",
    "\n",
    "Use of **global** keyword:\n",
    "\n",
    "A global keyword is used to indicate that the variable is a global variable , it can be accessed and modified in any part of the code."
   ]
  },
  {
   "cell_type": "code",
   "execution_count": 60,
   "metadata": {},
   "outputs": [
    {
     "name": "stdout",
     "output_type": "stream",
     "text": [
      "X before function call: 10 Y before function call: 20\n",
      "X after function call: 20 Y after function call: 20\n"
     ]
    }
   ],
   "source": [
    "x=10\n",
    "y=20\n",
    "\n",
    "print(\"X before function call:\",x,\"Y before function call:\",y)\n",
    "\n",
    "def abc():\n",
    "    global x\n",
    "    x=20\n",
    "    y=30\n",
    "\n",
    "abc()\n",
    "\n",
    "print(\"X after function call:\",x,\"Y after function call:\",y)"
   ]
  },
  {
   "attachments": {},
   "cell_type": "markdown",
   "metadata": {},
   "source": [
    "In Python, passing arguments to a function can be done either by value or by reference. When a function is called, the actual value of the argument is passed to the function as a parameter. In case of passing an immutable object like a number, string, or tuple, the function receives a copy of the value and any changes made to the parameter inside the function have no effect on the original value.\n",
    "\n",
    "\n",
    "However, when passing a mutable object like a list, dictionary or set, the function receives a reference to the object and any changes made to the object inside the function will be reflected in the original object"
   ]
  },
  {
   "cell_type": "code",
   "execution_count": 61,
   "metadata": {},
   "outputs": [
    {
     "name": "stdout",
     "output_type": "stream",
     "text": [
      "[1, 2, 3, 4, 5] hello\n"
     ]
    }
   ],
   "source": [
    "def change_list(list1,str1):\n",
    "    list1.append(4)\n",
    "    list1.append(5)\n",
    "    str1=\"wht\"\n",
    "str=\"hello\"\n",
    "my_list = [1, 2, 3]\n",
    "change_list(my_list,str)\n",
    "print(my_list,str) # Output: [1, 2, 3, 4, 5]"
   ]
  },
  {
   "attachments": {},
   "cell_type": "markdown",
   "metadata": {},
   "source": [
    "## **Lambda**\n",
    "Lambda is a keyword in Python used to define small, anonymous functions. It is also known as a lambda function. It is an expression that returns a function object.\n",
    "\n",
    "The syntax of a lambda function is as follows:\n",
    "\n",
    "```python \n",
    "lambda arguments : expression\n",
    "```\n",
    "\n",
    "The arguments are the inputs to the function, and the expression is the operation performed on the arguments.\n",
    "\n",
    "Here is an example of a lambda function that adds two numbers:\n"
   ]
  },
  {
   "cell_type": "code",
   "execution_count": 62,
   "metadata": {},
   "outputs": [
    {
     "name": "stdout",
     "output_type": "stream",
     "text": [
      "15\n"
     ]
    }
   ],
   "source": [
    "add_numbers = lambda x, y: x + y\n",
    "print(add_numbers(5, 10)) # Output: 15\n"
   ]
  },
  {
   "attachments": {},
   "cell_type": "markdown",
   "metadata": {},
   "source": [
    "Lambda functions are commonly used as arguments to higher-order functions that take a function as input. For example, the built-in map() function can be used with a lambda function to apply the function to every element of an iterable.\n",
    "\n",
    "Here is an example of using a lambda function with map() to square each element of a list:"
   ]
  },
  {
   "cell_type": "code",
   "execution_count": 63,
   "metadata": {},
   "outputs": [
    {
     "name": "stdout",
     "output_type": "stream",
     "text": [
      "[1, 4, 9, 16, 25]\n"
     ]
    }
   ],
   "source": [
    "numbers = [1, 2, 3, 4, 5]\n",
    "squared = list(map(lambda x: x**2, numbers))\n",
    "print(squared) #Output:[1, 4, 9, 16, 25]\n"
   ]
  },
  {
   "cell_type": "markdown",
   "metadata": {},
   "source": [
    "## **Practice Questions**\n",
    "\n",
    "1. **Palindrome Number**  \n",
    "   - **Question:** Check if a given integer is a palindrome (reads the same backward).\n",
    "   - **Sample Input:** `Input: 121`\n",
    "   - **Sample Output:** `Output: True`\n",
    "   - **Code Hint:** Convert the integer to a string and check if it equals its reverse."
   ]
  },
  {
   "cell_type": "code",
   "execution_count": 64,
   "metadata": {},
   "outputs": [],
   "source": [
    "del str # only required because this is a jupyter notebook\n",
    "        # required because we've used the variable earlier\n",
    "        # if you run this code in a .py file, you don't need this line"
   ]
  },
  {
   "cell_type": "code",
   "execution_count": 65,
   "metadata": {},
   "outputs": [
    {
     "name": "stdout",
     "output_type": "stream",
     "text": [
      "True\n"
     ]
    }
   ],
   "source": [
    "def isPalindrome(x):\n",
    "    return str(x) == str(x)[::-1]  # This will now work as expected\n",
    "\n",
    "# Sample Input\n",
    "x = 121\n",
    "print(isPalindrome(x))  # Output: True\n"
   ]
  },
  {
   "cell_type": "markdown",
   "metadata": {},
   "source": [
    "2. **Prime Number Check**  \n",
    "   - **Question:** Check if a number is prime (True if prime, False if not).\n",
    "   - **Sample Input:** `Input: 7`\n",
    "   - **Sample Output:** `Output: True`\n",
    "   - **Code Hint:** Loop through integers up to the square root of the number to check for divisibility."
   ]
  },
  {
   "cell_type": "code",
   "execution_count": 66,
   "metadata": {},
   "outputs": [
    {
     "name": "stdout",
     "output_type": "stream",
     "text": [
      "True\n"
     ]
    }
   ],
   "source": [
    "import math\n",
    "\n",
    "def isPrime(n):\n",
    "    if n <= 1:\n",
    "        return False\n",
    "    for i in range(2, int(math.sqrt(n)) + 1):\n",
    "        if n % i == 0:\n",
    "            return False\n",
    "    return True\n",
    "\n",
    "# Sample Input\n",
    "n = 7\n",
    "print(isPrime(n))  # Output: True\n"
   ]
  },
  {
   "cell_type": "markdown",
   "metadata": {},
   "source": [
    "3. **Reverse a String**  \n",
    "   - **Question:** Write a function that reverses the input string.\n",
    "   - **Sample Input:** `Input: \"hello\"`\n",
    "   - **Sample Output:** `Output: \"olleh\"`\n",
    "   - **Code Hint:** Use slicing `str[::-1]` or the `reversed()` function."
   ]
  },
  {
   "cell_type": "code",
   "execution_count": 67,
   "metadata": {},
   "outputs": [
    {
     "name": "stdout",
     "output_type": "stream",
     "text": [
      "olleh\n"
     ]
    }
   ],
   "source": [
    "def reverseString(s):\n",
    "    return s[::-1]\n",
    "\n",
    "# Sample Input\n",
    "s = \"hello\"\n",
    "print(reverseString(s))  # Output: \"olleh\"\n"
   ]
  },
  {
   "cell_type": "markdown",
   "metadata": {},
   "source": [
    "4. **Count Vowels**  \n",
    "   - **Question:** Count the number of vowels in a given string.\n",
    "   - **Sample Input:** `Input: \"hello\"`\n",
    "   - **Sample Output:** `Output: 2`\n",
    "   - **Code Hint:** Loop through the string and check each character if it's in `\"aeiou\"`."
   ]
  },
  {
   "cell_type": "code",
   "execution_count": 68,
   "metadata": {},
   "outputs": [
    {
     "name": "stdout",
     "output_type": "stream",
     "text": [
      "2\n"
     ]
    }
   ],
   "source": [
    "def countVowels(s):\n",
    "    vowels = \"aeiou\"\n",
    "    return sum(1 for char in s if char in vowels)\n",
    "\n",
    "# Sample Input\n",
    "s = \"hello\"\n",
    "print(countVowels(s))  # Output: 2\n"
   ]
  },
  {
   "cell_type": "markdown",
   "metadata": {},
   "source": [
    "5. **Check Leap Year**  \n",
    "   - **Question:** Check if a given year is a leap year.\n",
    "   - **Sample Input:** `Input: 2024`\n",
    "   - **Sample Output:** `Output: True`"
   ]
  },
  {
   "cell_type": "code",
   "execution_count": 69,
   "metadata": {},
   "outputs": [
    {
     "name": "stdout",
     "output_type": "stream",
     "text": [
      "True\n"
     ]
    }
   ],
   "source": [
    "def isLeapYear(year):\n",
    "    return (year % 4 == 0 and (year % 100 != 0 or year % 400 == 0))\n",
    "\n",
    "# Sample Input\n",
    "year = 2024\n",
    "print(isLeapYear(year))  # Output: True\n"
   ]
  },
  {
   "cell_type": "markdown",
   "metadata": {},
   "source": [
    "6. **Factorial Calculation**  \n",
    "   - **Question:** Calculate the factorial of a given number.\n",
    "   - **Sample Input:** `Input: 5`\n",
    "   - **Sample Output:** `Output: 120`"
   ]
  },
  {
   "cell_type": "code",
   "execution_count": 70,
   "metadata": {},
   "outputs": [
    {
     "name": "stdout",
     "output_type": "stream",
     "text": [
      "120\n"
     ]
    }
   ],
   "source": [
    "def factorial(n):\n",
    "    if n == 0 or n == 1:\n",
    "        return 1\n",
    "    return n * factorial(n - 1)\n",
    "\n",
    "# Sample Input\n",
    "n = 5\n",
    "print(factorial(n))  # Output: 120\n"
   ]
  },
  {
   "cell_type": "markdown",
   "metadata": {},
   "source": [
    "7. **Fibonacci Sequence**  \n",
    "   - **Question:** Generate the Fibonacci sequence up to a given number.\n",
    "   - **Sample Input:** `Input: 10`\n",
    "   - **Sample Output:** `Output: [0, 1, 1, 2, 3, 5, 8]`\n"
   ]
  },
  {
   "cell_type": "code",
   "execution_count": 71,
   "metadata": {},
   "outputs": [
    {
     "name": "stdout",
     "output_type": "stream",
     "text": [
      "[0, 1, 1, 2, 3, 5, 8, 13, 21, 34]\n"
     ]
    }
   ],
   "source": [
    "def fibonacci(n):\n",
    "    fib_sequence = [0, 1]\n",
    "    while len(fib_sequence) < n:\n",
    "        fib_sequence.append(fib_sequence[-1] + fib_sequence[-2])\n",
    "    return fib_sequence[:n]\n",
    "\n",
    "# Sample Input\n",
    "n = 10\n",
    "print(fibonacci(n))  # Output: [0, 1, 1, 2, 3, 5, 8]\n"
   ]
  },
  {
   "cell_type": "markdown",
   "metadata": {},
   "source": [
    "8. **Kth Largest Element in a List**  \n",
    "   - **Question:** Write a function that finds the Kth largest element in an unsorted list.  \n",
    "   - **Sample Input:** `[3, 2, 1, 5, 6, 4], k = 2`  \n",
    "   - **Sample Output:** `Output: 5`  "
   ]
  },
  {
   "cell_type": "code",
   "execution_count": 72,
   "metadata": {},
   "outputs": [
    {
     "name": "stdout",
     "output_type": "stream",
     "text": [
      "5\n"
     ]
    }
   ],
   "source": [
    "import heapq\n",
    "\n",
    "def kthLargest(nums, k):\n",
    "    return heapq.nlargest(k, nums)[-1]\n",
    "\n",
    "# Sample Input\n",
    "nums = [3, 2, 1, 5, 6, 4]\n",
    "k = 2\n",
    "print(kthLargest(nums, k))  # Output: 5\n"
   ]
  },
  {
   "cell_type": "markdown",
   "metadata": {},
   "source": [
    "9. **Rotate List to the Right**  \n",
    "   - **Question:** Given a list, rotate it to the right by k steps, where k is non-negative.  \n",
    "   - **Sample Input:** `Input: [1, 2, 3, 4, 5], k = 2`  \n",
    "   - **Sample Output:** `Output: [4, 5, 1, 2, 3]`  \n"
   ]
  },
  {
   "cell_type": "code",
   "execution_count": 73,
   "metadata": {},
   "outputs": [
    {
     "name": "stdout",
     "output_type": "stream",
     "text": [
      "[4, 5, 1, 2, 3]\n"
     ]
    }
   ],
   "source": [
    "def rotate(nums, k):\n",
    "    k = k % len(nums)  # In case k is greater than the length of the list\n",
    "    return nums[-k:] + nums[:-k]\n",
    "\n",
    "# Sample Input\n",
    "nums = [1, 2, 3, 4, 5]\n",
    "k = 2\n",
    "print(rotate(nums, k))  # Output: [4, 5, 1, 2, 3]\n"
   ]
  },
  {
   "cell_type": "markdown",
   "metadata": {},
   "source": [
    "10. **Group Anagrams**  \n",
    "   - **Question:** Write a function that groups anagrams from a list of strings. Each group of anagrams should appear in the output as a list.  \n",
    "   - **Sample Input:** `Input: [\"eat\", \"tea\", \"tan\", \"ate\", \"nat\", \"bat\"]`  \n",
    "   - **Sample Output:** `Output: [[\"eat\", \"tea\", \"ate\"], [\"tan\", \"nat\"], [\"bat\"]]`  "
   ]
  },
  {
   "cell_type": "code",
   "execution_count": 74,
   "metadata": {},
   "outputs": [
    {
     "name": "stdout",
     "output_type": "stream",
     "text": [
      "[['eat', 'tea', 'ate'], ['tan', 'nat'], ['bat']]\n"
     ]
    }
   ],
   "source": [
    "from collections import defaultdict\n",
    "\n",
    "def groupAnagrams(strs):\n",
    "    anagrams = defaultdict(list)\n",
    "    for s in strs:\n",
    "        anagrams[tuple(sorted(s))].append(s)\n",
    "    return list(anagrams.values())\n",
    "\n",
    "# Sample Input\n",
    "strs = [\"eat\", \"tea\", \"tan\", \"ate\", \"nat\", \"bat\"]\n",
    "print(groupAnagrams(strs))  # Output: [['eat', 'tea', 'ate'], ['tan', 'nat'], ['bat']]\n"
   ]
  },
  {
   "cell_type": "markdown",
   "metadata": {},
   "source": [
    "11. **Top K Frequent Elements**  \n",
    "   - **Question:** Given a list of elements, return the K most frequent elements in descending order of frequency.  \n",
    "   - **Sample Input:** `Input: [1, 1, 1, 2, 2, 3], k = 2`  \n",
    "   - **Sample Output:** `Output: [1, 2]`  "
   ]
  },
  {
   "cell_type": "code",
   "execution_count": 75,
   "metadata": {},
   "outputs": [
    {
     "name": "stdout",
     "output_type": "stream",
     "text": [
      "[1, 2]\n"
     ]
    }
   ],
   "source": [
    "from collections import Counter\n",
    "\n",
    "def topKFrequent(nums, k):\n",
    "    count = Counter(nums)\n",
    "    return [item[0] for item in count.most_common(k)]\n",
    "\n",
    "# Sample Input\n",
    "nums = [1, 1, 1, 2, 2, 3]\n",
    "k = 2\n",
    "print(topKFrequent(nums, k))  # Output: [1, 2]\n"
   ]
  },
  {
   "cell_type": "markdown",
   "metadata": {},
   "source": [
    "12. **Longest Consecutive Sequence**  \n",
    "   - **Question:** Given an unsorted list of integers, find the length of the longest consecutive elements sequence.  \n",
    "   - **Sample Input:** `Input: [100, 4, 200, 1, 3, 2]`  \n",
    "   - **Sample Output:** `Output: 4` (since the sequence is `[1, 2, 3, 4]`)  "
   ]
  },
  {
   "cell_type": "code",
   "execution_count": 76,
   "metadata": {},
   "outputs": [
    {
     "name": "stdout",
     "output_type": "stream",
     "text": [
      "4\n"
     ]
    }
   ],
   "source": [
    "def longestConsecutive(nums):\n",
    "    if not nums:\n",
    "        return 0\n",
    "    nums = set(nums)\n",
    "    longest = 0\n",
    "    for num in nums:\n",
    "        if num - 1 not in nums:\n",
    "            current_num = num\n",
    "            current_streak = 1\n",
    "            while current_num + 1 in nums:\n",
    "                current_num += 1\n",
    "                current_streak += 1\n",
    "            longest = max(longest, current_streak)\n",
    "    return longest\n",
    "\n",
    "# Sample Input\n",
    "nums = [100, 4, 200, 1, 3, 2]\n",
    "print(longestConsecutive(nums))  # Output: 4\n"
   ]
  },
  {
   "cell_type": "markdown",
   "metadata": {},
   "source": [
    "13. **Two Sum (Unique Pairs)**  \n",
    "   - **Question:** Given an integer list, find all unique pairs of elements that sum up to a specific target.  \n",
    "   - **Sample Input:** `Input: [1, 1, 2, 45, 46, 46], target = 47`  \n",
    "   - **Sample Output:** `Output: [(1, 46), (2, 45)]`  \n"
   ]
  },
  {
   "cell_type": "code",
   "execution_count": 77,
   "metadata": {},
   "outputs": [
    {
     "name": "stdout",
     "output_type": "stream",
     "text": [
      "[(1, 46), (2, 45)]\n"
     ]
    }
   ],
   "source": [
    "def twoSum(nums, target):\n",
    "    seen = set()\n",
    "    result = set()\n",
    "    for num in nums:\n",
    "        complement = target - num\n",
    "        if complement in seen:\n",
    "            result.add(tuple(sorted((num, complement))))\n",
    "        seen.add(num)\n",
    "    return list(result)\n",
    "\n",
    "# Sample Input\n",
    "nums = [1, 1, 2, 45, 46, 46]\n",
    "target = 47\n",
    "print(twoSum(nums, target))  # Output: [(1, 46), (2, 45)]\n"
   ]
  },
  {
   "cell_type": "markdown",
   "metadata": {},
   "source": [
    "\n",
    "14. **Tuple Sorting by Second Element**  \n",
    "   - **Question:** Given a list of tuples, sort the list by the second element in each tuple.  \n",
    "   - **Sample Input:** `Input: [(1, 3), (2, 2), (3, 1)]`  \n",
    "   - **Sample Output:** `Output: [(3, 1), (2, 2), (1, 3)]`  "
   ]
  },
  {
   "cell_type": "code",
   "execution_count": 78,
   "metadata": {},
   "outputs": [
    {
     "name": "stdout",
     "output_type": "stream",
     "text": [
      "[(3, 1), (2, 2), (1, 3)]\n"
     ]
    }
   ],
   "source": [
    "def sortBySecondElement(tuples):\n",
    "    return sorted(tuples, key=lambda x: x[1])\n",
    "\n",
    "# Sample Input\n",
    "tuples = [(1, 3), (2, 2), (3, 1)]\n",
    "print(sortBySecondElement(tuples))  # Output: [(3, 1), (2, 2), (1, 3)]\n"
   ]
  },
  {
   "attachments": {},
   "cell_type": "markdown",
   "metadata": {},
   "source": [
    "## **Exception handling**\n",
    "\n",
    "\n",
    "1. **Exceptions**:\n",
    "   - Exceptions are events that occur during the execution of a program that disrupt the normal flow of the program.\n",
    "   - When an exceptional situation arises, an exception is raised, and the program's control flow is transferred to an exception handler.\n",
    "   - Exceptions help handle errors, respond to unexpected situations, and provide a mechanism for graceful program termination.\n",
    "\n",
    "2. **Default Exceptions**:\n",
    "   - Python provides a set of built-in exceptions to handle common errors and exceptional conditions.\n",
    "   - Examples of default exceptions include `ZeroDivisionError`, `TypeError`, `FileNotFoundError`, `ValueError`, and `IndexError`.\n",
    "   - Each exception has a specific meaning and can be caught and handled independently.\n",
    "\n",
    "3. **Creating Custom Exceptions**:\n",
    "   - Python allows you to define custom exceptions to represent specific error conditions in your program.\n",
    "   - Custom exceptions are created by defining new classes that inherit from the *Exception* class or its subclasses.\n",
    "   - By creating custom exceptions, you can encapsulate specialized error handling logic and improve code readability.\n",
    "\n",
    "   ```python\n",
    "   class CustomError(Exception):\n",
    "       pass\n",
    "\n",
    "   class CustomValueError(ValueError):\n",
    "       pass\n",
    "\n",
    "   # Usage\n",
    "   def validate_age(age):\n",
    "       if age < 0:\n",
    "           raise CustomValueError(\"Invalid age value: age must be non-negative.\")\n",
    "   ```\n",
    "\n",
    "4. **Handling Exceptions**:\n",
    "   - Exceptions can be handled using the `try-except` statement.\n",
    "   - The `try` block contains the code that may raise an exception, and the `except` block specifies the exception(s) to catch and how to handle them.\n",
    "   - Multiple `except` blocks can be used to handle different exceptions separately.\n",
    "   - Certainly! The `finally` block is a part of the `try-except` statement in Python that allows you to specify code that will be executed    regardless of whether an exception occurs or not. The `finally` block is optional and follows the `try` and `except` blocks.\n",
    "\n",
    "    The purpose of the `finally` block is to provide a place to clean up resources or perform any necessary actions that should always occur, regardless of whether an exception is raised or not. It ensures that certain code is executed even if an exception is raised and caught by an `except` block.\n",
    "\n",
    "    Here is the structure of a `try-except-finally` statement:\n",
    "\n",
    "    ```python\n",
    "    try:\n",
    "        # Code that may raise an exception\n",
    "        # ...\n",
    "    except ExceptionType:\n",
    "        # Exception handling code\n",
    "        # ...\n",
    "    finally:\n",
    "        # Code that will always be executed, regardless of whether an exception occurred or not\n",
    "        # ...\n",
    "    ```"
   ]
  },
  {
   "cell_type": "markdown",
   "metadata": {},
   "source": [
    "a. **Basic Exception Handling**\n",
    "\n",
    "```python\n",
    "try:\n",
    "    numerator = 10\n",
    "    denominator = 0\n",
    "    result = numerator / denominator  # This will raise a ZeroDivisionError\n",
    "except ZeroDivisionError as e:\n",
    "    print(f\"Error: {e}. You cannot divide by zero.\")\n",
    "```\n",
    "\n",
    "b. **Handling Multiple Exceptions**\n",
    "\n",
    "When handling multiple exceptions, you can catch different types of exceptions separately or together. Here’s an example of both methods:\n",
    "\n",
    "- **Separate Handling**\n",
    "\n",
    "    ```python\n",
    "    try:\n",
    "        number = int(input(\"Enter a number: \"))  # This can raise ValueError\n",
    "        result = 10 / number  # This can raise ZeroDivisionError\n",
    "        print(f\"Result: {result}\")\n",
    "    except ValueError as e:\n",
    "        print(f\"Value Error: {e}. Please enter a valid integer.\")\n",
    "    except ZeroDivisionError as e:\n",
    "        print(f\"Zero Division Error: {e}. You cannot divide by zero.\")\n",
    "    ```\n",
    "\n",
    "- **Combined Handling**\n",
    "\n",
    "    You can also handle multiple exceptions in a single `except` block by providing a tuple of exception types.\n",
    "\n",
    "    ```python\n",
    "    try:\n",
    "        number = int(input(\"Enter a number: \"))  # This can raise ValueError\n",
    "        result = 10 / number  # This can raise ZeroDivisionError\n",
    "        print(f\"Result: {result}\")\n",
    "    except (ValueError, ZeroDivisionError) as e:\n",
    "        print(f\"An error occurred: {e}. Please enter a valid integer and avoid zero.\")\n",
    "    ```\n",
    "\n",
    "\n",
    "- **Using the `finally` Statement**\n",
    "\n",
    "    The `finally` block is used to execute code regardless of whether an exception occurred or not. It is often used for cleanup actions, such as closing files or releasing resources.\n",
    "\n",
    "    ```python\n",
    "    try:\n",
    "        file = open('data.txt', 'r')\n",
    "        data = file.read()\n",
    "        print(data)\n",
    "    except FileNotFoundError as e:\n",
    "        print(f\"Error: {e}. The file was not found.\")\n",
    "    finally:\n",
    "        print(\"Executing finally block.\")\n",
    "        file.close()  # This will always execute to close the file\n",
    "    ```\n"
   ]
  },
  {
   "cell_type": "markdown",
   "metadata": {},
   "source": [
    "6. **Raising Exceptions**:\n",
    "   - Exceptions can be raised explicitly using the `raise` statement.\n",
    "   - `raise` is followed by an instance of an exception class or an exception object.\n",
    "   - It is useful for indicating exceptional conditions or errors based on specific program logic.\n",
    "\n",
    "   ```python\n",
    "   def validate_input(value):\n",
    "       if not isinstance(value, int):\n",
    "           raise ValueError(\"Input must be an integer.\")\n",
    "       if value < 0:\n",
    "           raise CustomError(\"Invalid input value.\")\n",
    "\n",
    "   try:\n",
    "       validate_input(\"abc\")\n",
    "   except ValueError as ve:\n",
    "       print(\"Validation error:\", str(ve))\n",
    "   except CustomError as ce:\n",
    "       print(\"Custom error:\", str(ce))\n",
    "   ```\n"
   ]
  },
  {
   "cell_type": "markdown",
   "metadata": {},
   "source": [
    "In Python, exceptions are structured in a hierarchy that helps organize the different types of errors that can occur, allowing programmers to handle each error appropriately. At the top of this hierarchy is the `BaseException` class, which all other exceptions inherit from. Here's a more detailed breakdown:\n",
    "\n",
    "### Exception Hierarchy Overview\n",
    "\n",
    "1. **BaseException**: This is the ultimate base class for all exceptions. Directly inheriting from `BaseException` are some special types of exceptions used for system-level events:\n",
    "   - **SystemExit**: Raised by the `sys.exit()` function, used to exit the program.\n",
    "   - **KeyboardInterrupt**: Raised when the user interrupts program execution, typically by pressing `Ctrl+C`.\n",
    "   - **GeneratorExit**: Raised when a generator or coroutine is closed.\n",
    "\n",
    "   `BaseException` and its subclasses represent exceptions that often indicate the program should stop or pause. You generally don’t want to catch these in everyday error handling because they manage system-level events.\n",
    "\n",
    "2. **Exception**: The next level in the hierarchy and the base class for most errors you'll encounter in code. If you write `except Exception`, you can handle most runtime errors without catching `BaseException` subclasses like `SystemExit` and `KeyboardInterrupt`, which is usually what you want.\n",
    "\n",
    "   Inside `Exception`, there are various error categories that group similar types of errors together. These categories include:\n",
    "\n",
    "   - **ArithmeticError**: Base class for errors in arithmetic operations.\n",
    "     - **ZeroDivisionError**: Raised when you attempt to divide by zero.\n",
    "     - **OverflowError**: Raised when a mathematical calculation exceeds the maximum limit for a numeric type.\n",
    "     - **FloatingPointError**: Raised when a floating-point operation fails (this is rarely seen in modern Python).\n",
    "\n",
    "   - **LookupError**: Base class for errors when a look-up operation fails (e.g., trying to access an index or key that doesn’t exist).\n",
    "     - **IndexError**: Raised when a sequence index is out of range.\n",
    "     - **KeyError**: Raised when a dictionary key is not found.\n",
    "\n",
    "   - **ValueError**: Raised when a function receives a valid type argument, but its value is inappropriate (e.g., passing a string to a function that requires an integer).\n",
    "\n",
    "   - **TypeError**: Raised when an operation or function is applied to an object of inappropriate type.\n",
    "\n",
    "   - **ImportError**: Raised when an import statement fails to find the module definition.\n",
    "\n",
    "### How Exception Handling Works\n",
    "\n",
    "When you write `except Exception:`, Python will catch errors derived from `Exception` and ignore `BaseException` errors. This lets you manage most runtime issues without interfering with system-level events.\n",
    "\n",
    "#### Example:\n",
    "```python\n",
    "try:\n",
    "    # Some code that may raise an exception\n",
    "    result = 10 / 0\n",
    "except ZeroDivisionError:\n",
    "    print(\"Cannot divide by zero!\")\n",
    "except Exception as e:\n",
    "    print(f\"An error occurred: {e}\")\n",
    "```\n",
    "\n",
    "In this example:\n",
    "- The `ZeroDivisionError` specifically handles division by zero.\n",
    "- A general `except Exception` would handle any other runtime errors not specifically named.\n",
    "\n",
    "By understanding the exception hierarchy, you can target specific types of errors precisely, avoiding unwanted system-level errors and ensuring smooth control over your code's error-handling behavior."
   ]
  },
  {
   "cell_type": "code",
   "execution_count": 79,
   "metadata": {},
   "outputs": [
    {
     "name": "stdout",
     "output_type": "stream",
     "text": [
      "Error: 'hello' cannot be converted to an integer.\n",
      "Error: Index 10 is out of range.\n",
      "Error: Division by zero is not allowed.\n"
     ]
    }
   ],
   "source": [
    "def process_data(data, index, divisor):\n",
    "    try:\n",
    "        # Attempt to retrieve an item at a specific index\n",
    "        item = data[index]\n",
    "        \n",
    "        # Try to convert item to integer\n",
    "        number = int(item)\n",
    "        \n",
    "        # Attempt division\n",
    "        result = number / divisor\n",
    "        print(f\"Result: {result}\")\n",
    "    \n",
    "    # Specific exception for division errors\n",
    "    except ZeroDivisionError:\n",
    "        print(\"Error: Division by zero is not allowed.\")\n",
    "    \n",
    "    # Specific exception for incorrect index\n",
    "    except IndexError:\n",
    "        print(f\"Error: Index {index} is out of range.\")\n",
    "    \n",
    "    # Specific exception for invalid integer conversion\n",
    "    except ValueError:\n",
    "        print(f\"Error: '{data[index]}' cannot be converted to an integer.\")\n",
    "    \n",
    "    # General exception that catches any other runtime errors\n",
    "    except Exception as e:\n",
    "        print(f\"An unexpected error occurred: {e}\")\n",
    "\n",
    "# Example data\n",
    "data = [\"10\", \"hello\", \"30\"]\n",
    "process_data(data, 1, 5)    # Will raise ValueError\n",
    "process_data(data, 10, 5)   # Will raise IndexError\n",
    "process_data(data, 0, 0)    # Will raise ZeroDivisionError\n"
   ]
  },
  {
   "cell_type": "markdown",
   "metadata": {},
   "source": [
    "#### Explanation:\n",
    "\n",
    "1. **ZeroDivisionError** is a subclass of `ArithmeticError`, which in turn is a subclass of `Exception`. When you call `process_data(data, 0, 0)`, dividing by zero raises `ZeroDivisionError`, which is handled by the specific `except ZeroDivisionError` block.\n",
    "\n",
    "2. **IndexError** is a subclass of `LookupError`, which also inherits from `Exception`. When you call `process_data(data, 10, 5)`, accessing an invalid index raises `IndexError`, which is handled by the specific `except IndexError` block.\n",
    "\n",
    "3. **ValueError** is a direct subclass of `Exception`. When you call `process_data(data, 1, 5)`, attempting to convert the string `\"hello\"` to an integer raises `ValueError`, which is caught by `except ValueError`.\n",
    "\n",
    "4. **Exception** as a general case: If any other unexpected errors occur, they’ll be caught by the generic `except Exception as e` block. This block won't catch system-level exceptions (like `KeyboardInterrupt`) because `Exception` doesn’t inherit from `BaseException`.\n",
    "\n",
    "By structuring `except` blocks this way, Python checks each block from the most specific to the more general. This order is crucial for effective error handling and ensures that each type of error is managed appropriately based on the hierarchy."
   ]
  },
  {
   "cell_type": "markdown",
   "metadata": {},
   "source": [
    "## **Object Oriented Programming with Python**"
   ]
  },
  {
   "cell_type": "markdown",
   "metadata": {},
   "source": [
    "### **Introduction**\n",
    "\n",
    "Object-Oriented Programming (OOP) is a programming paradigm that uses \"objects\"—data structures consisting of fields and methods—to design applications and computer programs. OOP is centered on the concept of classes and objects, which help organize and structure code in a way that is easy to manage and scale.\n",
    "\n",
    "#### **Why OOP is Useful**\n",
    "\n",
    "1. **Modularity**:  \n",
    "   Code is organized into classes, which makes it easier to separate concerns and break down complex problems into manageable parts.\n",
    "\n",
    "2. **Reusability**:  \n",
    "   Classes and objects can be reused across multiple programs or different parts of the same program without rewriting code. Inheritance further allows classes to extend functionality of existing classes.\n",
    "\n",
    "3. **Organization**:  \n",
    "   OOP helps organize code logically by grouping related data and functions. This structure makes programs easier to understand, maintain, and extend.\n",
    "\n",
    "4. **Maintainability**:  \n",
    "   Encapsulation and abstraction make it easier to update and maintain code without affecting other parts of the application.\n",
    "\n",
    "5. **Extensibility**:  \n",
    "   By using inheritance and polymorphism, new classes can extend existing ones, allowing for flexible and scalable designs.\n"
   ]
  },
  {
   "cell_type": "markdown",
   "metadata": {},
   "source": [
    "### **Core Concepts Of OOPS**"
   ]
  },
  {
   "cell_type": "markdown",
   "metadata": {},
   "source": [
    "#### **Class**\n",
    "\n",
    "##### Defining a Class in Python\n",
    "In Python, a class is created using the `class` keyword followed by the class name and a colon. The class name is usually written in **PascalCase** (first letter of each word capitalized).\n",
    "\n",
    "Here’s the syntax for defining a basic class:\n",
    "\n",
    "```python\n",
    "class Student:\n",
    "    # Class body goes here\n",
    "    pass\n",
    "```\n",
    "\n",
    "In this example, `Student` is a class. Currently, it doesn’t do anything because we’ve just used `pass` as a placeholder. We’ll add more functionality as we proceed.\n",
    "\n",
    "\n",
    "#### **Object**\n",
    "\n",
    "##### Creating an Object (Instantiation)\n",
    "To create an object (an instance of a class), we call the class name followed by parentheses. This process is called **instantiation**.\n",
    "\n",
    "\n",
    "\n",
    "\n"
   ]
  },
  {
   "cell_type": "code",
   "execution_count": 80,
   "metadata": {},
   "outputs": [],
   "source": [
    "class Student:\n",
    "    # Class body goes here\n",
    "    pass\n",
    "# Creating an object of the Student class\n",
    "student1 = Student()"
   ]
  },
  {
   "cell_type": "markdown",
   "metadata": {},
   "source": [
    "Here, `student1` is an object of the `Student` class. Right now, it doesn’t have any properties or methods, but it’s an instance of the `Student` blueprint.\n"
   ]
  },
  {
   "cell_type": "markdown",
   "metadata": {},
   "source": [
    "#### **Attributes**\n",
    "\n",
    "##### What are Attributes?\n",
    "Attributes are data or properties associated with a class and its objects. Attributes can be of two types:\n",
    "\n",
    "1. **Instance Attributes**: Unique to each object (e.g., `name` and `age` of a student).\n",
    "2. **Class Attributes**: Shared across all instances of the class (e.g., `school_name` that applies to all students).\n",
    "\n",
    "##### Syntax for Defining Attributes\n",
    "\n",
    "- **Instance Attributes** are typically defined inside the `__init__` method, which initializes each object.\n",
    "- **Class Attributes** are defined directly within the class, outside any methods.\n",
    "\n",
    "```python\n",
    "class Student:\n",
    "    # Class attribute\n",
    "    school_name = \"Greenwood High\"\n",
    "\n",
    "    # Instance attributes defined in the initializer\n",
    "    def __init__(self, name, age):\n",
    "        self.name = name  # Instance attribute\n",
    "        self.age = age    # Instance attribute\n",
    "```\n",
    "\n",
    "In this example:\n",
    "- `school_name` is a class attribute, so it’s the same for all `Student` objects.\n",
    "- `name` and `age` are instance attributes, unique to each object and set when the object is created.\n",
    "\n",
    "##### Creating an Object with Attributes\n",
    "Let’s create an object of `Student` and see the attributes in action."
   ]
  },
  {
   "cell_type": "code",
   "execution_count": 81,
   "metadata": {},
   "outputs": [
    {
     "name": "stdout",
     "output_type": "stream",
     "text": [
      "Alice 15\n",
      "Bob 16\n",
      "Greenwood High\n",
      "Greenwood High\n"
     ]
    }
   ],
   "source": [
    "class Student:\n",
    "    # Class attribute\n",
    "    school_name = \"Greenwood High\"\n",
    "\n",
    "    # Instance attributes defined in the initializer\n",
    "    def __init__(self, name, age):\n",
    "        self.name = name  # Instance attribute\n",
    "        self.age = age  \n",
    "student1 = Student(\"Alice\", 15)\n",
    "student2 = Student(\"Bob\", 16)\n",
    "\n",
    "print(student1.name, student1.age)       # Output: Alice 15\n",
    "print(student2.name, student2.age)       # Output: Bob 16\n",
    "print(student1.school_name)              # Output: Greenwood High\n",
    "print(student2.school_name)  "
   ]
  },
  {
   "cell_type": "markdown",
   "metadata": {},
   "source": [
    "#### **Methods**\n",
    "\n",
    "##### What is a Method?\n",
    "A **method** is a function defined inside a class that operates on its objects. Methods can perform actions using the object's attributes, allowing us to define specific behaviors.\n",
    "\n",
    "##### Syntax for Defining a Method\n",
    "Methods are defined like regular functions, but they must include `self` as the first parameter, which refers to the specific instance of the class (object) calling the method."
   ]
  },
  {
   "cell_type": "code",
   "execution_count": 82,
   "metadata": {},
   "outputs": [
    {
     "name": "stdout",
     "output_type": "stream",
     "text": [
      "Name: Alice, Age: 15, School: Greenwood High\n"
     ]
    }
   ],
   "source": [
    "class Student:\n",
    "    school_name = \"Greenwood High\"\n",
    "\n",
    "    def __init__(self, name, age):\n",
    "        self.name = name\n",
    "        self.age = age\n",
    "\n",
    "    # Instance method\n",
    "    def display_info(self):\n",
    "        print(f\"Name: {self.name}, Age: {self.age}, School: {Student.school_name}\")\n",
    "student1 = Student(\"Alice\", 15)\n",
    "student1.display_info()  # Output: Name: Alice, Age: 15, School: Greenwood High"
   ]
  },
  {
   "cell_type": "markdown",
   "metadata": {},
   "source": [
    "#### **Constructors and the `__init__` Method**\n",
    "\n",
    "##### Purpose of Constructors\n",
    "A **constructor** is a special method in a class that is automatically called when a new object of that class is created. In Python, the constructor is the `__init__` method. Its main purpose is to initialize the object’s attributes with default or specified values.\n",
    "\n",
    "When we create an object of a class, Python calls the `__init__` method of that class to initialize the object’s attributes, so each object starts with its own unique data.\n",
    "\n",
    "##### The `__init__` Method\n",
    "In Python, the `__init__` method is defined using the `def` keyword, with the name `__init__`, and must include `self` as the first parameter. Additional parameters can be used to initialize specific attributes.\n",
    "\n",
    "**Syntax**:\n",
    "```python\n",
    "class ClassName:\n",
    "    def __init__(self, attribute1, attribute2):\n",
    "        self.attribute1 = attribute1\n",
    "        self.attribute2 = attribute2\n",
    "```\n",
    "\n",
    "Here:\n",
    "- `self.attribute1` and `self.attribute2` represent instance attributes, and `attribute1` and `attribute2` are the values passed in when the object is created.\n",
    "\n",
    "##### Example of a Class with `__init__` Method\n",
    "\n",
    "Let’s create a `Student` class that uses the `__init__` method to initialize `name` and `age` for each student object:\n",
    "\n",
    "```python\n",
    "class Student:\n",
    "    def __init__(self, name, age):\n",
    "        # Initializing instance attributes\n",
    "        self.name = name\n",
    "        self.age = age\n",
    "\n",
    "    def display_info(self):\n",
    "        print(f\"Student Name: {self.name}, Age: {self.age}\")\n",
    "```\n",
    "\n",
    "In this example:\n",
    "- When a `Student` object is created, the `__init__` method assigns values to `name` and `age` attributes based on the input provided.\n",
    "\n",
    "##### Creating an Object with the `__init__` Method\n",
    "\n",
    "Let’s create a `Student` object and observe how `__init__` sets its attributes.\n",
    "\n",
    "```python\n",
    "# Creating a Student object\n",
    "student1 = Student(\"Alice\", 15)\n",
    "\n",
    "# Using a method to display student info\n",
    "student1.display_info()  # Output: Student Name: Alice, Age: 15\n",
    "```\n",
    "\n",
    "In this example:\n",
    "- When `student1` is created, `\"Alice\"` and `15` are passed to the `__init__` method, which assigns them to `name` and `age`.\n",
    "- Calling `display_info` confirms that `name` and `age` are correctly initialized for `student1`.\n",
    "\n",
    "---\n",
    "\n",
    "The `__init__` method is essential in setting up the initial state of an object, ensuring each object has the necessary attributes to function correctly from the moment it’s created."
   ]
  },
  {
   "cell_type": "markdown",
   "metadata": {},
   "source": [
    "#### **Encapsulation and Access Modifiers**\n",
    "\n",
    "##### **What is Encapsulation?**\n",
    "**Encapsulation** is a fundamental concept in object-oriented programming that restricts direct access to certain components of an object. It allows us to control how data is accessed and modified by binding data (attributes) and methods that operate on the data together within a class. By keeping certain data private, encapsulation helps:\n",
    "- Protect data from unauthorized access and modification.\n",
    "- Manage complexity by exposing only the necessary parts of an object.\n",
    "\n",
    "In Python, we achieve encapsulation using **access modifiers** and **getter** and **setter** methods.\n",
    "\n",
    "---\n",
    "\n",
    "#### **Access Modifiers in Python**\n",
    "\n",
    "Python uses a few conventions to indicate the level of access control for attributes and methods. While Python does not have strict access modifiers like `public`, `protected`, and `private` found in other languages, we use naming conventions to indicate the intended accessibility:\n",
    "\n",
    "1. **Public** (no underscore prefix):\n",
    "   - Attributes and methods with no underscore prefix are **public**.\n",
    "   - They can be accessed from outside the class.\n",
    "   - Example: `name`, `display_info`\n",
    "\n",
    "2. **Protected** (single underscore prefix: `_attribute`):\n",
    "   - Attributes and methods with a single underscore (`_`) prefix are **protected**.\n",
    "   - This is a convention that implies these elements are intended for internal use within the class and subclasses but can still be accessed directly.\n",
    "   - Example: `_age`\n",
    "\n",
    "3. **Private** (double underscore prefix: `__attribute`):\n",
    "   - Attributes and methods with a double underscore (`__`) prefix are **private**.\n",
    "   - They cannot be accessed directly from outside the class, making them the most restrictive.\n",
    "   - Example: `__salary`"
   ]
  },
  {
   "cell_type": "code",
   "execution_count": 83,
   "metadata": {},
   "outputs": [
    {
     "name": "stdout",
     "output_type": "stream",
     "text": [
      "Alice\n",
      "50000\n",
      "60000\n",
      "Invalid salary amount. Salary must be positive.\n"
     ]
    }
   ],
   "source": [
    "class Employee:\n",
    "    def __init__(self, name, salary):\n",
    "        self.name = name         # Public attribute\n",
    "        self.__salary = salary    # Private attribute\n",
    "    \n",
    "    # Getter method to access the private attribute\n",
    "    def get_salary(self):\n",
    "        return self.__salary\n",
    "    \n",
    "    # Setter method to modify the private attribute\n",
    "    def set_salary(self, new_salary):\n",
    "        if new_salary > 0:  # Check to ensure valid salary\n",
    "            self.__salary = new_salary\n",
    "        else:\n",
    "            print(\"Invalid salary amount. Salary must be positive.\")\n",
    "    \n",
    "    # Method to display employee information\n",
    "    def display_info(self):\n",
    "        print(f\"Name: {self.name}, Salary: {self.__salary}\")\n",
    "\n",
    "# Using Getter and Setter Methods\n",
    "\n",
    "# Creating an Employee object\n",
    "emp1 = Employee(\"Alice\", 50000)\n",
    "\n",
    "# Accessing public attribute\n",
    "print(emp1.name)  # Output: Alice\n",
    "\n",
    "# Trying to access private attribute directly (will cause an error)\n",
    "# print(emp1.__salary)  # This will raise an AttributeError\n",
    "\n",
    "# Using getter and setter methods\n",
    "print(emp1.get_salary())  # Output: 50000\n",
    "\n",
    "# Setting a new salary using the setter method\n",
    "emp1.set_salary(60000)\n",
    "print(emp1.get_salary())  # Output: 60000\n",
    "\n",
    "# Trying to set an invalid salary\n",
    "emp1.set_salary(-5000)  # Output: Invalid salary amount. Salary must be positive."
   ]
  },
  {
   "cell_type": "markdown",
   "metadata": {},
   "source": [
    "##### Explanation\n",
    "\n",
    "- **Public attribute** `name`: Can be accessed and modified freely.\n",
    "- **Private attribute** `__salary`: Accessed only through the `get_salary` and `set_salary` methods.\n",
    "- **Getter** `get_salary`: Returns the value of `__salary`.\n",
    "- **Setter** `set_salary`: Sets a new value for `__salary` if it meets certain conditions.\n",
    "\n",
    "- **Encapsulation** is enforced through the private `__salary` attribute, making it accessible only via getter and setter methods.\n",
    "- The **getter** method provides a controlled way to access `__salary`.\n",
    "- The **setter** method allows updating `__salary` with validation, preventing invalid data (like negative salary values). \n",
    "\n",
    "This approach ensures `__salary` is safely accessed and modified, demonstrating the benefit of encapsulation in managing access and protecting data integrity."
   ]
  },
  {
   "cell_type": "markdown",
   "metadata": {},
   "source": [
    "#### **Inheritance in Python**\n",
    "\n",
    "##### What is Inheritance?\n",
    "**Inheritance** is a fundamental concept in object-oriented programming that allows a class (known as a **child** or **subclass**) to inherit attributes and methods from another class (known as a **parent** or **superclass**). This enables code reuse and establishes a hierarchical relationship between classes.\n",
    "\n",
    "Inheritance provides several benefits:\n",
    "- **Code Reuse**: Allows developers to use existing code without rewriting it, reducing redundancy.\n",
    "- **Extensibility**: New functionality can be added to existing classes without modifying them, making maintenance easier.\n",
    "- **Hierarchical Classification**: Organizes classes in a way that reflects real-world relationships, promoting better understanding and design.\n",
    "\n",
    "---\n",
    "\n",
    "##### Parent (Superclass) and Child (Subclass)\n",
    "- **Parent Class (Superclass)**: The class whose properties and methods are inherited by another class.\n",
    "- **Child Class (Subclass)**: The class that inherits from the parent class. It can also have its own additional attributes and methods.\n",
    "\n",
    "---\n",
    "\n",
    "##### Example of Inheritance\n",
    "\n",
    "Let’s create a simple example with a `Vehicle` superclass and a `Car` subclass.\n",
    "\n",
    "##### Defining the Superclass\n",
    "```python\n",
    "class Vehicle:\n",
    "    def __init__(self, brand, model):\n",
    "        self.brand = brand  # Instance attribute\n",
    "        self.model = model  # Instance attribute\n",
    "    \n",
    "    def display_info(self):\n",
    "        print(f\"Brand: {self.brand}, Model: {self.model}\")\n",
    "```\n",
    "\n",
    "In this example, `Vehicle` is the parent class that initializes common attributes like `brand` and `model` and has a method to display this information.\n",
    "\n",
    "##### Defining the Subclass\n",
    "```python\n",
    "class Car(Vehicle):  # Car inherits from Vehicle\n",
    "    def __init__(self, brand, model, num_doors):\n",
    "        super().__init__(brand, model)  # Call the superclass constructor\n",
    "        self.num_doors = num_doors  # Additional attribute specific to Car\n",
    "    \n",
    "    # Overriding the display_info method\n",
    "    def display_info(self):\n",
    "        super().display_info()  # Call the superclass method\n",
    "        print(f\"Number of doors: {self.num_doors}\")\n",
    "```\n",
    "\n",
    "In this example:\n",
    "- `Car` is a subclass of `Vehicle`. It inherits the attributes `brand` and `model` and the method `display_info`.\n",
    "- The `__init__` method in `Car` calls the superclass constructor using `super()` to initialize the inherited attributes. It also adds an additional attribute, `num_doors`.\n",
    "- The `display_info` method in `Car` overrides the superclass method to include the `num_doors` information.\n",
    "\n",
    "---\n",
    "\n",
    "##### Using the Subclass\n",
    "\n",
    "Now, let’s create an object of the `Car` class and see how it inherits attributes and methods from the `Vehicle` class.\n",
    "\n",
    "```python\n",
    "# Creating an object of the Car class\n",
    "my_car = Car(\"Toyota\", \"Camry\", 4)\n",
    "\n",
    "# Using the inherited method\n",
    "my_car.display_info()\n",
    "```\n",
    "\n",
    "**Output:**\n",
    "```\n",
    "Brand: Toyota, Model: Camry\n",
    "Number of doors: 4\n",
    "```\n",
    "\n",
    "In this example:\n",
    "- `my_car` is an instance of the `Car` class, which inherits attributes and methods from `Vehicle`.\n",
    "- Calling `display_info()` on `my_car` demonstrates inheritance: it uses the method from the `Vehicle` class and then adds its own functionality."
   ]
  },
  {
   "cell_type": "code",
   "execution_count": 84,
   "metadata": {},
   "outputs": [
    {
     "name": "stdout",
     "output_type": "stream",
     "text": [
      "Brand: Toyota, Model: Camry\n",
      "Number of doors: 4\n"
     ]
    }
   ],
   "source": [
    "class Vehicle:\n",
    "    def __init__(self, brand, model):\n",
    "        self.brand = brand  # Instance attribute\n",
    "        self.model = model  # Instance attribute\n",
    "    \n",
    "    def display_info(self):\n",
    "        print(f\"Brand: {self.brand}, Model: {self.model}\")\n",
    "\n",
    "class Car(Vehicle):  # Car inherits from Vehicle\n",
    "    def __init__(self, brand, model, num_doors):\n",
    "        super().__init__(brand, model)  # Call the superclass constructor\n",
    "        self.num_doors = num_doors  # Additional attribute specific to Car\n",
    "    \n",
    "    # Overriding the display_info method\n",
    "    def display_info(self):\n",
    "        super().display_info()  # Call the superclass method\n",
    "        print(f\"Number of doors: {self.num_doors}\")\n",
    "\n",
    "# Creating an object of the Car class\n",
    "my_car = Car(\"Toyota\", \"Camry\", 4)\n",
    "\n",
    "# Using the inherited method\n",
    "my_car.display_info()"
   ]
  },
  {
   "cell_type": "markdown",
   "metadata": {},
   "source": [
    "#### **Polymorphism in Python**\n",
    "\n",
    "##### What is Polymorphism?\n",
    "**Polymorphism** is a concept in object-oriented programming that allows methods to perform different tasks depending on the object calling them. It enables a single interface (like a method name) to represent different types of actions based on the object. This promotes flexibility and allows objects of different classes to be treated as if they are of the same type, especially when they share a common superclass.\n",
    "\n",
    "In simpler terms, polymorphism allows the same method name to be used across different classes, but with each class implementing its own version of the method.\n",
    "\n",
    "##### Method Overriding\n",
    "One common way to implement polymorphism in Python is **method overriding**. In method overriding, a subclass provides a specific implementation of a method that is already defined in its superclass. When a subclass object calls the overridden method, Python will execute the version in the subclass rather than the one in the superclass.\n",
    "\n",
    "---\n",
    "\n",
    "##### Example of Polymorphism with Method Overriding\n",
    "\n",
    "Let’s use an example of a superclass `Animal` and subclasses `Dog` and `Cat`. Each subclass will override the `speak` method to reflect a unique sound."
   ]
  },
  {
   "cell_type": "code",
   "execution_count": 85,
   "metadata": {},
   "outputs": [
    {
     "name": "stdout",
     "output_type": "stream",
     "text": [
      "Woof!\n",
      "Meow!\n"
     ]
    }
   ],
   "source": [
    "# Polymorphism in Python\n",
    "\n",
    "class Animal:\n",
    "    def __init__(self, name):\n",
    "        self.name = name  # Initialize the animal's name\n",
    "    \n",
    "    # Method to be overridden\n",
    "    def speak(self):\n",
    "        return \"Some sound\"  # Default sound for animals\n",
    "\n",
    "# Defining the subclasses\n",
    "class Dog(Animal):\n",
    "    def speak(self):\n",
    "        return \"Woof!\"  # Dog's specific sound\n",
    "\n",
    "class Cat(Animal):\n",
    "    def speak(self):\n",
    "        return \"Meow!\"  # Cat's specific sound\n",
    "\n",
    "# Demonstrating polymorphism\n",
    "dog = Dog(\"Buddy\")  # Create a Dog instance\n",
    "cat = Cat(\"Whiskers\")  # Create a Cat instance\n",
    "\n",
    "# Calling the speak method on each object\n",
    "print(dog.speak())  # Output: Woof!  # Dog's specific sound\n",
    "print(cat.speak())  # Output: Meow!  # Cat's specific sound\n",
    "\n",
    "\n"
   ]
  },
  {
   "cell_type": "markdown",
   "metadata": {},
   "source": [
    "In this example:\n",
    "- `dog.speak()` calls the `speak` method in `Dog`, which returns `\"Woof!\"`.\n",
    "- `cat.speak()` calls the `speak` method in `Cat`, which returns `\"Meow!\"`.\n",
    "\n",
    "Even though both `Dog` and `Cat` have a `speak` method, each implementation is different, and Python determines which method to call based on the type of object that calls it. This is **polymorphism** in action, as the same method name (`speak`) behaves differently depending on the object.\n"
   ]
  },
  {
   "cell_type": "markdown",
   "metadata": {},
   "source": [
    "#### **Abstraction (Abstract Classes and Methods)**\n",
    "\n",
    "**Abstraction** in OOP is a technique for defining classes and methods that act as a blueprint for other classes. It focuses on hiding the implementation details while exposing only the essential features to the user. By using abstraction, you can ensure that subclasses implement specific behaviors, which enhances modularity and reduces code duplication.\n",
    "\n",
    "An **abstract class** is a class that cannot be instantiated on its own and is meant to be subclassed. It can include both fully implemented methods and methods that are only declared but not implemented (abstract methods). The subclasses of an abstract class are required to provide implementations for its abstract methods.\n",
    "\n",
    "In Python, we use the `abc` (Abstract Base Class) module to create abstract classes and methods. By defining an abstract class, you ensure that subclasses adhere to a particular structure, promoting consistency and making the code more maintainable.\n",
    "\n",
    "##### Using the `abc` Module to Create an Abstract Class\n",
    "\n",
    "In Python, you create an abstract class by inheriting from `ABC`, a base class provided by the `abc` module. To define abstract methods, use the `@abstractmethod` decorator. Any subclass of an abstract class must implement all of its abstract methods, or it will also be treated as abstract.\n",
    "\n",
    "##### Example\n",
    "\n",
    "In this example, we'll create an abstract class `Shape` with an abstract method `area()`. Then, we'll implement this method in subclasses `Rectangle` and `Circle`.\n"
   ]
  },
  {
   "cell_type": "code",
   "execution_count": 86,
   "metadata": {},
   "outputs": [
    {
     "name": "stdout",
     "output_type": "stream",
     "text": [
      "Rectangle Area: 20\n",
      "Circle Area: 28.274333882308138\n"
     ]
    }
   ],
   "source": [
    "from abc import ABC, abstractmethod\n",
    "import math\n",
    "\n",
    "class Shape(ABC):\n",
    "    @abstractmethod\n",
    "    def area(self):\n",
    "        \"\"\"Calculate the area of the shape.\"\"\"\n",
    "        pass\n",
    "\n",
    "class Rectangle(Shape):\n",
    "    def __init__(self, width, height):\n",
    "        self.width = width\n",
    "        self.height = height\n",
    "\n",
    "    def area(self):\n",
    "        return self.width * self.height\n",
    "\n",
    "class Circle(Shape):\n",
    "    def __init__(self, radius):\n",
    "        self.radius = radius\n",
    "\n",
    "    def area(self):\n",
    "        return math.pi * self.radius ** 2\n",
    "\n",
    "# Example usage\n",
    "rect = Rectangle(4, 5)\n",
    "print(\"Rectangle Area:\", rect.area())  # Output: Rectangle Area: 20\n",
    "\n",
    "circle = Circle(3)\n",
    "print(\"Circle Area:\", circle.area())    # Output: Circle Area: 28.27"
   ]
  },
  {
   "cell_type": "markdown",
   "metadata": {},
   "source": [
    "##### Explanation\n",
    "- **Shape**: The `Shape` class is an abstract class that serves as a template. It has an abstract method `area()`, which is intended to be implemented by any subclass that inherits from `Shape`.\n",
    "- **Rectangle** and **Circle**: These are subclasses of `Shape`. Both override and implement the `area()` method. This ensures that each shape has its own way of calculating the area.\n",
    "  \n",
    "This approach ensures that every shape that inherits from `Shape` provides a way to calculate its area, following a consistent structure."
   ]
  },
  {
   "cell_type": "markdown",
   "metadata": {},
   "source": [
    "#### 9. **Magic Methods and Operator Overloading**\n",
    "\n",
    "**Magic methods** (also known as **dunder methods**, short for \"double underscore\") are special methods in Python that enable customization of how objects of a class behave with built-in operations. Magic methods start and end with double underscores (e.g., `__str__`, `__repr__`, `__len__`, `__add__`). They allow you to define how objects interact with operators (`+`, `-`, etc.) and built-in functions (`len()`, `str()`, etc.), enabling a more intuitive and readable way of working with custom objects.\n",
    "\n",
    "**Common Magic Methods**:\n",
    "1. **`__str__`**: Returns a human-readable string representation of the object, typically for printing.\n",
    "2. **`__repr__`**: Returns an official string representation, useful for debugging. Ideally, `eval(repr(obj))` should recreate the object.\n",
    "3. **`__len__`**: Defines the behavior of the `len()` function for an object.\n",
    "4. **`__add__`**: Defines behavior for the `+` operator, allowing custom addition between objects.\n",
    "\n",
    "---\n",
    "\n",
    "##### Example: Operator Overloading with `__add__`\n",
    "\n",
    "Here’s an example demonstrating operator overloading by defining `__add__` for custom behavior in a `Vector` class."
   ]
  },
  {
   "cell_type": "code",
   "execution_count": 87,
   "metadata": {},
   "outputs": [
    {
     "name": "stdout",
     "output_type": "stream",
     "text": [
      "Vector(5, 5)\n"
     ]
    }
   ],
   "source": [
    "class Vector:\n",
    "    def __init__(self, x, y):\n",
    "        self.x = x\n",
    "        self.y = y\n",
    "\n",
    "    def __add__(self, other):\n",
    "        # Overloading the + operator to add two vectors\n",
    "        return Vector(self.x + other.x, self.y + other.y)\n",
    "\n",
    "    def __str__(self):\n",
    "        return f\"Vector({self.x}, {self.y})\"\n",
    "\n",
    "# Example usage\n",
    "v1 = Vector(2, 4)\n",
    "v2 = Vector(3, 1)\n",
    "result = v1 + v2  # Uses __add__ method\n",
    "print(result)  # Output: Vector(5, 5)"
   ]
  },
  {
   "cell_type": "markdown",
   "metadata": {},
   "source": [
    "**Explanation**:\n",
    "- **`__add__`**: This method customizes the behavior of the `+` operator so that it adds two `Vector` objects by summing their `x` and `y` components.\n",
    "- **`__str__`**: This method customizes how the object is printed, giving a clear output of `Vector(x, y)` when using `print()`.\n",
    "\n",
    "By overloading operators through magic methods, you can make custom classes work more naturally with Python operators and built-in functions. This makes code involving complex objects more readable and expressive."
   ]
  },
  {
   "cell_type": "markdown",
   "metadata": {},
   "source": [
    "**Question: Library Management System**\n",
    "\n",
    "Implement a simple library management system with classes that represent different types of library items, such as **Books** and **Magazines**. Each item has a **title**, **author**, **year of publication**, and a **unique ID**. Additionally, create a **Library** class to manage these items. \n",
    "\n",
    "The Library class should support the following operations:\n",
    "1. **Add Item**: Add a book or magazine to the library.\n",
    "2. **Remove Item**: Remove an item by its unique ID.\n",
    "3. **List All Items**: List all items, displaying their details.\n",
    "4. **Search by Title**: Search for items by title and display their details.\n",
    "\n",
    "Use **inheritance** to create `Book` and `Magazine` classes from a base class `LibraryItem`, and use **composition** by having the `Library` class manage multiple `LibraryItem` objects.\n",
    "\n",
    "**Requirements**\n",
    "1. Implement a base class `LibraryItem` with common properties and methods.\n",
    "2. Implement `Book` and `Magazine` classes that inherit from `LibraryItem`.\n",
    "3. Create a `Library` class that uses composition to manage multiple `LibraryItem` objects.\n",
    "4. Demonstrate polymorphism by ensuring that `Library` can handle both `Book` and `Magazine` objects.\n",
    "\n",
    "---\n",
    "\n",
    "**Sample Input/Output**\n",
    "\n",
    "#### Sample Code for Library System\n",
    "```python\n",
    "# Expected library classes and methods to implement\n",
    "library = Library()\n",
    "\n",
    "# Adding books and magazines\n",
    "book1 = Book(title=\"Python Programming\", author=\"John Doe\", year=2020, id=1)\n",
    "magazine1 = Magazine(title=\"Tech Monthly\", author=\"Jane Smith\", year=2023, id=2)\n",
    "library.add_item(book1)\n",
    "library.add_item(magazine1)\n",
    "\n",
    "# Listing all items\n",
    "library.list_all_items()\n",
    "\n",
    "# Searching for a book by title\n",
    "library.search_by_title(\"Python Programming\")\n",
    "\n",
    "# Removing an item by ID\n",
    "library.remove_item(1)\n",
    "```\n",
    "\n",
    "#### Expected Output:\n",
    "```\n",
    "# After adding and listing\n",
    "Library Items:\n",
    "- Book: Python Programming by John Doe, 2020 (ID: 1)\n",
    "- Magazine: Tech Monthly by Jane Smith, 2023 (ID: 2)\n",
    "\n",
    "# After search\n",
    "Found: Book: Python Programming by John Doe, 2020 (ID: 1)\n",
    "\n",
    "# After removing item with ID 1 and listing again\n",
    "Library Items:\n",
    "- Magazine: Tech Monthly by Jane Smith, 2023 (ID: 2)\n",
    "```"
   ]
  },
  {
   "cell_type": "code",
   "execution_count": 88,
   "metadata": {},
   "outputs": [
    {
     "name": "stdout",
     "output_type": "stream",
     "text": [
      "Book: Python Programming by John Doe, 2020 (ID: 1) has been added to the library.\n",
      "Magazine: Tech Monthly by Jane Smith, 2023 (ID: 2) has been added to the library.\n",
      "Library Items:\n",
      "- Book: Python Programming by John Doe, 2020 (ID: 1)\n",
      "- Magazine: Tech Monthly by Jane Smith, 2023 (ID: 2)\n",
      "Found: Book: Python Programming by John Doe, 2020 (ID: 1)\n",
      "Item with ID 1 has been removed from the library.\n",
      "Library Items:\n",
      "- Magazine: Tech Monthly by Jane Smith, 2023 (ID: 2)\n"
     ]
    }
   ],
   "source": [
    "from abc import ABC, abstractmethod\n",
    "\n",
    "# Base class for library items\n",
    "class LibraryItem(ABC):\n",
    "    def __init__(self, title, author, year, item_id):\n",
    "        self.title = title\n",
    "        self.author = author\n",
    "        self.year = year\n",
    "        self.item_id = item_id\n",
    "\n",
    "    @abstractmethod\n",
    "    def get_details(self):\n",
    "        pass\n",
    "\n",
    "# Book class inheriting from LibraryItem\n",
    "class Book(LibraryItem):\n",
    "    def get_details(self):\n",
    "        return f\"Book: {self.title} by {self.author}, {self.year} (ID: {self.item_id})\"\n",
    "\n",
    "# Magazine class inheriting from LibraryItem\n",
    "class Magazine(LibraryItem):\n",
    "    def get_details(self):\n",
    "        return f\"Magazine: {self.title} by {self.author}, {self.year} (ID: {self.item_id})\"\n",
    "\n",
    "# Library class that manages LibraryItems using composition\n",
    "class Library:\n",
    "    def __init__(self):\n",
    "        self.items = []  # List to store all library items\n",
    "\n",
    "    def add_item(self, item):\n",
    "        \"\"\"Add a new item to the library.\"\"\"\n",
    "        self.items.append(item)\n",
    "        print(f\"{item.get_details()} has been added to the library.\")\n",
    "\n",
    "    def remove_item(self, item_id):\n",
    "        \"\"\"Remove an item by its unique ID.\"\"\"\n",
    "        for item in self.items:\n",
    "            if item.item_id == item_id:\n",
    "                self.items.remove(item)\n",
    "                print(f\"Item with ID {item_id} has been removed from the library.\")\n",
    "                return\n",
    "        print(f\"No item found with ID {item_id}.\")\n",
    "\n",
    "    def list_all_items(self):\n",
    "        \"\"\"List all items in the library.\"\"\"\n",
    "        if not self.items:\n",
    "            print(\"The library is empty.\")\n",
    "        else:\n",
    "            print(\"Library Items:\")\n",
    "            for item in self.items:\n",
    "                print(f\"- {item.get_details()}\")\n",
    "\n",
    "    def search_by_title(self, title):\n",
    "        \"\"\"Search for items by title.\"\"\"\n",
    "        found = False\n",
    "        for item in self.items:\n",
    "            if item.title.lower() == title.lower():\n",
    "                print(f\"Found: {item.get_details()}\")\n",
    "                found = True\n",
    "        if not found:\n",
    "            print(f\"No items found with title '{title}'.\")\n",
    "\n",
    "# Example usage\n",
    "library = Library()\n",
    "\n",
    "# Adding books and magazines\n",
    "book1 = Book(title=\"Python Programming\", author=\"John Doe\", year=2020, item_id=1)\n",
    "magazine1 = Magazine(title=\"Tech Monthly\", author=\"Jane Smith\", year=2023, item_id=2)\n",
    "library.add_item(book1)\n",
    "library.add_item(magazine1)\n",
    "\n",
    "# Listing all items\n",
    "library.list_all_items()\n",
    "\n",
    "# Searching for a book by title\n",
    "library.search_by_title(\"Python Programming\")\n",
    "\n",
    "# Removing an item by ID\n",
    "library.remove_item(1)\n",
    "\n",
    "# Listing all items again to confirm removal\n",
    "library.list_all_items()\n"
   ]
  },
  {
   "cell_type": "markdown",
   "metadata": {},
   "source": [
    "## Practice Questions"
   ]
  },
  {
   "cell_type": "markdown",
   "metadata": {},
   "source": [
    "1. Handle Division by Zero Exception\n",
    "\n",
    "**Description:**  \n",
    "Write a function `divide_numbers(a: int, b: int) -> float` that divides two numbers `a` and `b`. If the denominator `b` is zero, raise an appropriate exception with the message `\"Cannot divide by zero!\"`.\n",
    "\n",
    "**Input:**\n",
    "- Two integers, `a` and `b`, where `a` is the numerator and `b` is the denominator.\n",
    "\n",
    "**Output:**\n",
    "- Return the result of the division if successful.\n",
    "- If division by zero occurs, raise an exception with the message `\"Cannot divide by zero!\"`.\n",
    "\n",
    "**Example:**\n",
    "```python\n",
    "divide_numbers(10, 2)  # Returns: 5.0\n",
    "divide_numbers(10, 0)  # Raises: ValueError: Cannot divide by zero!\n",
    "```"
   ]
  },
  {
   "cell_type": "code",
   "execution_count": 89,
   "metadata": {},
   "outputs": [
    {
     "name": "stdout",
     "output_type": "stream",
     "text": [
      "5.0\n",
      "Cannot divide by zero!\n"
     ]
    }
   ],
   "source": [
    "def divide_numbers(a: int, b: int) -> float:\n",
    "    try:\n",
    "        return a / b\n",
    "    except ZeroDivisionError:\n",
    "        raise ValueError(\"Cannot divide by zero!\") from None  # Raises ValueError without nesting\n",
    "\n",
    "# Test\n",
    "print(divide_numbers(10, 2))  # Returns: 5.0\n",
    "try:\n",
    "    print(divide_numbers(10, 0))  # Raises: ValueError: Cannot divide by zero!\n",
    "except ValueError as e:\n",
    "    print(e)\n"
   ]
  },
  {
   "cell_type": "markdown",
   "metadata": {},
   "source": [
    "2. Handle Invalid Input Type\n",
    "\n",
    "**Description:**  \n",
    "Write a function `calculate_area(radius: int) -> float` that calculates the area of a circle using the formula \\( \\pi \\times r^2 \\), where `r` is the radius. If the radius is a negative value or not a number, raise an exception with the message `\"Invalid radius input!\"`.\n",
    "\n",
    "**Input:**\n",
    "- A single value `radius`, which represents the radius of a circle.\n",
    "\n",
    "**Output:**\n",
    "- Return the area of the circle if the radius is valid.\n",
    "- Raise an exception `\"Invalid radius input!\"` for invalid input values.\n",
    "\n",
    "**Example:**\n",
    "```python\n",
    "calculate_area(5)  # Returns: 78.53981633974483\n",
    "calculate_area(-5)  # Raises: ValueError: Invalid radius input!\n",
    "calculate_area(\"five\")  # Raises: ValueError: Invalid radius input!\n",
    "```"
   ]
  },
  {
   "cell_type": "code",
   "execution_count": 90,
   "metadata": {},
   "outputs": [
    {
     "name": "stdout",
     "output_type": "stream",
     "text": [
      "78.53981633974483\n"
     ]
    },
    {
     "ename": "ValueError",
     "evalue": "Invalid radius input!",
     "output_type": "error",
     "traceback": [
      "\u001b[0;31m---------------------------------------------------------------------------\u001b[0m",
      "\u001b[0;31mValueError\u001b[0m                                Traceback (most recent call last)",
      "Cell \u001b[0;32mIn[90], line 13\u001b[0m\n\u001b[1;32m     11\u001b[0m \u001b[38;5;66;03m# Test\u001b[39;00m\n\u001b[1;32m     12\u001b[0m \u001b[38;5;28mprint\u001b[39m(calculate_area(\u001b[38;5;241m5\u001b[39m))  \u001b[38;5;66;03m# Returns: 78.53981633974483\u001b[39;00m\n\u001b[0;32m---> 13\u001b[0m \u001b[38;5;28mprint\u001b[39m(\u001b[43mcalculate_area\u001b[49m\u001b[43m(\u001b[49m\u001b[38;5;241;43m-\u001b[39;49m\u001b[38;5;241;43m5\u001b[39;49m\u001b[43m)\u001b[49m)  \u001b[38;5;66;03m# Raises: ValueError: Invalid radius input!\u001b[39;00m\n\u001b[1;32m     14\u001b[0m \u001b[38;5;28mprint\u001b[39m(calculate_area(\u001b[38;5;124m\"\u001b[39m\u001b[38;5;124mfive\u001b[39m\u001b[38;5;124m\"\u001b[39m))  \u001b[38;5;66;03m# Raises: ValueError: Invalid radius input!\u001b[39;00m\n",
      "Cell \u001b[0;32mIn[90], line 9\u001b[0m, in \u001b[0;36mcalculate_area\u001b[0;34m(radius)\u001b[0m\n\u001b[1;32m      7\u001b[0m     \u001b[38;5;28;01mreturn\u001b[39;00m math\u001b[38;5;241m.\u001b[39mpi \u001b[38;5;241m*\u001b[39m radius \u001b[38;5;241m*\u001b[39m\u001b[38;5;241m*\u001b[39m \u001b[38;5;241m2\u001b[39m\n\u001b[1;32m      8\u001b[0m \u001b[38;5;28;01mexcept\u001b[39;00m \u001b[38;5;167;01mValueError\u001b[39;00m \u001b[38;5;28;01mas\u001b[39;00m e:\n\u001b[0;32m----> 9\u001b[0m     \u001b[38;5;28;01mraise\u001b[39;00m e\n",
      "Cell \u001b[0;32mIn[90], line 6\u001b[0m, in \u001b[0;36mcalculate_area\u001b[0;34m(radius)\u001b[0m\n\u001b[1;32m      4\u001b[0m \u001b[38;5;28;01mtry\u001b[39;00m:\n\u001b[1;32m      5\u001b[0m     \u001b[38;5;28;01mif\u001b[39;00m radius \u001b[38;5;241m<\u001b[39m \u001b[38;5;241m0\u001b[39m \u001b[38;5;129;01mor\u001b[39;00m \u001b[38;5;129;01mnot\u001b[39;00m \u001b[38;5;28misinstance\u001b[39m(radius, (\u001b[38;5;28mint\u001b[39m, \u001b[38;5;28mfloat\u001b[39m)):\n\u001b[0;32m----> 6\u001b[0m         \u001b[38;5;28;01mraise\u001b[39;00m \u001b[38;5;167;01mValueError\u001b[39;00m(\u001b[38;5;124m\"\u001b[39m\u001b[38;5;124mInvalid radius input!\u001b[39m\u001b[38;5;124m\"\u001b[39m)\n\u001b[1;32m      7\u001b[0m     \u001b[38;5;28;01mreturn\u001b[39;00m math\u001b[38;5;241m.\u001b[39mpi \u001b[38;5;241m*\u001b[39m radius \u001b[38;5;241m*\u001b[39m\u001b[38;5;241m*\u001b[39m \u001b[38;5;241m2\u001b[39m\n\u001b[1;32m      8\u001b[0m \u001b[38;5;28;01mexcept\u001b[39;00m \u001b[38;5;167;01mValueError\u001b[39;00m \u001b[38;5;28;01mas\u001b[39;00m e:\n",
      "\u001b[0;31mValueError\u001b[0m: Invalid radius input!"
     ]
    }
   ],
   "source": [
    "import math\n",
    "\n",
    "def calculate_area(radius: int) -> float:\n",
    "    try:\n",
    "        if radius < 0 or not isinstance(radius, (int, float)):\n",
    "            raise ValueError(\"Invalid radius input!\")\n",
    "        return math.pi * radius ** 2\n",
    "    except ValueError as e:\n",
    "        raise e\n",
    "\n",
    "# Test\n",
    "print(calculate_area(5))  # Returns: 78.53981633974483\n",
    "print(calculate_area(-5))  # Raises: ValueError: Invalid radius input!\n",
    "print(calculate_area(\"five\"))  # Raises: ValueError: Invalid radius input!\n"
   ]
  },
  {
   "cell_type": "markdown",
   "metadata": {},
   "source": [
    "3. Handle File Not Found Exception\n",
    "\n",
    "**Description:**  \n",
    "Write a function `read_file(file_path: str) -> str` that reads the content of a file given its path. If the file does not exist, raise an exception with the message `\"File not found!\"`.\n",
    "\n",
    "**Input:**\n",
    "- A string `file_path` representing the path to the file.\n",
    "\n",
    "**Output:**\n",
    "- Return the content of the file if it exists.\n",
    "- Raise an exception `\"File not found!\"` if the file does not exist.\n",
    "\n",
    "**Example:**\n",
    "```python\n",
    "read_file(\"valid_file.txt\")  # Returns: (file content as a string)\n",
    "read_file(\"non_existent_file.txt\")  # Raises: FileNotFoundError: File not found!\n",
    "```"
   ]
  },
  {
   "cell_type": "code",
   "execution_count": 91,
   "metadata": {},
   "outputs": [
    {
     "ename": "FileNotFoundError",
     "evalue": "File not found!",
     "output_type": "error",
     "traceback": [
      "\u001b[0;31m---------------------------------------------------------------------------\u001b[0m",
      "\u001b[0;31mFileNotFoundError\u001b[0m                         Traceback (most recent call last)",
      "Cell \u001b[0;32mIn[91], line 3\u001b[0m, in \u001b[0;36mread_file\u001b[0;34m(file_path)\u001b[0m\n\u001b[1;32m      2\u001b[0m \u001b[38;5;28;01mtry\u001b[39;00m:\n\u001b[0;32m----> 3\u001b[0m     \u001b[38;5;28;01mwith\u001b[39;00m \u001b[38;5;28;43mopen\u001b[39;49m\u001b[43m(\u001b[49m\u001b[43mfile_path\u001b[49m\u001b[43m,\u001b[49m\u001b[43m \u001b[49m\u001b[38;5;124;43m'\u001b[39;49m\u001b[38;5;124;43mr\u001b[39;49m\u001b[38;5;124;43m'\u001b[39;49m\u001b[43m)\u001b[49m \u001b[38;5;28;01mas\u001b[39;00m file:\n\u001b[1;32m      4\u001b[0m         \u001b[38;5;28;01mreturn\u001b[39;00m file\u001b[38;5;241m.\u001b[39mread()\n",
      "File \u001b[0;32m~/Documents/cli-spotify/.venv/lib/python3.12/site-packages/IPython/core/interactiveshell.py:324\u001b[0m, in \u001b[0;36m_modified_open\u001b[0;34m(file, *args, **kwargs)\u001b[0m\n\u001b[1;32m    318\u001b[0m     \u001b[38;5;28;01mraise\u001b[39;00m \u001b[38;5;167;01mValueError\u001b[39;00m(\n\u001b[1;32m    319\u001b[0m         \u001b[38;5;124mf\u001b[39m\u001b[38;5;124m\"\u001b[39m\u001b[38;5;124mIPython won\u001b[39m\u001b[38;5;124m'\u001b[39m\u001b[38;5;124mt let you open fd=\u001b[39m\u001b[38;5;132;01m{\u001b[39;00mfile\u001b[38;5;132;01m}\u001b[39;00m\u001b[38;5;124m by default \u001b[39m\u001b[38;5;124m\"\u001b[39m\n\u001b[1;32m    320\u001b[0m         \u001b[38;5;124m\"\u001b[39m\u001b[38;5;124mas it is likely to crash IPython. If you know what you are doing, \u001b[39m\u001b[38;5;124m\"\u001b[39m\n\u001b[1;32m    321\u001b[0m         \u001b[38;5;124m\"\u001b[39m\u001b[38;5;124myou can use builtins\u001b[39m\u001b[38;5;124m'\u001b[39m\u001b[38;5;124m open.\u001b[39m\u001b[38;5;124m\"\u001b[39m\n\u001b[1;32m    322\u001b[0m     )\n\u001b[0;32m--> 324\u001b[0m \u001b[38;5;28;01mreturn\u001b[39;00m \u001b[43mio_open\u001b[49m\u001b[43m(\u001b[49m\u001b[43mfile\u001b[49m\u001b[43m,\u001b[49m\u001b[43m \u001b[49m\u001b[38;5;241;43m*\u001b[39;49m\u001b[43margs\u001b[49m\u001b[43m,\u001b[49m\u001b[43m \u001b[49m\u001b[38;5;241;43m*\u001b[39;49m\u001b[38;5;241;43m*\u001b[39;49m\u001b[43mkwargs\u001b[49m\u001b[43m)\u001b[49m\n",
      "\u001b[0;31mFileNotFoundError\u001b[0m: [Errno 2] No such file or directory: 'valid_file.txt'",
      "\nDuring handling of the above exception, another exception occurred:\n",
      "\u001b[0;31mFileNotFoundError\u001b[0m                         Traceback (most recent call last)",
      "Cell \u001b[0;32mIn[91], line 9\u001b[0m\n\u001b[1;32m      6\u001b[0m         \u001b[38;5;28;01mraise\u001b[39;00m \u001b[38;5;167;01mFileNotFoundError\u001b[39;00m(\u001b[38;5;124m\"\u001b[39m\u001b[38;5;124mFile not found!\u001b[39m\u001b[38;5;124m\"\u001b[39m)\n\u001b[1;32m      8\u001b[0m \u001b[38;5;66;03m# Test\u001b[39;00m\n\u001b[0;32m----> 9\u001b[0m \u001b[38;5;28mprint\u001b[39m(\u001b[43mread_file\u001b[49m\u001b[43m(\u001b[49m\u001b[38;5;124;43m\"\u001b[39;49m\u001b[38;5;124;43mvalid_file.txt\u001b[39;49m\u001b[38;5;124;43m\"\u001b[39;49m\u001b[43m)\u001b[49m)  \u001b[38;5;66;03m# Returns the content of the file\u001b[39;00m\n\u001b[1;32m     10\u001b[0m \u001b[38;5;28mprint\u001b[39m(read_file(\u001b[38;5;124m\"\u001b[39m\u001b[38;5;124mnon_existent_file.txt\u001b[39m\u001b[38;5;124m\"\u001b[39m))  \u001b[38;5;66;03m# Raises: FileNotFoundError: File not found!\u001b[39;00m\n",
      "Cell \u001b[0;32mIn[91], line 6\u001b[0m, in \u001b[0;36mread_file\u001b[0;34m(file_path)\u001b[0m\n\u001b[1;32m      4\u001b[0m         \u001b[38;5;28;01mreturn\u001b[39;00m file\u001b[38;5;241m.\u001b[39mread()\n\u001b[1;32m      5\u001b[0m \u001b[38;5;28;01mexcept\u001b[39;00m \u001b[38;5;167;01mFileNotFoundError\u001b[39;00m:\n\u001b[0;32m----> 6\u001b[0m     \u001b[38;5;28;01mraise\u001b[39;00m \u001b[38;5;167;01mFileNotFoundError\u001b[39;00m(\u001b[38;5;124m\"\u001b[39m\u001b[38;5;124mFile not found!\u001b[39m\u001b[38;5;124m\"\u001b[39m)\n",
      "\u001b[0;31mFileNotFoundError\u001b[0m: File not found!"
     ]
    }
   ],
   "source": [
    "def read_file(file_path: str) -> str:\n",
    "    try:\n",
    "        with open(file_path, 'r') as file:\n",
    "            return file.read()\n",
    "    except FileNotFoundError:\n",
    "        raise FileNotFoundError(\"File not found!\")\n",
    "\n",
    "# Test\n",
    "print(read_file(\"valid_file.txt\"))  # Returns the content of the file\n",
    "print(read_file(\"non_existent_file.txt\"))  # Raises: FileNotFoundError: File not found!\n"
   ]
  },
  {
   "cell_type": "markdown",
   "metadata": {},
   "source": [
    "4. Sum of Squared Numbers\n",
    "\n",
    "**Description:**  \n",
    "Write a lambda function that takes a list of integers and returns the sum of their squares.\n",
    "\n",
    "**Input:**\n",
    "- A list of integers `nums`.\n",
    "\n",
    "**Output:**\n",
    "- The sum of the squares of the numbers in the list.\n",
    "\n",
    "**Example:**\n",
    "```python\n",
    "sum_of_squares([1, 2, 3])  # Returns: 14\n",
    "```"
   ]
  },
  {
   "cell_type": "code",
   "execution_count": 92,
   "metadata": {},
   "outputs": [
    {
     "name": "stdout",
     "output_type": "stream",
     "text": [
      "14\n"
     ]
    }
   ],
   "source": [
    "sum_of_squares = lambda nums: sum([x**2 for x in nums])\n",
    "\n",
    "# Test\n",
    "print(sum_of_squares([1, 2, 3]))  # Returns: 14\n"
   ]
  },
  {
   "cell_type": "markdown",
   "metadata": {},
   "source": [
    "5. Filter Even Numbers\n",
    "\n",
    "**Description:**  \n",
    "Write a lambda function to filter out the even numbers from a list of integers.\n",
    "\n",
    "**Input:**\n",
    "- A list of integers `nums`.\n",
    "\n",
    "**Output:**\n",
    "- A list containing only the even numbers.\n",
    "\n",
    "**Example:**\n",
    "```python\n",
    "filter_even([1, 2, 3, 4, 5])  # Returns: [2, 4]\n",
    "```"
   ]
  },
  {
   "cell_type": "code",
   "execution_count": 93,
   "metadata": {},
   "outputs": [
    {
     "name": "stdout",
     "output_type": "stream",
     "text": [
      "[2, 4]\n"
     ]
    }
   ],
   "source": [
    "filter_even = lambda nums: list(filter(lambda x: x % 2 == 0, nums))\n",
    "\n",
    "# Test\n",
    "print(filter_even([1, 2, 3, 4, 5]))  # Returns: [2, 4]\n"
   ]
  },
  {
   "cell_type": "markdown",
   "metadata": {},
   "source": [
    "6. Sort List of Tuples\n",
    "\n",
    "**Description:**  \n",
    "Write a lambda function that sorts a list of tuples by the second element in each tuple.\n",
    "\n",
    "**Input:**\n",
    "- A list of tuples, where each tuple contains two integers.\n",
    "\n",
    "**Output:**\n",
    "- The list of tuples sorted by the second element in each tuple.\n",
    "\n",
    "**Example:**\n",
    "```python\n",
    "sort_tuples_by_second([(1, 3), (4, 1), (2, 2)])  # Returns: [(4, 1), (2, 2), (1, 3)]\n",
    "```"
   ]
  },
  {
   "cell_type": "code",
   "execution_count": 94,
   "metadata": {},
   "outputs": [
    {
     "name": "stdout",
     "output_type": "stream",
     "text": [
      "[(4, 1), (2, 2), (1, 3)]\n"
     ]
    }
   ],
   "source": [
    "sort_tuples_by_second = lambda lst: sorted(lst, key=lambda x: x[1])\n",
    "\n",
    "# Test\n",
    "print(sort_tuples_by_second([(1, 3), (4, 1), (2, 2)]))  # Returns: [(4, 1), (2, 2), (1, 3)]"
   ]
  },
  {
   "cell_type": "markdown",
   "metadata": {},
   "source": [
    "7. Multiply Elements in List\n",
    "\n",
    "**Description:**  \n",
    "Write a lambda function that multiplies all the elements in a list and returns the result.\n",
    "\n",
    "**Input:**\n",
    "- A list of integers `nums`.\n",
    "\n",
    "**Output:**\n",
    "- The product of all the integers in the list.\n",
    "\n",
    "**Example:**\n",
    "```python\n",
    "multiply_elements([1, 2, 3, 4])  # Returns: 24\n",
    "```"
   ]
  },
  {
   "cell_type": "code",
   "execution_count": 95,
   "metadata": {},
   "outputs": [
    {
     "name": "stdout",
     "output_type": "stream",
     "text": [
      "24\n"
     ]
    }
   ],
   "source": [
    "multiply_elements = lambda nums: reduce(lambda x, y: x * y, nums)\n",
    "\n",
    "# Test\n",
    "from functools import reduce\n",
    "print(multiply_elements([1, 2, 3, 4]))  # Returns: 24\n"
   ]
  },
  {
   "cell_type": "markdown",
   "metadata": {},
   "source": [
    "8. Check If Number is Even or Odd\n",
    "\n",
    "**Description:**  \n",
    "Write a lambda function that checks whether a given number is even or odd and returns a string `\"Even\"` or `\"Odd\"`.\n",
    "\n",
    "**Input:**\n",
    "- A single integer `num`.\n",
    "\n",
    "**Output:**\n",
    "- Return `\"Even\"` if the number is even, otherwise return `\"Odd\"`.\n",
    "\n",
    "**Example:**\n",
    "```python\n",
    "check_even_odd(4)  # Returns: \"Even\"\n",
    "check_even_odd(5)  # Returns: \"Odd\"\n",
    "```"
   ]
  },
  {
   "cell_type": "code",
   "execution_count": 96,
   "metadata": {},
   "outputs": [
    {
     "name": "stdout",
     "output_type": "stream",
     "text": [
      "Even\n",
      "Odd\n"
     ]
    }
   ],
   "source": [
    "check_even_odd = lambda num: \"Even\" if num % 2 == 0 else \"Odd\"\n",
    "\n",
    "# Test\n",
    "print(check_even_odd(4))  # Returns: \"Even\"\n",
    "print(check_even_odd(5))  # Returns: \"Odd\"\n"
   ]
  },
  {
   "cell_type": "markdown",
   "metadata": {},
   "source": [
    "9. Polymorphism in Action\n",
    "\n",
    "**Description:**  \n",
    "Define a class `Animal` with a method `speak()`. Then define two subclasses `Dog` and `Cat`, each of which overrides the `speak()` method with its own implementation (e.g., Dog says `\"Woof\"` and Cat says `\"Meow\"`). Demonstrate polymorphism by calling `speak()` on both a `Dog` object and a `Cat` object.\n",
    "\n",
    "**Input:**\n",
    "- No direct input required. Define the classes and test polymorphism by calling the `speak()` method.\n",
    "\n",
    "**Output:**\n",
    "- Calling `speak()` on the `Dog` object should print `\"Woof\"`.\n",
    "- Calling `speak()` on the `Cat` object should print `\"Meow\"`.\n",
    "\n",
    "**Example:**\n",
    "```python\n",
    "dog = Dog()\n",
    "cat = Cat()\n",
    "dog.speak()  # Prints: \"Woof\"\n",
    "cat.speak()  # Prints: \"Meow\"\n",
    "```"
   ]
  },
  {
   "cell_type": "code",
   "execution_count": 97,
   "metadata": {},
   "outputs": [
    {
     "name": "stdout",
     "output_type": "stream",
     "text": [
      "Woof\n",
      "Meow\n"
     ]
    }
   ],
   "source": [
    "class Animal:\n",
    "    def speak(self):\n",
    "        raise NotImplementedError(\"Subclasses must implement this method\")\n",
    "\n",
    "class Dog(Animal):\n",
    "    def speak(self):\n",
    "        print(\"Woof\")\n",
    "\n",
    "class Cat(Animal):\n",
    "    def speak(self):\n",
    "        print(\"Meow\")\n",
    "\n",
    "# Test\n",
    "dog = Dog()\n",
    "cat = Cat()\n",
    "\n",
    "dog.speak()  # Prints: \"Woof\"\n",
    "cat.speak()  # Prints: \"Meow\"\n"
   ]
  },
  {
   "cell_type": "markdown",
   "metadata": {},
   "source": [
    "10. Method Overriding\n",
    "\n",
    "**Description:**  \n",
    "Write a base class `Shape` with a method `area()`, and then write two subclasses `Rectangle` and `Circle`, which override the `area()` method to calculate and return the area of the respective shape.\n",
    "\n",
    "**Input:**\n",
    "- A `Rectangle` object with length and width or a `Circle` object with radius.\n",
    "\n",
    "**Output:**\n",
    "- The area of the respective shape.\n",
    "\n",
    "**Example:**\n",
    "```python\n",
    "rectangle = Rectangle(5, 10)\n",
    "circle = Circle(7)\n",
    "rectangle.area()  # Returns: 50\n",
    "circle.area()  # Returns: 153.93804002589985\n",
    "```"
   ]
  },
  {
   "cell_type": "code",
   "execution_count": 98,
   "metadata": {},
   "outputs": [
    {
     "name": "stdout",
     "output_type": "stream",
     "text": [
      "50\n",
      "153.93804002589985\n"
     ]
    }
   ],
   "source": [
    "import math\n",
    "\n",
    "class Shape:\n",
    "    def area(self):\n",
    "        raise NotImplementedError(\"Subclasses must implement this method\")\n",
    "\n",
    "class Rectangle(Shape):\n",
    "    def __init__(self, length, width):\n",
    "        self.length = length\n",
    "        self.width = width\n",
    "    \n",
    "    def area(self):\n",
    "        return self.length * self.width\n",
    "\n",
    "class Circle(Shape):\n",
    "    def __init__(self, radius):\n",
    "        self.radius = radius\n",
    "    \n",
    "    def area(self):\n",
    "        return math.pi * self.radius ** 2\n",
    "\n",
    "# Test\n",
    "rectangle = Rectangle(5, 10)\n",
    "circle = Circle(7)\n",
    "\n",
    "print(rectangle.area())  # Returns: 50\n",
    "print(circle.area())  # Returns: 153.93804002589985\n"
   ]
  },
  {
   "cell_type": "markdown",
   "metadata": {},
   "source": [
    "11. Encapsulation in Action\n",
    "\n",
    "**Description:**  \n",
    "Create a class `BankAccount` with private attributes `balance` and provide public methods `deposit(amount)` and `withdraw(amount)` to modify the balance. Ensure that the `balance` cannot be accessed directly, and demonstrate how encapsulation works.\n",
    "\n",
    "**Input:**\n",
    "- A `BankAccount` object and a series of deposit and withdrawal operations.\n",
    "\n",
    "**Output:**\n",
    "- Properly updated balance after the operations. No direct access to the `balance` attribute outside the class.\n",
    "\n",
    "**Example:**\n",
    "```python\n",
    "account = BankAccount(100)\n",
    "account.deposit(50)  # Updates balance to 150\n",
    "account.withdraw(30)  # Updates balance to 120\n",
    "```"
   ]
  },
  {
   "cell_type": "code",
   "execution_count": 99,
   "metadata": {},
   "outputs": [
    {
     "name": "stdout",
     "output_type": "stream",
     "text": [
      "Balance: $120\n",
      "120\n"
     ]
    }
   ],
   "source": [
    "class BankAccount:\n",
    "    def __init__(self, balance):\n",
    "        self.__balance = balance  # private attribute\n",
    "    \n",
    "    def deposit(self, amount):\n",
    "        if amount > 0:\n",
    "            self.__balance += amount\n",
    "    \n",
    "    def withdraw(self, amount):\n",
    "        if amount <= self.__balance:\n",
    "            self.__balance -= amount\n",
    "    \n",
    "    def get_balance(self):\n",
    "        return self.__balance\n",
    "    \n",
    "    def __str__(self):\n",
    "        return f\"Balance: ${self.__balance}\"\n",
    "\n",
    "# Test\n",
    "account = BankAccount(100)\n",
    "account.deposit(50)\n",
    "account.withdraw(30)\n",
    "print(account)  # Prints: Balance: $120\n",
    "print(account.get_balance())  # Prints: 120\n"
   ]
  },
  {
   "cell_type": "markdown",
   "metadata": {},
   "source": [
    "12. Inheritance and Method Overriding**\n",
    "\n",
    "**Description:**  \n",
    "Create a class `Person` with attributes `name` and `age` and a method `greet()`. Create a subclass `Student` that inherits from `Person` and overrides the `greet()` method to include the student’s grade.\n",
    "\n",
    "**Input:**\n",
    "- A `Student` object.\n",
    "\n",
    "**Output:**\n",
    "- The `greet()` method should return the greeting message that includes the grade.\n",
    "\n",
    "**Example:**\n",
    "```python\n",
    "student = Student(\"Alice\", 20, \"A\")\n",
    "student.greet()  # Prints: \"Hello, my name is Alice, I am 20 years old, and I got an A in my exams.\"\n",
    "```"
   ]
  },
  {
   "cell_type": "code",
   "execution_count": 103,
   "metadata": {},
   "outputs": [
    {
     "name": "stdout",
     "output_type": "stream",
     "text": [
      "Hello, my name is Alice, I am 20 years old, and I got an A in my exams.\n"
     ]
    }
   ],
   "source": [
    "class Person:\n",
    "    def __init__(self, name, age):\n",
    "        self.name = name\n",
    "        self.age = age\n",
    "    \n",
    "    def greet(self):\n",
    "        print(f\"Hello, my name is {self.name} and I am {self.age} years old.\")\n",
    "\n",
    "class Student(Person):\n",
    "    def __init__(self, name, age, grade):\n",
    "        super().__init__(name, age)\n",
    "        self.grade = grade\n",
    "    \n",
    "    def greet(self):\n",
    "        print(f\"Hello, my name is {self.name}, I am {self.age} years old, and I got an {self.grade} in my exams.\")\n",
    "\n",
    "# Test\n",
    "student = Student(\"Alice\", 20, \"A\")\n",
    "student.greet()  # Prints: \"Hello, my name is Alice, I am 20 years old, and I got an A in my exams.\"\n"
   ]
  },
  {
   "cell_type": "markdown",
   "metadata": {},
   "source": [
    "13. Constructor Overloading\n",
    "\n",
    "**Description:**  \n",
    "Write a class `Car` with a constructor that initializes the `make` and `model` attributes. Provide two constructors:\n",
    "1. A constructor that takes both `make` and `model` as arguments.\n",
    "2. A constructor that only takes `make`, and assigns a default value to `model` (e.g., `\"Unknown\"`).\n",
    "\n",
    "**Input:**\n",
    "- A `Car` object created either with both `make` and `model`, or just `make`.\n",
    "\n",
    "**Output:**\n",
    "- The correct initialization of the car object.\n",
    "\n",
    "**Example:**\n",
    "```python\n",
    "car1 = Car(\"Toyota\", \"Camry\")\n",
    "car2 = Car(\"Honda\")  # Default model should be assigned\n",
    "print(car1.model)  # Prints: \"Camry\"\n",
    "print(car2.model)  # Prints: \"Unknown\"\n",
    "```"
   ]
  },
  {
   "cell_type": "code",
   "execution_count": 104,
   "metadata": {},
   "outputs": [
    {
     "name": "stdout",
     "output_type": "stream",
     "text": [
      "Car Make: Toyota, Model: Camry\n",
      "Car Make: Honda, Model: Unknown\n"
     ]
    }
   ],
   "source": [
    "class Car:\n",
    "    def __init__(self, make, model=\"Unknown\"):\n",
    "        self.make = make\n",
    "        self.model = model\n",
    "    \n",
    "    def __str__(self):\n",
    "        return f\"Car Make: {self.make}, Model: {self.model}\"\n",
    "\n",
    "# Test\n",
    "car1 = Car(\"Toyota\", \"Camry\")\n",
    "car2 = Car(\"Honda\")  # Default model should be assigned\n",
    "print(car1)  # Prints: Car Make: Toyota, Model: Camry\n",
    "print(car2)  # Prints: Car Make: Honda, Model: Unknown\n"
   ]
  },
  {
   "cell_type": "markdown",
   "metadata": {},
   "source": [
    "14. Bank System with Exception Handling**\n",
    "**Description:**  \n",
    "Create a class `BankAccount` that has methods for `deposit()` and `withdraw()`. Handle the following:\n",
    "- Raise an exception if the withdrawal amount is more than the available balance.\n",
    "- Raise an exception if the deposit amount is negative.\n",
    "- Use the `__str__()` method to return a string representation of the account's balance.\n",
    "\n",
    "**Input:**\n",
    "- Create a `BankAccount`"
   ]
  },
  {
   "cell_type": "code",
   "execution_count": 105,
   "metadata": {},
   "outputs": [
    {
     "name": "stdout",
     "output_type": "stream",
     "text": [
      "Deposit successful! New balance: $1500\n",
      "Insufficient funds! Cannot withdraw 2000. Current balance: $1500\n",
      "Deposit failed! Deposit amount cannot be negative.\n"
     ]
    }
   ],
   "source": [
    "class InsufficientFundsError(Exception):\n",
    "    \"\"\"Custom exception for insufficient funds.\"\"\"\n",
    "    pass\n",
    "\n",
    "class BankAccount:\n",
    "    def __init__(self, balance):\n",
    "        self.__balance = balance  # private attribute\n",
    "    \n",
    "    def deposit(self, amount):\n",
    "        try:\n",
    "            if amount < 0:\n",
    "                raise ValueError(\"Deposit amount cannot be negative.\")\n",
    "            self.__balance += amount\n",
    "            print(f\"Deposit successful! New balance: ${self.__balance}\")\n",
    "        except ValueError as e:\n",
    "            print(f\"Deposit failed! {e}\")\n",
    "    \n",
    "    def withdraw(self, amount):\n",
    "        try:\n",
    "            if amount > self.__balance:\n",
    "                raise InsufficientFundsError(f\"Insufficient funds! Cannot withdraw {amount}. Current balance: ${self.__balance}\")\n",
    "            self.__balance -= amount\n",
    "            print(f\"Withdrawal successful! New balance: ${self.__balance}\")\n",
    "        except InsufficientFundsError as e:\n",
    "            print(e)\n",
    "\n",
    "    def __str__(self):\n",
    "        return f\"Balance: ${self.__balance}\"\n",
    "\n",
    "# Test\n",
    "account = BankAccount(1000)\n",
    "account.deposit(500)  # Prints: Deposit successful! New balance: $1500\n",
    "account.withdraw(2000)  # Prints: Insufficient funds! Cannot withdraw 2000. Current balance: $1500\n",
    "account.deposit(-100)  # Prints: Deposit failed! Deposit amount cannot be negative.\n"
   ]
  },
  {
   "cell_type": "markdown",
   "metadata": {},
   "source": [
    "## Placment questions"
   ]
  },
  {
   "cell_type": "markdown",
   "metadata": {},
   "source": [
    "1. Reverse a String\n",
    "\n",
    "**Problem:**\n",
    "Given a string `s`, return the string after reversing it.\n",
    "\n",
    "**Input:**\n",
    "- A single string `s` of length `n` (1 ≤ n ≤ 1000).\n",
    "\n",
    "**Output:**\n",
    "- Return the reversed string.\n",
    "\n",
    "**Example:**\n",
    "\n",
    "```python\n",
    "reverse_string(\"hello\")\n",
    "# Output: \"olleh\"\n",
    "```\n",
    "\n",
    "**Hint:**\n",
    "- You can use Python slicing to reverse a string efficiently."
   ]
  },
  {
   "cell_type": "code",
   "execution_count": 106,
   "metadata": {},
   "outputs": [
    {
     "name": "stdout",
     "output_type": "stream",
     "text": [
      "olleh\n"
     ]
    }
   ],
   "source": [
    "def reverse_string(s: str) -> str:\n",
    "    return s[::-1]\n",
    "\n",
    "# Test\n",
    "print(reverse_string(\"hello\"))  # Output: \"olleh\""
   ]
  },
  {
   "cell_type": "markdown",
   "metadata": {},
   "source": [
    "2. Find the Maximum and Minimum in a List\n",
    "\n",
    "**Problem:**\n",
    "Given a list of integers `nums`, return a tuple containing the maximum and minimum values from the list.\n",
    "\n",
    "**Input:**\n",
    "- A list `nums` containing integers, where `1 ≤ len(nums) ≤ 10^5` and `-10^9 ≤ nums[i] ≤ 10^9`.\n",
    "\n",
    "**Output:**\n",
    "- Return a tuple `(max, min)` where `max` is the maximum value and `min` is the minimum value in the list.\n",
    "\n",
    "**Example:**\n",
    "\n",
    "```python\n",
    "find_max_min([3, 5, 7, 2, 9])\n",
    "# Output: (9, 2)\n",
    "```\n",
    "\n",
    "**Hint:**\n",
    "- Use Python's built-in `max()` and `min()` functions for efficient implementation."
   ]
  },
  {
   "cell_type": "code",
   "execution_count": 107,
   "metadata": {},
   "outputs": [
    {
     "name": "stdout",
     "output_type": "stream",
     "text": [
      "(9, 2)\n"
     ]
    }
   ],
   "source": [
    "def find_max_min(nums: list) -> tuple:\n",
    "    return max(nums), min(nums)\n",
    "\n",
    "# Test\n",
    "print(find_max_min([3, 5, 7, 2, 9]))  # Output: (9, 2)"
   ]
  },
  {
   "cell_type": "markdown",
   "metadata": {},
   "source": [
    "3. Check if a Number is Prime\n",
    "\n",
    "**Problem:**\n",
    "Given an integer `n`, write a function to check if `n` is a prime number. A prime number is a number greater than 1 that is divisible only by 1 and itself.\n",
    "\n",
    "**Input:**\n",
    "- An integer `n` (1 ≤ n ≤ 10^6).\n",
    "\n",
    "**Output:**\n",
    "- Return `True` if `n` is a prime number, otherwise return `False`.\n",
    "\n",
    "**Example:**\n",
    "\n",
    "```python\n",
    "is_prime(11)\n",
    "# Output: True\n",
    "\n",
    "is_prime(4)\n",
    "# Output: False\n",
    "```\n",
    "\n",
    "**Hint:**\n",
    "- You can check divisibility up to the square root of `n` to optimize your approach.\n"
   ]
  },
  {
   "cell_type": "code",
   "execution_count": 108,
   "metadata": {},
   "outputs": [
    {
     "name": "stdout",
     "output_type": "stream",
     "text": [
      "True\n",
      "False\n"
     ]
    }
   ],
   "source": [
    "def is_prime(n: int) -> bool:\n",
    "    if n <= 1:\n",
    "        return False\n",
    "    for i in range(2, int(n ** 0.5) + 1):\n",
    "        if n % i == 0:\n",
    "            return False\n",
    "    return True\n",
    "\n",
    "# Test\n",
    "print(is_prime(11))  # Output: True\n",
    "print(is_prime(4))   # Output: False\n"
   ]
  },
  {
   "cell_type": "markdown",
   "metadata": {},
   "source": [
    "4. Fibonacci Sequence Using Recursion\n",
    "\n",
    "**Problem:**\n",
    "Write a function `fibonacci(n)` that returns the `n`th Fibonacci number.\n",
    "\n",
    "The Fibonacci sequence is defined as:\n",
    "- `fib(0) = 0`, `fib(1) = 1`\n",
    "- `fib(n) = fib(n-1) + fib(n-2)` for `n > 1`\n",
    "\n",
    "**Input:**\n",
    "- A single integer `n` (0 ≤ n ≤ 30).\n",
    "\n",
    "**Output:**\n",
    "- Return the `n`th Fibonacci number.\n",
    "\n",
    "**Example:**\n",
    "\n",
    "```python\n",
    "fibonacci(6)\n",
    "# Output: 8 (Fibonacci sequence: 0, 1, 1, 2, 3, 5, 8, 13)\n",
    "```\n",
    "\n",
    "**Hint:**\n",
    "- You can use recursion to calculate the Fibonacci number."
   ]
  },
  {
   "cell_type": "code",
   "execution_count": 109,
   "metadata": {},
   "outputs": [
    {
     "name": "stdout",
     "output_type": "stream",
     "text": [
      "8\n"
     ]
    }
   ],
   "source": [
    "def fibonacci(n: int) -> int:\n",
    "    if n <= 1:\n",
    "        return n\n",
    "    return fibonacci(n - 1) + fibonacci(n - 2)\n",
    "\n",
    "# Test\n",
    "print(fibonacci(6))  # Output: 8 (Fibonacci sequence: 0, 1, 1, 2, 3, 5, 8, 13)\n"
   ]
  },
  {
   "cell_type": "markdown",
   "metadata": {},
   "source": [
    "5. Find the Second Largest Element in a List\n",
    "\n",
    "**Problem:**\n",
    "Given a list `nums`, find the second-largest unique number. If there is no second-largest number, return `None`.\n",
    "\n",
    "**Input:**\n",
    "- A list `nums` with `1 ≤ len(nums) ≤ 10^5` and `-10^9 ≤ nums[i] ≤ 10^9`.\n",
    "\n",
    "**Output:**\n",
    "- Return the second-largest element in the list or `None` if no second-largest exists.\n",
    "\n",
    "**Example:**\n",
    "\n",
    "```python\n",
    "second_largest([1, 2, 3, 4, 5])\n",
    "# Output: 4\n",
    "\n",
    "second_largest([5, 5, 5, 5])\n",
    "# Output: None\n",
    "```\n",
    "\n",
    "**Hint:**\n",
    "- Use sorting or a set to eliminate duplicates and then return the second last element."
   ]
  },
  {
   "cell_type": "code",
   "execution_count": 110,
   "metadata": {},
   "outputs": [
    {
     "name": "stdout",
     "output_type": "stream",
     "text": [
      "4\n",
      "None\n"
     ]
    }
   ],
   "source": [
    "def second_largest(nums: list) -> int:\n",
    "    nums = list(set(nums))  # Remove duplicates\n",
    "    nums.sort()\n",
    "    return nums[-2] if len(nums) > 1 else None\n",
    "\n",
    "# Test\n",
    "print(second_largest([1, 2, 3, 4, 5]))  # Output: 4\n",
    "print(second_largest([5, 5, 5, 5]))     # Output: None"
   ]
  },
  {
   "cell_type": "markdown",
   "metadata": {},
   "source": [
    "6. Merge Two Sorted Lists\n",
    "\n",
    "**Problem:**\n",
    "You are given two sorted lists `list1` and `list2`. Merge the two lists into a single sorted list.\n",
    "\n",
    "**Input:**\n",
    "- Two lists `list1` and `list2`, each of length `m` and `n` respectively (1 ≤ m, n ≤ 10^5).\n",
    "\n",
    "**Output:**\n",
    "- Return a merged and sorted list.\n",
    "\n",
    "**Example:**\n",
    "\n",
    "```python\n",
    "merge_sorted_lists([1, 3, 5], [2, 4, 6])\n",
    "# Output: [1, 2, 3, 4, 5, 6]\n",
    "```\n",
    "\n",
    "**Hint:**\n",
    "- Use two-pointer technique to traverse both lists simultaneously and merge them."
   ]
  },
  {
   "cell_type": "code",
   "execution_count": 111,
   "metadata": {},
   "outputs": [
    {
     "name": "stdout",
     "output_type": "stream",
     "text": [
      "[1, 2, 3, 4, 5, 6]\n"
     ]
    }
   ],
   "source": [
    "def merge_sorted_lists(list1: list, list2: list) -> list:\n",
    "    result = []\n",
    "    i, j = 0, 0\n",
    "    while i < len(list1) and j < len(list2):\n",
    "        if list1[i] < list2[j]:\n",
    "            result.append(list1[i])\n",
    "            i += 1\n",
    "        else:\n",
    "            result.append(list2[j])\n",
    "            j += 1\n",
    "    result.extend(list1[i:])\n",
    "    result.extend(list2[j:])\n",
    "    return result\n",
    "\n",
    "# Test\n",
    "print(merge_sorted_lists([1, 3, 5], [2, 4, 6]))  # Output: [1, 2, 3, 4, 5, 6]"
   ]
  },
  {
   "cell_type": "markdown",
   "metadata": {},
   "source": [
    "7. Find Missing Number in a Sequence\n",
    "\n",
    "**Problem:**\n",
    "You are given an array of `n` integers, containing numbers from `1` to `n+1`, with exactly one missing number. Find the missing number.\n",
    "\n",
    "**Input:**\n",
    "- A list `nums` with `n` elements, where `1 ≤ len(nums) ≤ 10^5`.\n",
    "\n",
    "**Output:**\n",
    "- Return the missing number in the sequence.\n",
    "\n",
    "**Example:**\n",
    "\n",
    "```python\n",
    "find_missing_number([1, 2, 4, 5, 6])\n",
    "# Output: 3\n",
    "```\n",
    "\n",
    "**Hint:**\n",
    "- Use the sum formula for the first `n+1` natural numbers to find the missing number."
   ]
  },
  {
   "cell_type": "code",
   "execution_count": 112,
   "metadata": {},
   "outputs": [
    {
     "name": "stdout",
     "output_type": "stream",
     "text": [
      "3\n"
     ]
    }
   ],
   "source": [
    "def find_missing_number(nums: list) -> int:\n",
    "    n = len(nums) + 1\n",
    "    expected_sum = n * (n + 1) // 2\n",
    "    actual_sum = sum(nums)\n",
    "    return expected_sum - actual_sum\n",
    "\n",
    "# Test\n",
    "print(find_missing_number([1, 2, 4, 5, 6]))  # Output: 3"
   ]
  },
  {
   "cell_type": "markdown",
   "metadata": {},
   "source": [
    "8. Implement a Stack Using Queues\n",
    "\n",
    "**Problem:**\n",
    "Implement a stack using two queues. The stack should support the following operations:\n",
    "1. `push(x)` - Push element `x` onto the stack.\n",
    "2. `pop()` - Removes the element on the top of the stack.\n",
    "\n",
    "**Input:**\n",
    "- You need to implement the `StackUsingQueues` class.\n",
    "\n",
    "**Output:**\n",
    "- The methods `push(x)` and `pop()` should work as expected.\n",
    "\n",
    "**Example:**\n",
    "\n",
    "```python\n",
    "stack = StackUsingQueues()\n",
    "stack.push(1)\n",
    "stack.push(2)\n",
    "stack.push(3)\n",
    "print(stack.pop())  # Output: 3\n",
    "```\n",
    "\n",
    "**Hint:**\n",
    "- Use two queues, one for insertion and one for popping elements. Move elements between the queues as necessary."
   ]
  },
  {
   "cell_type": "code",
   "execution_count": 113,
   "metadata": {},
   "outputs": [
    {
     "name": "stdout",
     "output_type": "stream",
     "text": [
      "3\n",
      "2\n"
     ]
    }
   ],
   "source": [
    "from collections import deque\n",
    "\n",
    "class StackUsingQueues:\n",
    "    def __init__(self):\n",
    "        self.queue1 = deque()\n",
    "        self.queue2 = deque()\n",
    "    \n",
    "    def push(self, x: int) -> None:\n",
    "        self.queue1.append(x)\n",
    "    \n",
    "    def pop(self) -> int:\n",
    "        while len(self.queue1) > 1:\n",
    "            self.queue2.append(self.queue1.popleft())\n",
    "        popped = self.queue1.popleft()\n",
    "        self.queue1, self.queue2 = self.queue2, self.queue1\n",
    "        return popped\n",
    "\n",
    "# Test\n",
    "stack = StackUsingQueues()\n",
    "stack.push(1)\n",
    "stack.push(2)\n",
    "stack.push(3)\n",
    "print(stack.pop())  # Output: 3\n",
    "print(stack.pop())  # Output: 2"
   ]
  },
  {
   "cell_type": "markdown",
   "metadata": {},
   "source": []
  },
  {
   "cell_type": "markdown",
   "metadata": {},
   "source": [
    "9. Implement a Simple Linked List\n",
    "\n",
    "**Problem:**\n",
    "Create a singly linked list and implement the following methods:\n",
    "1. `insert(value)` - Insert a new node with the given `value` at the end of the list.\n",
    "2. `delete(value)` - Delete the first node with the given `value`.\n",
    "3. `display()` - Display all the values in the linked list.\n",
    "\n",
    "**Input:**\n",
    "- You need to implement the `LinkedList` class and the methods as described.\n",
    "\n",
    "**Output:**\n",
    "- The `insert()`, `delete()`, and `display()` methods should work as expected.\n",
    "\n",
    "**Example:**\n",
    "\n",
    "```python\n",
    "ll = LinkedList()\n",
    "ll.insert(1)\n",
    "ll.insert(2)\n",
    "ll.insert(3)\n",
    "ll.display()  # Output: 1 -> 2 -> 3 -> None\n",
    "ll.delete(2)\n",
    "ll.display()  # Output: 1 -> 3 -> None\n",
    "```\n",
    "\n",
    "**Hint:**\n",
    "- Implement the `Node` class for linked"
   ]
  },
  {
   "cell_type": "code",
   "execution_count": 114,
   "metadata": {},
   "outputs": [
    {
     "name": "stdout",
     "output_type": "stream",
     "text": [
      "1 -> 2 -> 3 -> None\n",
      "1 -> 3 -> None\n"
     ]
    }
   ],
   "source": [
    "class Node:\n",
    "    def __init__(self, data: int):\n",
    "        self.data = data\n",
    "        self.next = None\n",
    "\n",
    "class LinkedList:\n",
    "    def __init__(self):\n",
    "        self.head = None\n",
    "    \n",
    "    def insert(self, data: int):\n",
    "        new_node = Node(data)\n",
    "        if not self.head:\n",
    "            self.head = new_node\n",
    "            return\n",
    "        last = self.head\n",
    "        while last.next:\n",
    "            last = last.next\n",
    "        last.next = new_node\n",
    "    \n",
    "    def delete(self, key: int):\n",
    "        temp = self.head\n",
    "        if temp and temp.data == key:\n",
    "            self.head = temp.next\n",
    "            temp = None\n",
    "            return\n",
    "        prev = None\n",
    "        while temp and temp.data != key:\n",
    "            prev = temp\n",
    "            temp = temp.next\n",
    "        if temp is None:\n",
    "            return\n",
    "        prev.next = temp.next\n",
    "        temp = None\n",
    "    \n",
    "    def display(self):\n",
    "        temp = self.head\n",
    "        while temp:\n",
    "            print(temp.data, end=\" -> \")\n",
    "            temp = temp.next\n",
    "        print(\"None\")\n",
    "\n",
    "# Test\n",
    "ll = LinkedList()\n",
    "ll.insert(1)\n",
    "ll.insert(2)\n",
    "ll.insert(3)\n",
    "ll.display()  # Output: 1 -> 2 -> 3 -> None\n",
    "ll.delete(2)\n",
    "ll.display()  # Output: 1 -> 3 -> None\n"
   ]
  },
  {
   "cell_type": "markdown",
   "metadata": {},
   "source": [
    "10. Find Longest Substring Without Repeating Characters\n",
    "\n",
    "**Problem:**\n",
    "Given a string `s`, return the length of the **longest substring** without repeating characters.\n",
    "\n",
    "**Input:**\n",
    "- A string `s` of length `n` (1 ≤ n ≤ 10^5), containing only English letters (uppercase and lowercase).\n",
    "\n",
    "**Output:**\n",
    "- Return the **length** of the longest substring without repeating characters.\n",
    "\n",
    "**Example:**\n",
    "\n",
    "```python\n",
    "length_of_longest_substring(\"abcabcbb\")\n",
    "# Output: 3\n",
    "# Explanation: The answer is \"abc\", with the length of 3.\n",
    "\n",
    "length_of_longest_substring(\"bbbbb\")\n",
    "# Output: 1\n",
    "# Explanation: The answer is \"b\", with the length of 1.\n",
    "\n",
    "length_of_longest_substring(\"pwwkew\")\n",
    "# Output: 3\n",
    "# Explanation: The answer is \"wke\", with the length of 3.\n",
    "# Notice that the answer must be a substring, \"pwke\" is a subsequence and not a substring.\n",
    "```\n",
    "\n",
    "**Hint:**\n",
    "- Use the **sliding window** technique to iterate through the string. You can keep track of characters in a set or a dictionary to ensure uniqueness in the current window. Expand and contract the window efficiently based on the presence of repeating characters."
   ]
  },
  {
   "cell_type": "code",
   "execution_count": 115,
   "metadata": {},
   "outputs": [
    {
     "name": "stdout",
     "output_type": "stream",
     "text": [
      "3\n",
      "1\n"
     ]
    }
   ],
   "source": [
    "def length_of_longest_substring(s: str) -> int:\n",
    "    char_set = set()\n",
    "    left = 0\n",
    "    result = 0\n",
    "    for right in range(len(s)):\n",
    "        while s[right] in char_set:\n",
    "            char_set.remove(s[left])\n",
    "            left += 1\n",
    "        char_set.add(s[right])\n",
    "        result = max(result, right - left + 1)\n",
    "    return result\n",
    "\n",
    "# Test\n",
    "print(length_of_longest_substring(\"abcabcbb\"))  # Output: 3 (substring \"abc\")\n",
    "print(length_of_longest_substring(\"bbbbb\"))     # Output: 1 (substring \"b\")\n"
   ]
  },
  {
   "cell_type": "markdown",
   "metadata": {},
   "source": [
    "## Placement questions - TCS"
   ]
  },
  {
   "cell_type": "markdown",
   "metadata": {},
   "source": [
    "1. Find the Largest Element in an Array\n",
    "\n",
    "**Problem**:  \n",
    "Given an array of integers, find the largest element in the array.\n",
    "\n",
    "**Input**:  \n",
    "An array of integers, e.g., `[2, 5, 1, 9, 7]`\n",
    "\n",
    "**Output**:  \n",
    "The largest element, e.g., `9`"
   ]
  },
  {
   "cell_type": "code",
   "execution_count": 1,
   "metadata": {},
   "outputs": [
    {
     "name": "stdout",
     "output_type": "stream",
     "text": [
      "9\n"
     ]
    }
   ],
   "source": [
    "def find_largest(arr):\n",
    "    return max(arr)\n",
    "\n",
    "# Example usage\n",
    "arr = [2, 5, 1, 9, 7]\n",
    "print(find_largest(arr))  # Output: 9"
   ]
  },
  {
   "cell_type": "markdown",
   "metadata": {},
   "source": [
    "2. Reverse a String\n",
    "\n",
    "**Problem**:  \n",
    "Given a string, return its reverse.\n",
    "\n",
    "**Input**:  \n",
    "A string, e.g., `\"hello\"`\n",
    "\n",
    "**Output**:  \n",
    "The reversed string, e.g., `\"olleh\"`"
   ]
  },
  {
   "cell_type": "code",
   "execution_count": 2,
   "metadata": {},
   "outputs": [
    {
     "name": "stdout",
     "output_type": "stream",
     "text": [
      "olleh\n"
     ]
    }
   ],
   "source": [
    "def reverse_string(s):\n",
    "    return s[::-1]\n",
    "\n",
    "# Example usage\n",
    "s = \"hello\"\n",
    "print(reverse_string(s))  # Output: olleh"
   ]
  },
  {
   "cell_type": "markdown",
   "metadata": {},
   "source": [
    "3. Find Prime Numbers up to N\n",
    "\n",
    "**Problem**:  \n",
    "Write a function to find all prime numbers up to a given number `N`.\n",
    "\n",
    "**Input**:  \n",
    "An integer `N`, e.g., `10`\n",
    "\n",
    "**Output**:  \n",
    "List of primes up to `N`, e.g., `[2, 3, 5, 7]`"
   ]
  },
  {
   "cell_type": "code",
   "execution_count": 3,
   "metadata": {},
   "outputs": [
    {
     "name": "stdout",
     "output_type": "stream",
     "text": [
      "[2, 3, 5, 7]\n"
     ]
    }
   ],
   "source": [
    "def sieve_of_eratosthenes(n):\n",
    "    primes = []\n",
    "    is_prime = [True] * (n + 1)\n",
    "    for p in range(2, n + 1):\n",
    "        if is_prime[p]:\n",
    "            primes.append(p)\n",
    "            for i in range(p * p, n + 1, p):\n",
    "                is_prime[i] = False\n",
    "    return primes\n",
    "\n",
    "# Example usage\n",
    "N = 10\n",
    "print(sieve_of_eratosthenes(N))  # Output: [2, 3, 5, 7]"
   ]
  },
  {
   "cell_type": "markdown",
   "metadata": {},
   "source": [
    "4. Check for Palindrome\n",
    "\n",
    "**Problem**:  \n",
    "Given a string, check if it is a palindrome (reads the same forwards and backwards).\n",
    "\n",
    "**Input**:  \n",
    "A string, e.g., `\"madam\"`\n",
    "\n",
    "**Output**:  \n",
    "`True` if it’s a palindrome, `False` otherwise."
   ]
  },
  {
   "cell_type": "code",
   "execution_count": 4,
   "metadata": {},
   "outputs": [
    {
     "name": "stdout",
     "output_type": "stream",
     "text": [
      "True\n"
     ]
    }
   ],
   "source": [
    "def is_palindrome(s):\n",
    "    return s == s[::-1]\n",
    "\n",
    "# Example usage\n",
    "s = \"madam\"\n",
    "print(is_palindrome(s))  # Output: True"
   ]
  },
  {
   "cell_type": "markdown",
   "metadata": {},
   "source": [
    "5. Find the Missing Number in an Array\n",
    "\n",
    "**Problem**:  \n",
    "Given an array containing `n` distinct numbers taken from the range `1` to `n+1`, find the missing number.\n",
    "\n",
    "**Input**:  \n",
    "An array, e.g., `[1, 2, 4, 5, 6]`\n",
    "\n",
    "**Output**:  \n",
    "The missing number, e.g., `3`"
   ]
  },
  {
   "cell_type": "code",
   "execution_count": 5,
   "metadata": {},
   "outputs": [
    {
     "name": "stdout",
     "output_type": "stream",
     "text": [
      "3\n"
     ]
    }
   ],
   "source": [
    "def find_missing(arr):\n",
    "    n = len(arr) + 1\n",
    "    total_sum = n * (n + 1) // 2\n",
    "    return total_sum - sum(arr)\n",
    "\n",
    "# Example usage\n",
    "arr = [1, 2, 4, 5, 6]\n",
    "print(find_missing(arr))  # Output: 3"
   ]
  },
  {
   "cell_type": "markdown",
   "metadata": {},
   "source": [
    "6. Find Factorial of a Number\n",
    "\n",
    "**Problem**:  \n",
    "Write a function to find the factorial of a given number `n`.\n",
    "\n",
    "**Input**:  \n",
    "An integer `n`, e.g., `5`\n",
    "\n",
    "**Output**:  \n",
    "The factorial, e.g., `120`"
   ]
  },
  {
   "cell_type": "code",
   "execution_count": 6,
   "metadata": {},
   "outputs": [
    {
     "name": "stdout",
     "output_type": "stream",
     "text": [
      "120\n"
     ]
    }
   ],
   "source": [
    "def factorial(n):\n",
    "    if n == 0 or n == 1:\n",
    "        return 1\n",
    "    return n * factorial(n - 1)\n",
    "\n",
    "# Example usage\n",
    "n = 5\n",
    "print(factorial(n))  # Output: 120"
   ]
  },
  {
   "cell_type": "markdown",
   "metadata": {},
   "source": [
    "7. Find Fibonacci Series up to N\n",
    "\n",
    "**Problem**:  \n",
    "Write a function to print Fibonacci numbers up to the nth term.\n",
    "\n",
    "**Input**:  \n",
    "An integer `n`, e.g., `5`\n",
    "\n",
    "**Output**:  \n",
    "The Fibonacci series up to `n` terms, e.g., `[0, 1, 1, 2, 3]`"
   ]
  },
  {
   "cell_type": "code",
   "execution_count": 7,
   "metadata": {},
   "outputs": [
    {
     "name": "stdout",
     "output_type": "stream",
     "text": [
      "[0, 1, 1, 2, 3]\n"
     ]
    }
   ],
   "source": [
    "def fibonacci(n):\n",
    "    fib = [0, 1]\n",
    "    for i in range(2, n):\n",
    "        fib.append(fib[i-1] + fib[i-2])\n",
    "    return fib\n",
    "\n",
    "# Example usage\n",
    "n = 5\n",
    "print(fibonacci(n))  # Output: [0, 1, 1, 2, 3]"
   ]
  },
  {
   "cell_type": "markdown",
   "metadata": {},
   "source": [
    "8. Count Vowels in a String\n",
    "\n",
    "**Problem**:  \n",
    "Write a function that takes a string as input and counts the number of vowels (`a, e, i, o, u`) in the string.\n",
    "\n",
    "**Input**:  \n",
    "A string, e.g., `\"hello world\"`\n",
    "\n",
    "**Output**:  \n",
    "The number of vowels, e.g., `3`"
   ]
  },
  {
   "cell_type": "code",
   "execution_count": 8,
   "metadata": {},
   "outputs": [
    {
     "name": "stdout",
     "output_type": "stream",
     "text": [
      "3\n"
     ]
    }
   ],
   "source": [
    "def count_vowels(s):\n",
    "    vowels = \"aeiouAEIOU\"\n",
    "    return sum(1 for char in s if char in vowels)\n",
    "\n",
    "# Example usage\n",
    "s = \"hello world\"\n",
    "print(count_vowels(s))  # Output: "
   ]
  },
  {
   "cell_type": "markdown",
   "metadata": {},
   "source": [
    "9. Find the Second Largest Element in an Array\n",
    "\n",
    "**Problem**:  \n",
    "Given an array, find the second largest element.\n",
    "\n",
    "**Input**:  \n",
    "An array, e.g., `[10, 20, 4, 45, 99]`\n",
    "\n",
    "**Output**:  \n",
    "The second largest element, e.g., `45`"
   ]
  },
  {
   "cell_type": "code",
   "execution_count": 9,
   "metadata": {},
   "outputs": [
    {
     "name": "stdout",
     "output_type": "stream",
     "text": [
      "45\n"
     ]
    }
   ],
   "source": [
    "def second_largest(arr):\n",
    "    arr = list(set(arr))  # Removing duplicates\n",
    "    arr.sort()\n",
    "    return arr[-2] if len(arr) > 1 else None\n",
    "\n",
    "# Example usage\n",
    "arr = [10, 20, 4, 45, 99]\n",
    "print(second_largest(arr))  # Output: 45"
   ]
  },
  {
   "cell_type": "markdown",
   "metadata": {},
   "source": [
    "10. Merge Two Sorted Arrays\n",
    "\n",
    "**Problem**:  \n",
    "Given two sorted arrays, merge them into a single sorted array.\n",
    "\n",
    "**Input**:  \n",
    "Two sorted arrays, e.g., `[1, 3, 5]` and `[2, 4, 6]`\n",
    "\n",
    "**Output**:  \n",
    "A merged sorted array, e.g., `[1, 2, 3, 4, 5, 6]`\n"
   ]
  },
  {
   "cell_type": "code",
   "execution_count": 10,
   "metadata": {},
   "outputs": [
    {
     "name": "stdout",
     "output_type": "stream",
     "text": [
      "[1, 2, 3, 4, 5, 6]\n"
     ]
    }
   ],
   "source": [
    "def merge_sorted_arrays(arr1, arr2):\n",
    "    i, j, result = 0, 0, []\n",
    "    while i < len(arr1) and j < len(arr2):\n",
    "        if arr1[i] < arr2[j]:\n",
    "            result.append(arr1[i])\n",
    "            i += 1\n",
    "        else:\n",
    "            result.append(arr2[j])\n",
    "            j += 1\n",
    "    result.extend(arr1[i:])\n",
    "    result.extend(arr2[j:])\n",
    "    return result\n",
    "\n",
    "# Example usage\n",
    "arr1 = [1, 3, 5]\n",
    "arr2 = [2, 4, 6]\n",
    "print(merge_sorted_arrays(arr1, arr2))  # Output: [1, 2, 3, 4, 5, 6]"
   ]
  },
  {
   "cell_type": "markdown",
   "metadata": {},
   "source": [
    "## Practice questions - Cognizant"
   ]
  },
  {
   "cell_type": "markdown",
   "metadata": {},
   "source": [
    "1. Find the Missing Number in an Array\n",
    "\n",
    "**Problem**:  \n",
    "Given an array of `n-1` integers, where the elements are from `1` to `n`. One of the numbers is missing. Find the missing number.\n",
    "\n",
    "**Input**:  \n",
    "An array of integers, e.g., `[1, 2, 4, 5, 6]`\n",
    "\n",
    "**Output**:  \n",
    "The missing number, e.g., `3`"
   ]
  },
  {
   "cell_type": "code",
   "execution_count": 11,
   "metadata": {},
   "outputs": [
    {
     "name": "stdout",
     "output_type": "stream",
     "text": [
      "3\n"
     ]
    }
   ],
   "source": [
    "def find_missing(arr):\n",
    "    n = len(arr) + 1\n",
    "    total_sum = n * (n + 1) // 2\n",
    "    return total_sum - sum(arr)\n",
    "\n",
    "# Example usage\n",
    "arr = [1, 2, 4, 5, 6]\n",
    "print(find_missing(arr))  # Output: 3"
   ]
  },
  {
   "cell_type": "markdown",
   "metadata": {},
   "source": [
    "2. Reverse a Linked List\n",
    "\n",
    "**Problem**:  \n",
    "Write a function to reverse a singly linked list.\n",
    "\n",
    "**Input**:  \n",
    "A linked list, e.g., `1 -> 2 -> 3 -> 4 -> None`\n",
    "\n",
    "**Output**:  \n",
    "Reversed linked list, e.g., `4 -> 3 -> 2 -> 1 -> None`"
   ]
  },
  {
   "cell_type": "code",
   "execution_count": 12,
   "metadata": {},
   "outputs": [
    {
     "name": "stdout",
     "output_type": "stream",
     "text": [
      "4 -> 3 -> 2 -> 1 -> "
     ]
    }
   ],
   "source": [
    "class ListNode:\n",
    "    def __init__(self, val=0, next=None):\n",
    "        self.val = val\n",
    "        self.next = next\n",
    "\n",
    "def reverse_linked_list(head):\n",
    "    prev, current = None, head\n",
    "    while current:\n",
    "        next_node = current.next\n",
    "        current.next = prev\n",
    "        prev = current\n",
    "        current = next_node\n",
    "    return prev\n",
    "\n",
    "# Example usage\n",
    "head = ListNode(1, ListNode(2, ListNode(3, ListNode(4))))\n",
    "new_head = reverse_linked_list(head)\n",
    "while new_head:\n",
    "    print(new_head.val, end=\" -> \")\n",
    "    new_head = new_head.next  # Output: 4 -> 3 -> 2 -> 1 -> "
   ]
  },
  {
   "cell_type": "markdown",
   "metadata": {},
   "source": [
    "3. Find the Length of a Linked List\n",
    "\n",
    "**Problem**:  \n",
    "Write a function to find the length of a singly linked list.\n",
    "\n",
    "**Input**:  \n",
    "A linked list, e.g., `1 -> 2 -> 3 -> None`\n",
    "\n",
    "**Output**:  \n",
    "The length of the linked list, e.g., `3`"
   ]
  },
  {
   "cell_type": "code",
   "execution_count": 13,
   "metadata": {},
   "outputs": [
    {
     "name": "stdout",
     "output_type": "stream",
     "text": [
      "3\n"
     ]
    }
   ],
   "source": [
    "class ListNode:\n",
    "    def __init__(self, val=0, next=None):\n",
    "        self.val = val\n",
    "        self.next = next\n",
    "\n",
    "def length_of_linked_list(head):\n",
    "    length = 0\n",
    "    while head:\n",
    "        length += 1\n",
    "        head = head.next\n",
    "    return length\n",
    "\n",
    "# Example usage\n",
    "head = ListNode(1, ListNode(2, ListNode(3)))\n",
    "print(length_of_linked_list(head))  # Output: 3"
   ]
  },
  {
   "cell_type": "markdown",
   "metadata": {},
   "source": [
    "4. Find All Permutations of a String\n",
    "\n",
    "**Problem**:  \n",
    "Write a function to find all permutations of a given string.\n",
    "\n",
    "**Input**:  \n",
    "A string, e.g., `\"abc\"`\n",
    "\n",
    "**Output**:  \n",
    "List of permutations, e.g., `['abc', 'acb', 'bac', 'bca', 'cab', 'cba']`"
   ]
  },
  {
   "cell_type": "code",
   "execution_count": 14,
   "metadata": {},
   "outputs": [
    {
     "name": "stdout",
     "output_type": "stream",
     "text": [
      "['abc', 'acb', 'bac', 'bca', 'cab', 'cba']\n"
     ]
    }
   ],
   "source": [
    "from itertools import permutations\n",
    "\n",
    "def string_permutations(s):\n",
    "    return [''.join(p) for p in permutations(s)]\n",
    "\n",
    "# Example usage\n",
    "s = \"abc\"\n",
    "print(string_permutations(s))  # Output: ['abc', 'acb', 'bac', 'bca', 'cab', 'cba']"
   ]
  },
  {
   "cell_type": "markdown",
   "metadata": {},
   "source": [
    "5. Check if a String is an Anagram of Another\n",
    "\n",
    "**Problem**:  \n",
    "Write a function to check whether two strings are anagrams of each other.\n",
    "\n",
    "**Input**:  \n",
    "Two strings, e.g., `\"listen\"` and `\"silent\"`\n",
    "\n",
    "**Output**:  \n",
    "`True` if they are anagrams, `False` otherwise."
   ]
  },
  {
   "cell_type": "code",
   "execution_count": 15,
   "metadata": {},
   "outputs": [
    {
     "name": "stdout",
     "output_type": "stream",
     "text": [
      "True\n"
     ]
    }
   ],
   "source": [
    "def are_anagrams(s1, s2):\n",
    "    return sorted(s1) == sorted(s2)\n",
    "\n",
    "# Example usage\n",
    "s1 = \"listen\"\n",
    "s2 = \"silent\"\n",
    "print(are_anagrams(s1, s2))  # Output: True"
   ]
  },
  {
   "cell_type": "markdown",
   "metadata": {},
   "source": [
    "6. Find the Second Largest Element in an Array\n",
    "\n",
    "**Problem**:  \n",
    "Given an array, find the second largest element in the array.\n",
    "\n",
    "**Input**:  \n",
    "An array of integers, e.g., `[10, 20, 4, 45, 99]`\n",
    "\n",
    "**Output**:  \n",
    "The second largest element, e.g., `45`"
   ]
  },
  {
   "cell_type": "code",
   "execution_count": 16,
   "metadata": {},
   "outputs": [
    {
     "name": "stdout",
     "output_type": "stream",
     "text": [
      "45\n"
     ]
    }
   ],
   "source": [
    "def second_largest(arr):\n",
    "    unique_arr = list(set(arr))  # Remove duplicates\n",
    "    if len(unique_arr) < 2:\n",
    "        return None\n",
    "    unique_arr.sort()\n",
    "    return unique_arr[-2]\n",
    "\n",
    "# Example usage\n",
    "arr = [10, 20, 4, 45, 99]\n",
    "print(second_largest(arr))  # Output: 45"
   ]
  },
  {
   "cell_type": "markdown",
   "metadata": {},
   "source": [
    "7. Find Prime Numbers in a Range\n",
    "\n",
    "**Problem**:  \n",
    "Write a function to find all prime numbers in a given range `[start, end]`.\n",
    "\n",
    "**Input**:  \n",
    "Two integers, e.g., `10` and `50`\n",
    "\n",
    "**Output**:  \n",
    "List of prime numbers in the range, e.g., `[11, 13, 17, 19, 23, 29, 31, 37, 41, 43, 47]`"
   ]
  },
  {
   "cell_type": "code",
   "execution_count": 17,
   "metadata": {},
   "outputs": [
    {
     "name": "stdout",
     "output_type": "stream",
     "text": [
      "[11, 13, 17, 19, 23, 29, 31, 37, 41, 43, 47]\n"
     ]
    }
   ],
   "source": [
    "def is_prime(n):\n",
    "    if n <= 1:\n",
    "        return False\n",
    "    for i in range(2, int(n ** 0.5) + 1):\n",
    "        if n % i == 0:\n",
    "            return False\n",
    "    return True\n",
    "\n",
    "def primes_in_range(start, end):\n",
    "    return [n for n in range(start, end + 1) if is_prime(n)]\n",
    "\n",
    "# Example usage\n",
    "start = 10\n",
    "end = 50\n",
    "print(primes_in_range(start, end))  # Output: [11, 13, 17, 19, 23, 29, 31, 37, 41, 43, 47]"
   ]
  },
  {
   "cell_type": "markdown",
   "metadata": {},
   "source": [
    "8. Find the Largest Palindrome in a String\n",
    "\n",
    "**Problem**:  \n",
    "Write a function to find the longest palindrome in a given string.\n",
    "\n",
    "**Input**:  \n",
    "A string, e.g., `\"babad\"`\n",
    "\n",
    "**Output**:  \n",
    "The longest palindrome, e.g., `\"bab\"`"
   ]
  },
  {
   "cell_type": "code",
   "execution_count": 18,
   "metadata": {},
   "outputs": [
    {
     "name": "stdout",
     "output_type": "stream",
     "text": [
      "bab\n"
     ]
    }
   ],
   "source": [
    "def longest_palindrome(s):\n",
    "    def expand_around_center(left, right):\n",
    "        while left >= 0 and right < len(s) and s[left] == s[right]:\n",
    "            left -= 1\n",
    "            right += 1\n",
    "        return s[left + 1:right]\n",
    "    \n",
    "    longest = \"\"\n",
    "    for i in range(len(s)):\n",
    "        # Check for odd length palindrome\n",
    "        odd_palindrome = expand_around_center(i, i)\n",
    "        if len(odd_palindrome) > len(longest):\n",
    "            longest = odd_palindrome\n",
    "        # Check for even length palindrome\n",
    "        even_palindrome = expand_around_center(i, i + 1)\n",
    "        if len(even_palindrome) > len(longest):\n",
    "            longest = even_palindrome\n",
    "    return longest\n",
    "\n",
    "# Example usage\n",
    "s = \"babad\"\n",
    "print(longest_palindrome(s))  # Output: \"bab\" or \"aba\""
   ]
  },
  {
   "cell_type": "markdown",
   "metadata": {},
   "source": [
    "9. Find the Intersection of Two Arrays\n",
    "\n",
    "**Problem**:  \n",
    "Given two arrays, find their intersection (common elements).\n",
    "\n",
    "**Input**:  \n",
    "Two arrays, e.g., `[1, 2, 2, 1]` and `[2, 2]`\n",
    "\n",
    "**Output**:  \n",
    "The intersection array, e.g., `[2, 2]`"
   ]
  },
  {
   "cell_type": "code",
   "execution_count": 19,
   "metadata": {},
   "outputs": [
    {
     "name": "stdout",
     "output_type": "stream",
     "text": [
      "[2]\n"
     ]
    }
   ],
   "source": [
    "def intersection(arr1, arr2):\n",
    "    return list(set(arr1) & set(arr2))\n",
    "\n",
    "# Example usage\n",
    "arr1 = [1, 2, 2, 1]\n",
    "arr2 = [2, 2]\n",
    "print(intersection(arr1, arr2))  # Output: [2]"
   ]
  },
  {
   "cell_type": "markdown",
   "metadata": {},
   "source": [
    "10. Find the Longest Substring Without Repeating Characters\n",
    "\n",
    "**Problem**:  \n",
    "Write a function to find the length of the longest substring without repeating characters in a given string.\n",
    "\n",
    "**Input**:  \n",
    "A string, e.g., `\"abcabcbb\"`\n",
    "\n",
    "**Output**:  \n",
    "The length of the longest substring, e.g., `3` (`\"abc\"`)"
   ]
  },
  {
   "cell_type": "code",
   "execution_count": 20,
   "metadata": {},
   "outputs": [
    {
     "name": "stdout",
     "output_type": "stream",
     "text": [
      "3\n"
     ]
    }
   ],
   "source": [
    "def longest_unique_substring(s):\n",
    "    char_map = {}\n",
    "    left = max_len = 0\n",
    "    for right in range(len(s)):\n",
    "        if s[right] in char_map:\n",
    "            left = max(left, char_map[s[right]] + 1)\n",
    "        char_map[s[right]] = right\n",
    "        max_len = max(max_len, right - left + 1)\n",
    "    return max_len\n",
    "\n",
    "# Example usage\n",
    "s = \"abcabcbb\"\n",
    "print(longest_unique_substring(s))  # Output: 3"
   ]
  },
  {
   "cell_type": "markdown",
   "metadata": {},
   "source": [
    "## Practice questions - Accenture"
   ]
  },
  {
   "cell_type": "markdown",
   "metadata": {},
   "source": [
    "1. Find the Longest Palindromic Substring\n",
    "\n",
    "**Problem**:  \n",
    "Write a function to find the longest palindromic substring in a given string.\n",
    "\n",
    "**Input**:  \n",
    "A string, e.g., `\"babad\"`\n",
    "\n",
    "**Output**:  \n",
    "The longest palindromic substring, e.g., `\"bab\"` or `\"aba\"`"
   ]
  },
  {
   "cell_type": "code",
   "execution_count": 21,
   "metadata": {},
   "outputs": [
    {
     "name": "stdout",
     "output_type": "stream",
     "text": [
      "bab\n"
     ]
    }
   ],
   "source": [
    "def longest_palindrome(s):\n",
    "    def expand_around_center(left, right):\n",
    "        while left >= 0 and right < len(s) and s[left] == s[right]:\n",
    "            left -= 1\n",
    "            right += 1\n",
    "        return s[left + 1:right]\n",
    "    \n",
    "    longest = \"\"\n",
    "    for i in range(len(s)):\n",
    "        # Check for odd length palindrome\n",
    "        odd_palindrome = expand_around_center(i, i)\n",
    "        if len(odd_palindrome) > len(longest):\n",
    "            longest = odd_palindrome\n",
    "        # Check for even length palindrome\n",
    "        even_palindrome = expand_around_center(i, i + 1)\n",
    "        if len(even_palindrome) > len(longest):\n",
    "            longest = even_palindrome\n",
    "    return longest\n",
    "\n",
    "# Example usage\n",
    "s = \"babad\"\n",
    "print(longest_palindrome(s))  # Output: \"bab\" or \"aba\""
   ]
  },
  {
   "cell_type": "markdown",
   "metadata": {},
   "source": [
    "2. Reverse an Integer\n",
    "\n",
    "**Problem**:  \n",
    "Write a function to reverse an integer. If the reversed integer overflows, return `0`.\n",
    "\n",
    "**Input**:  \n",
    "An integer, e.g., `123`\n",
    "\n",
    "**Output**:  \n",
    "The reversed integer, e.g., `321`"
   ]
  },
  {
   "cell_type": "code",
   "execution_count": 22,
   "metadata": {},
   "outputs": [
    {
     "name": "stdout",
     "output_type": "stream",
     "text": [
      "321\n"
     ]
    }
   ],
   "source": [
    "def reverse_integer(n):\n",
    "    result = 0\n",
    "    while n != 0:\n",
    "        digit = n % 10\n",
    "        result = result * 10 + digit\n",
    "        n //= 10\n",
    "    return result\n",
    "\n",
    "# Example usage\n",
    "n = 123\n",
    "print(reverse_integer(n))  # Output: 321"
   ]
  },
  {
   "cell_type": "markdown",
   "metadata": {},
   "source": [
    "3. Find Duplicate in an Array\n",
    "\n",
    "**Problem**:  \n",
    "Given an array of integers, find if any value appears at least twice in the array.\n",
    "\n",
    "**Input**:  \n",
    "An array, e.g., `[1, 2, 3, 4, 5, 6, 2]`\n",
    "\n",
    "**Output**:  \n",
    "`True` if a duplicate exists, otherwise `False`."
   ]
  },
  {
   "cell_type": "code",
   "execution_count": 23,
   "metadata": {},
   "outputs": [
    {
     "name": "stdout",
     "output_type": "stream",
     "text": [
      "True\n"
     ]
    }
   ],
   "source": [
    "def has_duplicate(arr):\n",
    "    return len(arr) != len(set(arr))\n",
    "\n",
    "# Example usage\n",
    "arr = [1, 2, 3, 4, 5, 6, 2]\n",
    "print(has_duplicate(arr))  # Output: True"
   ]
  },
  {
   "cell_type": "markdown",
   "metadata": {},
   "source": [
    "4. Find the Majority Element\n",
    "\n",
    "**Problem**:  \n",
    "Given an array of size `n`, find the majority element (the element that appears more than `n/2` times).\n",
    "\n",
    "**Input**:  \n",
    "An array, e.g., `[3, 2, 3]`\n",
    "\n",
    "**Output**:  \n",
    "The majority element, e.g., `3`"
   ]
  },
  {
   "cell_type": "code",
   "execution_count": 24,
   "metadata": {},
   "outputs": [
    {
     "name": "stdout",
     "output_type": "stream",
     "text": [
      "3\n"
     ]
    }
   ],
   "source": [
    "def majority_element(nums):\n",
    "    count, candidate = 0, None\n",
    "    for num in nums:\n",
    "        if count == 0:\n",
    "            candidate = num\n",
    "        count += (1 if num == candidate else -1)\n",
    "    return candidate\n",
    "\n",
    "# Example usage\n",
    "arr = [3, 2, 3]\n",
    "print(majority_element(arr))  # Output: 3"
   ]
  },
  {
   "cell_type": "markdown",
   "metadata": {},
   "source": [
    "5. Check for Balanced Parentheses\n",
    "\n",
    "**Problem**:  \n",
    "Given a string containing just the characters `'('`, `')'`, `{`, `}`, `[`, `]`, determine if the input string is valid (i.e., every opening bracket has a corresponding closing bracket).\n",
    "\n",
    "**Input**:  \n",
    "A string, e.g., `\"{[]}\"`\n",
    "\n",
    "**Output**:  \n",
    "`True` if the string is valid, otherwise `False`."
   ]
  },
  {
   "cell_type": "code",
   "execution_count": 25,
   "metadata": {},
   "outputs": [
    {
     "name": "stdout",
     "output_type": "stream",
     "text": [
      "True\n"
     ]
    }
   ],
   "source": [
    "def is_valid_parentheses(s):\n",
    "    stack = []\n",
    "    mapping = {')': '(', '}': '{', ']': '['}\n",
    "    for char in s:\n",
    "        if char in mapping:\n",
    "            top_element = stack.pop() if stack else '#'\n",
    "            if mapping[char] != top_element:\n",
    "                return False\n",
    "        else:\n",
    "            stack.append(char)\n",
    "    return not stack\n",
    "\n",
    "# Example usage\n",
    "s = \"{[]}\"\n",
    "print(is_valid_parentheses(s))  # Output: True"
   ]
  },
  {
   "cell_type": "markdown",
   "metadata": {},
   "source": [
    "6. Merge Two Sorted Arrays\n",
    "\n",
    "**Problem**:  \n",
    "Given two sorted arrays, merge them into a single sorted array.\n",
    "\n",
    "**Input**:  \n",
    "Two arrays, e.g., `[1, 3, 5]` and `[2, 4, 6]`\n",
    "\n",
    "**Output**:  \n",
    "A merged sorted array, e.g., `[1, 2, 3, 4, 5, 6]`"
   ]
  },
  {
   "cell_type": "code",
   "execution_count": 26,
   "metadata": {},
   "outputs": [
    {
     "name": "stdout",
     "output_type": "stream",
     "text": [
      "[1, 2, 3, 4, 5, 6]\n"
     ]
    }
   ],
   "source": [
    "def merge_sorted_arrays(arr1, arr2):\n",
    "    i, j, result = 0, 0, []\n",
    "    while i < len(arr1) and j < len(arr2):\n",
    "        if arr1[i] < arr2[j]:\n",
    "            result.append(arr1[i])\n",
    "            i += 1\n",
    "        else:\n",
    "            result.append(arr2[j])\n",
    "            j += 1\n",
    "    result.extend(arr1[i:])\n",
    "    result.extend(arr2[j:])\n",
    "    return result\n",
    "\n",
    "# Example usage\n",
    "arr1 = [1, 3, 5]\n",
    "arr2 = [2, 4, 6]\n",
    "print(merge_sorted_arrays(arr1, arr2))  # Output: [1, 2, 3, 4, 5, 6]"
   ]
  },
  {
   "cell_type": "markdown",
   "metadata": {},
   "source": [
    "7. Find the Intersection of Two Arrays\n",
    "\n",
    "**Problem**:  \n",
    "Given two arrays, find their intersection (common elements).\n",
    "\n",
    "**Input**:  \n",
    "Two arrays, e.g., `[1, 2, 2, 1]` and `[2, 2]`\n",
    "\n",
    "**Output**:  \n",
    "The intersection array, e.g., `[2, 2]`"
   ]
  },
  {
   "cell_type": "code",
   "execution_count": 27,
   "metadata": {},
   "outputs": [
    {
     "name": "stdout",
     "output_type": "stream",
     "text": [
      "[2]\n"
     ]
    }
   ],
   "source": [
    "def intersection(arr1, arr2):\n",
    "    return list(set(arr1) & set(arr2))\n",
    "\n",
    "# Example usage\n",
    "arr1 = [1, 2, 2, 1]\n",
    "arr2 = [2, 2]\n",
    "print(intersection(arr1, arr2))  # Output: [2]"
   ]
  },
  {
   "cell_type": "markdown",
   "metadata": {},
   "source": [
    "8. Find the Kth Largest Element in an Array\n",
    "\n",
    "**Problem**:  \n",
    "Find the `k`th largest element in an unsorted array.\n",
    "\n",
    "**Input**:  \n",
    "An array and an integer `k`, e.g., `[3, 2, 1, 5, 6, 4]` and `k = 2`\n",
    "\n",
    "**Output**:  \n",
    "The `k`th largest element, e.g., `5`"
   ]
  },
  {
   "cell_type": "code",
   "execution_count": 28,
   "metadata": {},
   "outputs": [
    {
     "name": "stdout",
     "output_type": "stream",
     "text": [
      "5\n"
     ]
    }
   ],
   "source": [
    "import heapq\n",
    "\n",
    "def find_kth_largest(nums, k):\n",
    "    return heapq.nlargest(k, nums)[-1]\n",
    "\n",
    "# Example usage\n",
    "nums = [3, 2, 1, 5, 6, 4]\n",
    "k = 2\n",
    "print(find_kth_largest(nums, k))  # Output: 5"
   ]
  },
  {
   "cell_type": "markdown",
   "metadata": {},
   "source": [
    "9. Sort a List of Strings by Length\n",
    "\n",
    "**Problem**:  \n",
    "Sort a list of strings based on the length of each string.\n",
    "\n",
    "**Input**:  \n",
    "A list of strings, e.g., `[\"apple\", \"banana\", \"kiwi\", \"orange\"]`\n",
    "\n",
    "**Output**:  \n",
    "The list sorted by length, e.g., `[\"kiwi\", \"apple\", \"orange\", \"banana\"]`"
   ]
  },
  {
   "cell_type": "code",
   "execution_count": 29,
   "metadata": {},
   "outputs": [
    {
     "name": "stdout",
     "output_type": "stream",
     "text": [
      "['kiwi', 'apple', 'banana', 'orange']\n"
     ]
    }
   ],
   "source": [
    "def sort_by_length(arr):\n",
    "    return sorted(arr, key=len)\n",
    "\n",
    "# Example usage\n",
    "arr = [\"apple\", \"banana\", \"kiwi\", \"orange\"]\n",
    "print(sort_by_length(arr))  # Output: ['kiwi', 'apple', 'orange', 'banana']"
   ]
  },
  {
   "cell_type": "markdown",
   "metadata": {},
   "source": [
    "10. Find the Common Characters in All Strings\n",
    "\n",
    "**Problem**:  \n",
    "Given a list of strings, find all characters that are common to all strings.\n",
    "\n",
    "**Input**:  \n",
    "A list of strings, e.g., `[\"bella\", \"label\", \"roller\"]`\n",
    "\n",
    "**Output**:  \n",
    "A list of common characters, e.g., `[\"e\", \"l\"]`"
   ]
  },
  {
   "cell_type": "code",
   "execution_count": 30,
   "metadata": {},
   "outputs": [
    {
     "name": "stdout",
     "output_type": "stream",
     "text": [
      "['e', 'l', 'l']\n"
     ]
    }
   ],
   "source": [
    "from collections import Counter\n",
    "\n",
    "def common_chars(words):\n",
    "    result = Counter(words[0])\n",
    "    for word in words[1:]:\n",
    "        result &= Counter(word)\n",
    "    return list(result.elements())\n",
    "\n",
    "# Example usage\n",
    "words = [\"bella\", \"label\", \"roller\"]\n",
    "print(common_chars(words))  # Output: ['e', 'l', 'l']"
   ]
  }
 ],
 "metadata": {
  "kernelspec": {
   "display_name": "Python 3",
   "language": "python",
   "name": "python3"
  },
  "language_info": {
   "codemirror_mode": {
    "name": "ipython",
    "version": 3
   },
   "file_extension": ".py",
   "mimetype": "text/x-python",
   "name": "python",
   "nbconvert_exporter": "python",
   "pygments_lexer": "ipython3",
   "version": "3.12.6"
  }
 },
 "nbformat": 4,
 "nbformat_minor": 4
}
